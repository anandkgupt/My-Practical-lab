{
  "nbformat": 4,
  "nbformat_minor": 0,
  "metadata": {
    "colab": {
      "provenance": [],
      "authorship_tag": "ABX9TyNk3CkJIS4FjG7c2UnE2o88",
      "include_colab_link": true
    },
    "kernelspec": {
      "name": "python3",
      "display_name": "Python 3"
    },
    "language_info": {
      "name": "python"
    }
  },
  "cells": [
    {
      "cell_type": "markdown",
      "metadata": {
        "id": "view-in-github",
        "colab_type": "text"
      },
      "source": [
        "<a href=\"https://colab.research.google.com/github/anandkgupt/My-Practical-lab/blob/main/OOPS.ipynb\" target=\"_parent\"><img src=\"https://colab.research.google.com/assets/colab-badge.svg\" alt=\"Open In Colab\"/></a>"
      ]
    },
    {
      "cell_type": "markdown",
      "source": [
        "OOPS"
      ],
      "metadata": {
        "id": "G0eQX0sJaQ8I"
      }
    },
    {
      "cell_type": "code",
      "source": [
        "# Create an object\n",
        "c1 = Car(\"Toyota\", \"Corolla\")\n",
        "print(type(c1))\n"
      ],
      "metadata": {
        "colab": {
          "base_uri": "https://localhost:8080/"
        },
        "id": "24Dh9IZvaRa4",
        "outputId": "6cc0a06c-af8c-4da5-bc62-c990529d382b"
      },
      "execution_count": null,
      "outputs": [
        {
          "output_type": "stream",
          "name": "stdout",
          "text": [
            "<class '__main__.Car'>\n"
          ]
        }
      ]
    },
    {
      "cell_type": "code",
      "source": [
        "class car: ## function/method of a car\n",
        "  pass"
      ],
      "metadata": {
        "id": "Xw7yeJTzbQWL"
      },
      "execution_count": null,
      "outputs": []
    },
    {
      "cell_type": "code",
      "source": [
        "c2= car()\n",
        "print((c2))"
      ],
      "metadata": {
        "colab": {
          "base_uri": "https://localhost:8080/"
        },
        "id": "RfEE4ISYcIA6",
        "outputId": "17851b5c-0199-420c-8981-8af2755617df"
      },
      "execution_count": null,
      "outputs": [
        {
          "output_type": "stream",
          "name": "stdout",
          "text": [
            "<__main__.car object at 0x7e2dc84a5330>\n"
          ]
        }
      ]
    },
    {
      "cell_type": "code",
      "source": [
        "class car: ## function/method of a car\n",
        "  def accelerate(self):\n",
        "  ## self is a parameter/variable that represent instance of the class using which you can access method\n",
        "  ## self make sure that each object knows that the method is associated with it\n",
        "  ## in order word the method is referenced to that particular object\n",
        "    print(\"car is accelerating\")"
      ],
      "metadata": {
        "id": "93yKSyClcPRU"
      },
      "execution_count": null,
      "outputs": []
    },
    {
      "cell_type": "code",
      "source": [
        "c2= car()"
      ],
      "metadata": {
        "id": "4sJEp2Lzc-R_"
      },
      "execution_count": null,
      "outputs": []
    },
    {
      "cell_type": "code",
      "source": [
        "c2.accelerate()"
      ],
      "metadata": {
        "colab": {
          "base_uri": "https://localhost:8080/"
        },
        "id": "POSJgxq9dsxE",
        "outputId": "8704aa9c-a520-4cff-a135-0812e28ad5d2"
      },
      "execution_count": null,
      "outputs": [
        {
          "output_type": "stream",
          "name": "stdout",
          "text": [
            "car is accelerating\n"
          ]
        }
      ]
    },
    {
      "cell_type": "code",
      "source": [
        "c3= car()\n",
        "c3.accelerate()"
      ],
      "metadata": {
        "colab": {
          "base_uri": "https://localhost:8080/"
        },
        "id": "5Gesg9Hjd0lQ",
        "outputId": "98bfaac3-364c-4d81-c22f-2fdb9b2e6275"
      },
      "execution_count": null,
      "outputs": [
        {
          "output_type": "stream",
          "name": "stdout",
          "text": [
            "car is accelerating\n"
          ]
        }
      ]
    },
    {
      "cell_type": "code",
      "source": [
        "class car:\n",
        "  def accelerate(self):\n",
        "    print(\"car is accelerating\")\n",
        "  def brake(self):\n",
        "    print(\"car is braking\")"
      ],
      "metadata": {
        "id": "faVHptAxeBYv"
      },
      "execution_count": null,
      "outputs": []
    },
    {
      "cell_type": "code",
      "source": [
        "c2= car()\n",
        "c2.accelerate()\n",
        "c2.brake()"
      ],
      "metadata": {
        "colab": {
          "base_uri": "https://localhost:8080/"
        },
        "id": "N7eVF5KGg4IG",
        "outputId": "81c5030b-4c3f-4c39-e59f-0e495f3f0294"
      },
      "execution_count": null,
      "outputs": [
        {
          "output_type": "stream",
          "name": "stdout",
          "text": [
            "car is accelerating\n",
            "car is braking\n"
          ]
        }
      ]
    },
    {
      "cell_type": "code",
      "source": [
        "c2.brake()"
      ],
      "metadata": {
        "colab": {
          "base_uri": "https://localhost:8080/"
        },
        "id": "u7wxsZY3g8x7",
        "outputId": "94feaf5d-5313-48b8-9fc3-04113f26bf06"
      },
      "execution_count": null,
      "outputs": [
        {
          "output_type": "stream",
          "name": "stdout",
          "text": [
            "car is braking\n"
          ]
        }
      ]
    },
    {
      "cell_type": "code",
      "source": [
        "c2.accelerate()"
      ],
      "metadata": {
        "colab": {
          "base_uri": "https://localhost:8080/"
        },
        "id": "pXLmnTH5g80T",
        "outputId": "780ed89c-694b-444f-9603-7248938e404c"
      },
      "execution_count": null,
      "outputs": [
        {
          "output_type": "stream",
          "name": "stdout",
          "text": [
            "car is accelerating\n"
          ]
        }
      ]
    },
    {
      "cell_type": "code",
      "source": [
        "class bank:\n",
        "  def deposit(self):\n",
        "    print(\"depositing money\")\n",
        "  def withdraw(self):\n",
        "    print(\"withdrawing money\")\n",
        "    ## self is not python keyword, you can pass any variable name\n",
        "    ## best practice is to self pass"
      ],
      "metadata": {
        "id": "53C0B-GJg820"
      },
      "execution_count": null,
      "outputs": []
    },
    {
      "cell_type": "code",
      "source": [
        "b1= bank()\n",
        "b1.deposit()\n",
        "b1.withdraw()"
      ],
      "metadata": {
        "colab": {
          "base_uri": "https://localhost:8080/"
        },
        "id": "yX5Tknqlg85W",
        "outputId": "6db92458-b458-4c86-a1db-1d2764be4873"
      },
      "execution_count": null,
      "outputs": [
        {
          "output_type": "stream",
          "name": "stdout",
          "text": [
            "depositing money\n",
            "withdrawing money\n"
          ]
        }
      ]
    },
    {
      "cell_type": "code",
      "source": [
        "class bank:\n",
        "  def deposit(self, amount):\n",
        "    print(\"depositing money\")\n",
        "  def withdraw(self, amount_withdraw):\n",
        "    print(\"withdrawing money\")"
      ],
      "metadata": {
        "id": "PJLaH_yAg87_"
      },
      "execution_count": null,
      "outputs": []
    },
    {
      "cell_type": "code",
      "source": [
        "anand= bank()\n",
        "anand.deposit(1000)\n",
        "anand.withdraw(500)"
      ],
      "metadata": {
        "colab": {
          "base_uri": "https://localhost:8080/"
        },
        "id": "AGz8l1sSg8-7",
        "outputId": "884ff2fd-1d43-42cc-d763-db6a2bf6c52b"
      },
      "execution_count": null,
      "outputs": [
        {
          "output_type": "stream",
          "name": "stdout",
          "text": [
            "depositing money\n",
            "withdrawing money\n"
          ]
        }
      ]
    },
    {
      "cell_type": "code",
      "source": [
        "## bank will ask for default amount, amount is attribute/property/data of the class bank\n",
        "class bank:\n",
        "  amount= 1000\n",
        "  def deposit(self, amount):\n",
        "    print(\"depositing money\")\n",
        "  def withdraw(self, amount_withdraw):\n",
        "    print(\"withdrawing money\")"
      ],
      "metadata": {
        "id": "lCljuxd7g9Cf"
      },
      "execution_count": null,
      "outputs": []
    },
    {
      "cell_type": "code",
      "source": [
        "##\n",
        "anand.amount"
      ],
      "metadata": {
        "colab": {
          "base_uri": "https://localhost:8080/"
        },
        "id": "s24oIv7qmyFr",
        "outputId": "f114085b-41f2-4f19-b5b3-aa746f5358a8"
      },
      "execution_count": null,
      "outputs": [
        {
          "output_type": "execute_result",
          "data": {
            "text/plain": [
              "1000"
            ]
          },
          "metadata": {},
          "execution_count": 41
        }
      ]
    },
    {
      "cell_type": "code",
      "source": [
        "##extract odd or even num in given list\n",
        "class ListOps:\n",
        "    l = [1, 2, 3, 4, 5]  # Class-level attribute\n",
        "\n",
        "    def extract_even(self):\n",
        "        l1 = []\n",
        "        for i in self.l:  # Access 'l' using 'self'\n",
        "            if i % 2 == 0:\n",
        "                l1.append(i)\n",
        "        return l1\n",
        "\n",
        "    def extract_odd(self):\n",
        "        l1 = []\n",
        "        for i in self.l:  # Access 'l' using 'self'\n",
        "            if i % 2 != 0:\n",
        "                l1.append(i)\n",
        "        return l1\n",
        "\n",
        "# Example Usage\n",
        "ops = ListOps()\n",
        "even_numbers = ops.extract_even()\n",
        "odd_numbers = ops.extract_odd()\n",
        "\n",
        "print(\"Even numbers:\", even_numbers)  # Output: [2, 4]\n",
        "print(\"Odd numbers:\", odd_numbers)    # Output: [1, 3, 5]\n",
        "\n",
        "\n"
      ],
      "metadata": {
        "colab": {
          "base_uri": "https://localhost:8080/"
        },
        "id": "z5oib5jpmyQt",
        "outputId": "c380a2b6-d959-4f50-cca2-08f3f7e7eb97"
      },
      "execution_count": 6,
      "outputs": [
        {
          "output_type": "stream",
          "name": "stdout",
          "text": [
            "Even numbers: [2, 4]\n",
            "Odd numbers: [1, 3, 5]\n"
          ]
        }
      ]
    },
    {
      "cell_type": "code",
      "source": [
        "class ListOps:\n",
        "    l = [1, 2, 3, 4, 5]  # Class-level attribute\n",
        "\n",
        "    def extract_even(self):\n",
        "        l1 = []\n",
        "        for i in self.l:  # Access the class-level list\n",
        "            if i % 2 == 0:\n",
        "                l1.append(i)\n",
        "        return l1\n",
        "\n",
        "    def extract_odd(self):\n",
        "        l1 = []\n",
        "        for i in self.l:  # Access the class-level list\n",
        "            if i % 2 != 0:\n",
        "                l1.append(i)\n",
        "        return l1\n",
        "\n",
        "# Creating an object of the class\n",
        "obj = ListOps()\n",
        "\n",
        "# Extract even numbers\n",
        "even_numbers = obj.extract_even()\n",
        "print(\"Even numbers:\", even_numbers)\n",
        "\n",
        "# Extract odd numbers\n",
        "odd_numbers = obj.extract_odd()\n",
        "print(\"Odd numbers:\", odd_numbers)\n"
      ],
      "metadata": {
        "colab": {
          "base_uri": "https://localhost:8080/"
        },
        "id": "NtcjgAnuqtok",
        "outputId": "35f42f17-bb2f-494b-d32b-b76a84b06dd8"
      },
      "execution_count": null,
      "outputs": [
        {
          "output_type": "stream",
          "name": "stdout",
          "text": [
            "Even numbers: [2, 4]\n",
            "Odd numbers: [1, 3, 5]\n"
          ]
        }
      ]
    },
    {
      "cell_type": "code",
      "source": [
        "ops1= ListOps()\n",
        "ops1.l"
      ],
      "metadata": {
        "colab": {
          "base_uri": "https://localhost:8080/"
        },
        "id": "U8tboRnMmyXC",
        "outputId": "c4be4fab-8ac6-44ec-a15f-af756f984fdf"
      },
      "execution_count": null,
      "outputs": [
        {
          "output_type": "execute_result",
          "data": {
            "text/plain": [
              "[1, 2, 3, 4, 5]"
            ]
          },
          "metadata": {},
          "execution_count": 49
        }
      ]
    },
    {
      "cell_type": "code",
      "source": [
        "## init/magic/dunder method\n",
        "class ListOps:\n",
        "    def __init__(self, lst):\n",
        "        \"\"\"Initialize the object with a list.\"\"\"\n",
        "        self.l = lst\n",
        "\n",
        "    def extract_even(self):\n",
        "        \"\"\"Extract even numbers from the list.\"\"\"\n",
        "        l1 = []\n",
        "        for i in self.l:\n",
        "            if i % 2 == 0:\n",
        "                l1.append(i)\n",
        "        return l1\n",
        "\n",
        "    def extract_odd(self):\n",
        "        \"\"\"Extract odd numbers from the list.\"\"\"\n",
        "        l1 = []\n",
        "        for i in self.l:\n",
        "            if i % 2 != 0:\n",
        "                l1.append(i)\n",
        "        return l1\n",
        "\n",
        "# Example Usage\n",
        "ops = ListOps([1, 2, 3, 4, 5])  # Pass the list during object creation\n",
        "even_numbers = ops.extract_even()\n",
        "odd_numbers = ops.extract_odd()\n",
        "\n",
        "print(\"Even numbers:\", even_numbers)  # Output: [2, 4]\n",
        "print(\"Odd numbers:\", odd_numbers)    # Output: [1, 3, 5]\n"
      ],
      "metadata": {
        "colab": {
          "base_uri": "https://localhost:8080/"
        },
        "id": "UwutNwe2O59Y",
        "outputId": "ac4728c4-e07f-4923-c057-e11d1e35a280"
      },
      "execution_count": 8,
      "outputs": [
        {
          "output_type": "stream",
          "name": "stdout",
          "text": [
            "Even numbers: [2, 4]\n",
            "Odd numbers: [1, 3, 5]\n"
          ]
        }
      ]
    },
    {
      "cell_type": "code",
      "source": [
        "ops1= ListOps([1,2,3,4,5,9,10])\n",
        "ops1.l"
      ],
      "metadata": {
        "colab": {
          "base_uri": "https://localhost:8080/"
        },
        "id": "7wttXH4-O6Iu",
        "outputId": "6b83b1ae-f46c-4fdb-ae2c-848dc56b707d"
      },
      "execution_count": 10,
      "outputs": [
        {
          "output_type": "execute_result",
          "data": {
            "text/plain": [
              "[1, 2, 3, 4, 5, 9, 10]"
            ]
          },
          "metadata": {},
          "execution_count": 10
        }
      ]
    },
    {
      "cell_type": "code",
      "source": [
        "ops2= ListOps([11,12,13,14,15])\n",
        "ops2.l"
      ],
      "metadata": {
        "colab": {
          "base_uri": "https://localhost:8080/"
        },
        "id": "a0FmW08lO6L9",
        "outputId": "7d863238-2c86-466d-b63f-e1ea2cafef47"
      },
      "execution_count": 11,
      "outputs": [
        {
          "output_type": "execute_result",
          "data": {
            "text/plain": [
              "[11, 12, 13, 14, 15]"
            ]
          },
          "metadata": {},
          "execution_count": 11
        }
      ]
    },
    {
      "cell_type": "code",
      "source": [
        "class ListOps:\n",
        "    def __init__(self, lst):\n",
        "        # 'self.l' is an instance attribute initialized with the provided list\n",
        "        self.l = lst\n",
        "\n",
        "    def extract_even(self):\n",
        "        \"\"\"Extract even numbers from the instance's list.\"\"\"\n",
        "        return [x for x in self.l if x % 2 == 0]\n",
        "\n",
        "    def extract_odd(self):\n",
        "        \"\"\"Extract odd numbers from the instance's list.\"\"\"\n",
        "        return [x for x in self.l if x % 2 != 0]\n",
        "\n",
        "# Create two instances with different lists\n",
        "ops1 = ListOps([1, 2, 3, 4, 5])\n",
        "ops2 = ListOps([10, 15, 20, 25])\n",
        "\n",
        "# Each instance works on its own 'self.l'\n",
        "print(\"ops1 even numbers:\", ops1.extract_even())  # Output: [2, 4]\n",
        "print(\"ops1 odd numbers:\", ops1.extract_odd())    # Output: [1, 3, 5]\n",
        "\n",
        "print(\"ops2 even numbers:\", ops2.extract_even())  # Output: [10, 20]\n",
        "print(\"ops2 odd numbers:\", ops2.extract_odd())    # Output: [15, 25]\n"
      ],
      "metadata": {
        "colab": {
          "base_uri": "https://localhost:8080/"
        },
        "id": "5QOrAVLMO6Oq",
        "outputId": "28750513-3adc-423f-f300-def5039a6a92"
      },
      "execution_count": 12,
      "outputs": [
        {
          "output_type": "stream",
          "name": "stdout",
          "text": [
            "ops1 even numbers: [2, 4]\n",
            "ops1 odd numbers: [1, 3, 5]\n",
            "ops2 even numbers: [10, 20]\n",
            "ops2 odd numbers: [15, 25]\n"
          ]
        }
      ]
    },
    {
      "cell_type": "code",
      "source": [
        "class ListOps:\n",
        "    def __init__(self, l):\n",
        "        # Assign the parameter 'l' to the instance attribute 'self.l'\n",
        "        self.l = l\n",
        "\n",
        "    def extract_even(self):\n",
        "        \"\"\"Extract even numbers from the instance's list.\"\"\"\n",
        "        return [x for x in self.l if x % 2 == 0]\n",
        "\n",
        "    def extract_odd(self):\n",
        "        \"\"\"Extract odd numbers from the instance's list.\"\"\"\n",
        "        return [x for x in self.l if x % 2 != 0]\n",
        "\n",
        "# Create instances with different lists\n",
        "ops1 = ListOps([1, 2, 3, 4, 5])\n",
        "ops2 = ListOps([10, 15, 20, 25])\n",
        "\n",
        "# Call methods on each instance\n",
        "print(\"ops1 even numbers:\", ops1.extract_even())  # Output: [2, 4]\n",
        "print(\"ops1 odd numbers:\", ops1.extract_odd())    # Output: [1, 3, 5]\n",
        "\n",
        "print(\"ops2 even numbers:\", ops2.extract_even())  # Output: [10, 20]\n",
        "print(\"ops2 odd numbers:\", ops2.extract_odd())    # Output: [15, 25]\n"
      ],
      "metadata": {
        "colab": {
          "base_uri": "https://localhost:8080/"
        },
        "id": "L3wx9EsAO6R4",
        "outputId": "5223f27c-4c67-42c3-e584-853727d3366a"
      },
      "execution_count": 13,
      "outputs": [
        {
          "output_type": "stream",
          "name": "stdout",
          "text": [
            "ops1 even numbers: [2, 4]\n",
            "ops1 odd numbers: [1, 3, 5]\n",
            "ops2 even numbers: [10, 20]\n",
            "ops2 odd numbers: [15, 25]\n"
          ]
        }
      ]
    },
    {
      "cell_type": "code",
      "source": [
        "##a class with multiple attributes, such as author, title, and name\n",
        "class Book:\n",
        "    def __init__(self, author, title, name):\n",
        "        # Initialize multiple attributes\n",
        "        self.author = author\n",
        "        self.title = title\n",
        "        self.name = name\n",
        "\n",
        "    def display_details(self):\n",
        "        \"\"\"Display details of the book.\"\"\"\n",
        "        return f\"Author: {self.author}, Title: {self.title}, Name: {self.name}\"\n",
        "\n",
        "# Example usage\n",
        "book1 = Book(\"George Orwell\", \"1984\", \"Dystopian Classic\")\n",
        "book2 = Book(\"J.K. Rowling\", \"Harry Potter\", \"Fantasy Adventure\")\n",
        "\n",
        "# Display details of each book\n",
        "print(book1.display_details())  # Output: Author: George Orwell, Title: 1984, Name: Dystopian Classic\n",
        "print(book2.display_details())  # Output: Author: J.K. Rowling, Title: Harry Potter, Name: Fantasy Adventure\n"
      ],
      "metadata": {
        "colab": {
          "base_uri": "https://localhost:8080/"
        },
        "id": "s9ZNEedcO6U4",
        "outputId": "8e3d0048-f87a-42b2-db97-cb6ee550bd5a"
      },
      "execution_count": 14,
      "outputs": [
        {
          "output_type": "stream",
          "name": "stdout",
          "text": [
            "Author: George Orwell, Title: 1984, Name: Dystopian Classic\n",
            "Author: J.K. Rowling, Title: Harry Potter, Name: Fantasy Adventure\n"
          ]
        }
      ]
    },
    {
      "cell_type": "code",
      "source": [],
      "metadata": {
        "id": "1nEikXz5O6Yg"
      },
      "execution_count": null,
      "outputs": []
    }
  ]
}