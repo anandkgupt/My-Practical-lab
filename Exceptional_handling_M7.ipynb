{
  "nbformat": 4,
  "nbformat_minor": 0,
  "metadata": {
    "colab": {
      "provenance": [],
      "authorship_tag": "ABX9TyMlXwdeowSllko6+Y/VCQZz",
      "include_colab_link": true
    },
    "kernelspec": {
      "name": "python3",
      "display_name": "Python 3"
    },
    "language_info": {
      "name": "python"
    }
  },
  "cells": [
    {
      "cell_type": "markdown",
      "metadata": {
        "id": "view-in-github",
        "colab_type": "text"
      },
      "source": [
        "<a href=\"https://colab.research.google.com/github/anandkgupt/My-Practical-lab/blob/main/Exceptional_handling_M7.ipynb\" target=\"_parent\"><img src=\"https://colab.research.google.com/assets/colab-badge.svg\" alt=\"Open In Colab\"/></a>"
      ]
    },
    {
      "cell_type": "markdown",
      "source": [
        "**Exceptional Handling**\n",
        "\n",
        "Exception handling in programming is a mechanism that allows a program to deal with unexpected events or errors gracefully, without crashing. It uses constructs like try, except, finally, and else to handle potential issues during runtime."
      ],
      "metadata": {
        "id": "oC3jk3NBAiVi"
      }
    },
    {
      "cell_type": "code",
      "source": [
        "##generally something that disrups the normal event is exception"
      ],
      "metadata": {
        "id": "FSbGSmWuAm7d"
      },
      "execution_count": null,
      "outputs": []
    },
    {
      "cell_type": "code",
      "source": [
        "9/5"
      ],
      "metadata": {
        "colab": {
          "base_uri": "https://localhost:8080/"
        },
        "id": "2oc0KZldAodW",
        "outputId": "4a9aa903-ce5e-4efc-9ab2-a680736b0c62"
      },
      "execution_count": null,
      "outputs": [
        {
          "output_type": "execute_result",
          "data": {
            "text/plain": [
              "1.8"
            ]
          },
          "metadata": {},
          "execution_count": 2
        }
      ]
    },
    {
      "cell_type": "code",
      "source": [
        "print(4/3)\n",
        "print(\"My name is Anand\")\n",
        "print(3.5)\n",
        "print(4+9)\n",
        "print(6/0)  #suspicious code\n",
        "print(3-2)\n",
        "print(5*6)"
      ],
      "metadata": {
        "colab": {
          "base_uri": "https://localhost:8080/",
          "height": 280
        },
        "id": "3yXtDuocAofv",
        "outputId": "958dabc9-4445-4e52-c3cf-9848ddf2c22a"
      },
      "execution_count": null,
      "outputs": [
        {
          "output_type": "stream",
          "name": "stdout",
          "text": [
            "1.3333333333333333\n",
            "My name is Anand\n",
            "3.5\n",
            "13\n"
          ]
        },
        {
          "output_type": "error",
          "ename": "ZeroDivisionError",
          "evalue": "division by zero",
          "traceback": [
            "\u001b[0;31m---------------------------------------------------------------------------\u001b[0m",
            "\u001b[0;31mZeroDivisionError\u001b[0m                         Traceback (most recent call last)",
            "\u001b[0;32m<ipython-input-8-3ea7c1476ed6>\u001b[0m in \u001b[0;36m<cell line: 5>\u001b[0;34m()\u001b[0m\n\u001b[1;32m      3\u001b[0m \u001b[0mprint\u001b[0m\u001b[0;34m(\u001b[0m\u001b[0;36m3.5\u001b[0m\u001b[0;34m)\u001b[0m\u001b[0;34m\u001b[0m\u001b[0;34m\u001b[0m\u001b[0m\n\u001b[1;32m      4\u001b[0m \u001b[0mprint\u001b[0m\u001b[0;34m(\u001b[0m\u001b[0;36m4\u001b[0m\u001b[0;34m+\u001b[0m\u001b[0;36m9\u001b[0m\u001b[0;34m)\u001b[0m\u001b[0;34m\u001b[0m\u001b[0;34m\u001b[0m\u001b[0m\n\u001b[0;32m----> 5\u001b[0;31m \u001b[0mprint\u001b[0m\u001b[0;34m(\u001b[0m\u001b[0;36m6\u001b[0m\u001b[0;34m/\u001b[0m\u001b[0;36m0\u001b[0m\u001b[0;34m)\u001b[0m\u001b[0;34m\u001b[0m\u001b[0;34m\u001b[0m\u001b[0m\n\u001b[0m\u001b[1;32m      6\u001b[0m \u001b[0mprint\u001b[0m\u001b[0;34m(\u001b[0m\u001b[0;36m3\u001b[0m\u001b[0;34m-\u001b[0m\u001b[0;36m2\u001b[0m\u001b[0;34m)\u001b[0m\u001b[0;34m\u001b[0m\u001b[0;34m\u001b[0m\u001b[0m\n\u001b[1;32m      7\u001b[0m \u001b[0mprint\u001b[0m\u001b[0;34m(\u001b[0m\u001b[0;36m5\u001b[0m\u001b[0;34m*\u001b[0m\u001b[0;36m6\u001b[0m\u001b[0;34m)\u001b[0m\u001b[0;34m\u001b[0m\u001b[0;34m\u001b[0m\u001b[0m\n",
            "\u001b[0;31mZeroDivisionError\u001b[0m: division by zero"
          ]
        }
      ]
    },
    {
      "cell_type": "code",
      "source": [
        "print(\"this is my first line code\")\n",
        "print(3*6*2)\n",
        "d = {'name':'Anand'}\n",
        "print(type(d))\n",
        "print(d[\"age\"])  #it threw an error thats why didnt code excute>> suspicious code\n",
        "print(\"This is last line code\")"
      ],
      "metadata": {
        "colab": {
          "base_uri": "https://localhost:8080/",
          "height": 245
        },
        "id": "dJckIYMyAoiO",
        "outputId": "07087bcf-ac3c-4870-e4d8-7619042abc4e"
      },
      "execution_count": null,
      "outputs": [
        {
          "output_type": "stream",
          "name": "stdout",
          "text": [
            "this is my first line code\n",
            "36\n",
            "<class 'dict'>\n"
          ]
        },
        {
          "output_type": "error",
          "ename": "KeyError",
          "evalue": "'age'",
          "traceback": [
            "\u001b[0;31m---------------------------------------------------------------------------\u001b[0m",
            "\u001b[0;31mKeyError\u001b[0m                                  Traceback (most recent call last)",
            "\u001b[0;32m<ipython-input-10-28d79aa82443>\u001b[0m in \u001b[0;36m<cell line: 5>\u001b[0;34m()\u001b[0m\n\u001b[1;32m      3\u001b[0m \u001b[0md\u001b[0m \u001b[0;34m=\u001b[0m \u001b[0;34m{\u001b[0m\u001b[0;34m'name'\u001b[0m\u001b[0;34m:\u001b[0m\u001b[0;34m'Anand'\u001b[0m\u001b[0;34m}\u001b[0m\u001b[0;34m\u001b[0m\u001b[0;34m\u001b[0m\u001b[0m\n\u001b[1;32m      4\u001b[0m \u001b[0mprint\u001b[0m\u001b[0;34m(\u001b[0m\u001b[0mtype\u001b[0m\u001b[0;34m(\u001b[0m\u001b[0md\u001b[0m\u001b[0;34m)\u001b[0m\u001b[0;34m)\u001b[0m\u001b[0;34m\u001b[0m\u001b[0;34m\u001b[0m\u001b[0m\n\u001b[0;32m----> 5\u001b[0;31m \u001b[0mprint\u001b[0m\u001b[0;34m(\u001b[0m\u001b[0md\u001b[0m\u001b[0;34m[\u001b[0m\u001b[0;34m\"age\"\u001b[0m\u001b[0;34m]\u001b[0m\u001b[0;34m)\u001b[0m\u001b[0;34m\u001b[0m\u001b[0;34m\u001b[0m\u001b[0m\n\u001b[0m\u001b[1;32m      6\u001b[0m \u001b[0mprint\u001b[0m\u001b[0;34m(\u001b[0m\u001b[0;34m\"This is last line code\"\u001b[0m\u001b[0;34m)\u001b[0m\u001b[0;34m\u001b[0m\u001b[0;34m\u001b[0m\u001b[0m\n",
            "\u001b[0;31mKeyError\u001b[0m: 'age'"
          ]
        }
      ]
    },
    {
      "cell_type": "code",
      "source": [
        "f = open(\"example.txt\", \"r\")\n",
        "print(6+3)\n",
        "print(\"This file is opened\")"
      ],
      "metadata": {
        "colab": {
          "base_uri": "https://localhost:8080/",
          "height": 176
        },
        "id": "jFyeWqwvAokd",
        "outputId": "ed8ee5dd-f275-4f07-8184-c3d64bd92d7a"
      },
      "execution_count": null,
      "outputs": [
        {
          "output_type": "error",
          "ename": "FileNotFoundError",
          "evalue": "[Errno 2] No such file or directory: 'example.txt'",
          "traceback": [
            "\u001b[0;31m---------------------------------------------------------------------------\u001b[0m",
            "\u001b[0;31mFileNotFoundError\u001b[0m                         Traceback (most recent call last)",
            "\u001b[0;32m<ipython-input-11-a66aa614bf64>\u001b[0m in \u001b[0;36m<cell line: 1>\u001b[0;34m()\u001b[0m\n\u001b[0;32m----> 1\u001b[0;31m \u001b[0mf\u001b[0m \u001b[0;34m=\u001b[0m \u001b[0mopen\u001b[0m\u001b[0;34m(\u001b[0m\u001b[0;34m\"example.txt\"\u001b[0m\u001b[0;34m,\u001b[0m \u001b[0;34m\"r\"\u001b[0m\u001b[0;34m)\u001b[0m\u001b[0;34m\u001b[0m\u001b[0;34m\u001b[0m\u001b[0m\n\u001b[0m\u001b[1;32m      2\u001b[0m \u001b[0mprint\u001b[0m\u001b[0;34m(\u001b[0m\u001b[0;36m6\u001b[0m\u001b[0;34m+\u001b[0m\u001b[0;36m3\u001b[0m\u001b[0;34m)\u001b[0m\u001b[0;34m\u001b[0m\u001b[0;34m\u001b[0m\u001b[0m\n\u001b[1;32m      3\u001b[0m \u001b[0mprint\u001b[0m\u001b[0;34m(\u001b[0m\u001b[0;34m\"This file is opened\"\u001b[0m\u001b[0;34m)\u001b[0m\u001b[0;34m\u001b[0m\u001b[0;34m\u001b[0m\u001b[0m\n",
            "\u001b[0;31mFileNotFoundError\u001b[0m: [Errno 2] No such file or directory: 'example.txt'"
          ]
        }
      ]
    },
    {
      "cell_type": "code",
      "source": [
        "##you were expecting sth but it didnt happen, due to which the suspicious line threw error and its\n",
        "#ZeroDivisionError: Dividing by zero,\n",
        "#ValueError: Passing an invalid value to a function,\n",
        "#IndexError: Accessing an invalid index in a list or string.\n",
        "#KeyError: Accessing a missing key in a dictionary.\n",
        "#FileNotFoundError\n",
        "\n",
        "#why do we need handle suspicios code>> Handling suspicious or potentially problematic code is essential for writing robust, secure, and user-friendly programs\n",
        "#how to handle exceptions >> Handling exceptions in Python involves using the try, except, else, and finally constructs\n"
      ],
      "metadata": {
        "id": "07fzsrFjAom8"
      },
      "execution_count": null,
      "outputs": []
    },
    {
      "cell_type": "code",
      "source": [
        "##syntax of try except\n",
        "#try:\n",
        "#   #suspicious code\n",
        "#except:\n",
        "#   #execute\n",
        "\n",
        "try:\n",
        "    f = open(\"example.txt\", \"r\")\n",
        "except Exception as e:\n",
        "  print(\"there is an issue\")\n",
        "print(6+3)\n",
        "print(\"This file is opened\")"
      ],
      "metadata": {
        "colab": {
          "base_uri": "https://localhost:8080/"
        },
        "id": "bNjV2RvuAopS",
        "outputId": "c84d300d-e64e-4ce1-b75f-991e9a69411c"
      },
      "execution_count": null,
      "outputs": [
        {
          "output_type": "stream",
          "name": "stdout",
          "text": [
            "there is an issue\n",
            "9\n",
            "This file is opened\n"
          ]
        }
      ]
    },
    {
      "cell_type": "code",
      "source": [
        "try:\n",
        "  5/0\n",
        "except Exception as e:  #exception will always come inside except block\n",
        "  print(e)\n",
        "print(6+3)\n",
        "print(\"This file is opened\")\n"
      ],
      "metadata": {
        "id": "GdmzPAYlAorh",
        "colab": {
          "base_uri": "https://localhost:8080/"
        },
        "outputId": "2434c506-1a77-46dd-b5f2-fca5035ee07e"
      },
      "execution_count": 1,
      "outputs": [
        {
          "output_type": "stream",
          "name": "stdout",
          "text": [
            "division by zero\n",
            "9\n",
            "This file is opened\n"
          ]
        }
      ]
    },
    {
      "cell_type": "code",
      "source": [
        "##case1\n",
        "try:\n",
        "  f = open(\"example.txt\", \"r\")\n",
        "except Exception as e:\n",
        "  print(\"there is an issue:\",e)\n",
        "else:\n",
        "  print(\"there is no issue\")\n",
        "  print(5+3)\n",
        "  print(\"This will be executed\")"
      ],
      "metadata": {
        "id": "A_EQDCKvAot-",
        "colab": {
          "base_uri": "https://localhost:8080/"
        },
        "outputId": "87e0ed7c-fa00-4aa6-d712-ecb80e225941"
      },
      "execution_count": 3,
      "outputs": [
        {
          "output_type": "stream",
          "name": "stdout",
          "text": [
            "there is an issue: [Errno 2] No such file or directory: 'example.txt'\n"
          ]
        }
      ]
    },
    {
      "cell_type": "code",
      "source": [
        "##case2\n",
        "try:\n",
        "  f = open(\"example.txt\", \"r\")\n",
        "  f.write(\"this is my first line\")\n",
        "except Exception as e:\n",
        "  print(\"there is an issue:\", e)\n",
        "else:\n",
        "  print(\"there is no issue\")\n",
        "  print(5/0)\n",
        "  print(\"This will be executed\")"
      ],
      "metadata": {
        "id": "usz7XS8_AowW",
        "colab": {
          "base_uri": "https://localhost:8080/"
        },
        "outputId": "c8cd7250-ab40-4b76-f0b5-c47b593164b9"
      },
      "execution_count": 6,
      "outputs": [
        {
          "output_type": "stream",
          "name": "stdout",
          "text": [
            "there is an issue: [Errno 2] No such file or directory: 'example.txt'\n"
          ]
        }
      ]
    },
    {
      "cell_type": "code",
      "source": [
        "try:\n",
        "  f = open(\"example.txt\", \"r\")\n",
        "  f.write(\"this is my first line\")\n",
        "except Exception as e:\n",
        "  print(\"there is an issue:\", e)\n",
        "else:\n",
        "  f.close()\n",
        "  print(\"there is no issue\")\n",
        "  print(5/0)\n",
        "  print(\"This will be executed\")"
      ],
      "metadata": {
        "id": "8RsENBx5Aoy0",
        "colab": {
          "base_uri": "https://localhost:8080/"
        },
        "outputId": "79afc2e1-ea99-45d2-9182-0ffa096036a3"
      },
      "execution_count": 8,
      "outputs": [
        {
          "output_type": "stream",
          "name": "stdout",
          "text": [
            "there is an issue: [Errno 2] No such file or directory: 'example.txt'\n"
          ]
        }
      ]
    },
    {
      "cell_type": "code",
      "source": [
        "##finally block\n",
        "try:\n",
        "  f = open(\"example.txt\", \"r\")\n",
        "  f.write(\"this is my first line\")\n",
        "except Exception as e:\n",
        "  print(\"there is an issue:\", e)\n",
        "else:\n",
        "  f.close()\n",
        "  print(\"there is no issue\")\n",
        "  print(5/0)\n",
        "  print(\"This will be executed\")\n",
        "finally:\n",
        "  print(\"this will be executed always\")\n"
      ],
      "metadata": {
        "id": "srfOeNTJAo1Z",
        "colab": {
          "base_uri": "https://localhost:8080/"
        },
        "outputId": "34493516-858e-4725-8938-e9b0825ed975"
      },
      "execution_count": 12,
      "outputs": [
        {
          "output_type": "stream",
          "name": "stdout",
          "text": [
            "there is an issue: [Errno 2] No such file or directory: 'example.txt'\n",
            "this will be executed always\n"
          ]
        }
      ]
    },
    {
      "cell_type": "code",
      "source": [
        "##custom exception>> Custom exceptions in Python allow you to define your own error types tailored to the specific needs of your application\n",
        "class InvalidInputError(Exception):\n",
        "    def __init__(self, message):\n",
        "        self.message = message\n",
        "\n",
        "def validate_input(value):\n",
        "    if not isinstance(value, int):\n",
        "        raise InvalidInputError(\"Input must be an integer\")\n",
        "    if value < 0:\n",
        "        raise InvalidInputError(\"Input must be positive\")\n",
        "\n",
        "try:\n",
        "    value = input(\"Enter a positive integer: \")\n",
        "    validate_input(int(value))\n",
        "except InvalidInputError as e:\n",
        "    print(e.message)\n"
      ],
      "metadata": {
        "id": "04iFmoIZAo34",
        "colab": {
          "base_uri": "https://localhost:8080/"
        },
        "outputId": "e9b79e0b-81e1-43bf-f013-b40890e40bdc"
      },
      "execution_count": 15,
      "outputs": [
        {
          "name": "stdout",
          "output_type": "stream",
          "text": [
            "Enter a positive integer: 100\n"
          ]
        }
      ]
    },
    {
      "cell_type": "code",
      "source": [
        "##custom exception class\n",
        "# Define a custom exception\n",
        "class InvalidInputError(Exception):\n",
        "    def __init__(self, message=\"Invalid input provided\"):\n",
        "        self.message = message\n",
        "        super().__init__(self.message)\n",
        "\n",
        "# Function using the custom exception\n",
        "def validate_age(age):\n",
        "    if age < 0:\n",
        "        raise InvalidInputError(\"Age cannot be negative.\")\n",
        "    elif age > 150:\n",
        "        raise InvalidInputError(\"Age cannot be greater than 150.\")\n",
        "    else:\n",
        "        print(f\"Age {age} is valid.\")\n",
        "\n",
        "# Test the custom exception\n",
        "try:\n",
        "    validate_age(-5)  # This will raise an exception\n",
        "except InvalidInputError as e:\n",
        "    print(f\"Custom Exception Caught: {e}\")\n",
        "finally:\n",
        "    print(\"Validation complete.\")"
      ],
      "metadata": {
        "id": "WydP5xtpAo6S",
        "colab": {
          "base_uri": "https://localhost:8080/"
        },
        "outputId": "2738dc39-7c7f-4bfc-bd12-5c5472594a0d"
      },
      "execution_count": 16,
      "outputs": [
        {
          "output_type": "stream",
          "name": "stdout",
          "text": [
            "Custom Exception Caught: Age cannot be negative.\n",
            "Validation complete.\n"
          ]
        }
      ]
    },
    {
      "cell_type": "code",
      "source": [],
      "metadata": {
        "id": "p_KqHixMAo94"
      },
      "execution_count": null,
      "outputs": []
    },
    {
      "cell_type": "code",
      "source": [],
      "metadata": {
        "id": "0Vwv5F1dApsV"
      },
      "execution_count": null,
      "outputs": []
    },
    {
      "cell_type": "code",
      "source": [],
      "metadata": {
        "id": "OEQyj5sRApu5"
      },
      "execution_count": null,
      "outputs": []
    },
    {
      "cell_type": "code",
      "source": [],
      "metadata": {
        "id": "j-JgEqCGApxD"
      },
      "execution_count": null,
      "outputs": []
    },
    {
      "cell_type": "code",
      "source": [],
      "metadata": {
        "id": "rsH5PKYiApzT"
      },
      "execution_count": null,
      "outputs": []
    },
    {
      "cell_type": "code",
      "source": [],
      "metadata": {
        "id": "5IVTQcETAp1k"
      },
      "execution_count": null,
      "outputs": []
    },
    {
      "cell_type": "code",
      "source": [],
      "metadata": {
        "id": "eyXBtPSKAp36"
      },
      "execution_count": null,
      "outputs": []
    },
    {
      "cell_type": "code",
      "source": [],
      "metadata": {
        "id": "J9w3_LaGAp7Y"
      },
      "execution_count": null,
      "outputs": []
    }
  ]
}