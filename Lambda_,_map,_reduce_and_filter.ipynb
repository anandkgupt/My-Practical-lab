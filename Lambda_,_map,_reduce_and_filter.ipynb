{
  "nbformat": 4,
  "nbformat_minor": 0,
  "metadata": {
    "colab": {
      "provenance": [],
      "authorship_tag": "ABX9TyOyZ7DB6O5dmsA2lLVEiHfO",
      "include_colab_link": true
    },
    "kernelspec": {
      "name": "python3",
      "display_name": "Python 3"
    },
    "language_info": {
      "name": "python"
    }
  },
  "cells": [
    {
      "cell_type": "markdown",
      "metadata": {
        "id": "view-in-github",
        "colab_type": "text"
      },
      "source": [
        "<a href=\"https://colab.research.google.com/github/anandkgupt/My-Practical-lab/blob/main/Lambda_%2C_map%2C_reduce_and_filter.ipynb\" target=\"_parent\"><img src=\"https://colab.research.google.com/assets/colab-badge.svg\" alt=\"Open In Colab\"/></a>"
      ]
    },
    {
      "cell_type": "markdown",
      "source": [
        "A Lambda function in Python is a small, anonymous function defined with the lambda keyword. It can have any number of arguments but only one expression, which is evaluated and returned. Lambda functions are often used for short, simple operations where defining a full function is unnecessary."
      ],
      "metadata": {
        "id": "FSD36cuemn8R"
      }
    },
    {
      "cell_type": "code",
      "source": [
        "##Syntax of a Lambda Function\n",
        "lambda arguments: expression\n"
      ],
      "metadata": {
        "colab": {
          "base_uri": "https://localhost:8080/"
        },
        "id": "X9HAopnEmrHt",
        "outputId": "e2ca4f1e-3772-4182-cb2c-7ac8a94f1a8d"
      },
      "execution_count": 1,
      "outputs": [
        {
          "output_type": "execute_result",
          "data": {
            "text/plain": [
              "<function __main__.<lambda>(arguments)>"
            ]
          },
          "metadata": {},
          "execution_count": 1
        }
      ]
    },
    {
      "cell_type": "markdown",
      "source": [
        "Features-\n",
        "\n",
        "Anonymous: It does not have a name.\n",
        "\n",
        "Single Expression: Only one expression is allowed, which is returned.\n",
        "\n",
        "Compact: Typically used for concise operations.\n",
        "\n",
        "\n",
        "Common Use Cases-\n",
        "\n",
        "Sorting and Filtering: Sorting lists by custom criteria, Filtering elements in a list using conditions.\n",
        "\n",
        "Short-lived Functions: Functions passed as arguments to higher-order functions (e.g., map, filter, sorted).\n",
        "\n",
        "Functional Programming: Simplify code when used with map, filter, and reduce.\n",
        "\n",
        "\n"
      ],
      "metadata": {
        "id": "a1H4Ta2JnAON"
      }
    },
    {
      "cell_type": "code",
      "source": [
        "###Simple Lambda Function:\n",
        "# Define a lambda function to calculate the square of a number\n",
        "square = lambda x: x ** 2\n",
        "print(square(5))  # Output: 25\n"
      ],
      "metadata": {
        "colab": {
          "base_uri": "https://localhost:8080/"
        },
        "id": "yWvW1mbQoN2w",
        "outputId": "d5d98e43-08a6-45ee-c3f9-f868f0c3f1f1"
      },
      "execution_count": 2,
      "outputs": [
        {
          "output_type": "stream",
          "name": "stdout",
          "text": [
            "25\n"
          ]
        }
      ]
    },
    {
      "cell_type": "code",
      "source": [
        "###Lambda with Multiple Arguments:\n",
        "# A lambda to add two numbers\n",
        "add = lambda x, y: x + y\n",
        "print(add(3, 7))  # Output: 10\n"
      ],
      "metadata": {
        "colab": {
          "base_uri": "https://localhost:8080/"
        },
        "id": "7rNN-uB8owLT",
        "outputId": "dce47426-9491-4efd-9ec7-355a50314d28"
      },
      "execution_count": 3,
      "outputs": [
        {
          "output_type": "stream",
          "name": "stdout",
          "text": [
            "10\n"
          ]
        }
      ]
    },
    {
      "cell_type": "code",
      "source": [
        "###Sorting with Lambda:\n",
        "# Sorting a list of tuples based on the second element\n",
        "data = [(1, 'b'), (3, 'a'), (2, 'c')]\n",
        "sorted_data = sorted(data, key=lambda item: item[1])\n",
        "print(sorted_data)  # Output: [(3, 'a'), (1, 'b'), (2, 'c')]\n"
      ],
      "metadata": {
        "colab": {
          "base_uri": "https://localhost:8080/"
        },
        "id": "PX6LKRt2o4_I",
        "outputId": "4426e003-fa2e-4380-a709-27b8d5140416"
      },
      "execution_count": 4,
      "outputs": [
        {
          "output_type": "stream",
          "name": "stdout",
          "text": [
            "[(3, 'a'), (1, 'b'), (2, 'c')]\n"
          ]
        }
      ]
    },
    {
      "cell_type": "code",
      "source": [
        "###Filtering with Lambda:\n",
        "# Filtering even numbers from a list\n",
        "numbers = [1, 2, 3, 4, 5, 6]\n",
        "even_numbers = list(filter(lambda x: x % 2 == 0, numbers))\n",
        "print(even_numbers)  # Output: [2, 4, 6]\n"
      ],
      "metadata": {
        "colab": {
          "base_uri": "https://localhost:8080/"
        },
        "id": "zV17I29VpFhS",
        "outputId": "d7ea0606-193f-4e93-84c9-6f36f833db31"
      },
      "execution_count": 5,
      "outputs": [
        {
          "output_type": "stream",
          "name": "stdout",
          "text": [
            "[2, 4, 6]\n"
          ]
        }
      ]
    },
    {
      "cell_type": "code",
      "source": [
        "###Mapping with Lambda:\n",
        "# Doubling each element in a list\n",
        "numbers = [1, 2, 3, 4]\n",
        "doubled = list(map(lambda x: x * 2, numbers))\n",
        "print(doubled)  # Output: [2, 4, 6, 8]"
      ],
      "metadata": {
        "colab": {
          "base_uri": "https://localhost:8080/"
        },
        "id": "18vNx86NpMHZ",
        "outputId": "858d1e08-e09f-42b6-eaee-c822858c6f84"
      },
      "execution_count": 7,
      "outputs": [
        {
          "output_type": "stream",
          "name": "stdout",
          "text": [
            "[2, 4, 6, 8]\n"
          ]
        }
      ]
    },
    {
      "cell_type": "markdown",
      "source": [
        "Things to Consider-\n",
        "\n",
        "Readability: Overusing lambda functions can make code harder to understand.\n",
        "\n",
        "No Statements: Lambda functions can't contain multiple expressions or statements.\n",
        "\n",
        "Limited to Single Expression: For complex logic, it's better to use a standard function with the def keyword."
      ],
      "metadata": {
        "id": "1tUYzDmUpeNl"
      }
    },
    {
      "cell_type": "code",
      "source": [
        "###Sorting Complex Data with Lambda\n",
        "#Suppose you have a list of dictionaries representing student data, and you want to sort it by a specific key (e.g., \"grade\").\n",
        "students = [\n",
        "    {\"name\": \"Alice\", \"grade\": 85},\n",
        "    {\"name\": \"Bob\", \"grade\": 92},\n",
        "    {\"name\": \"Charlie\", \"grade\": 78}\n",
        "]\n",
        "\n",
        "# Sort by grade using a lambda function\n",
        "sorted_students = sorted(students, key=lambda student: student[\"grade\"])\n",
        "\n",
        "print(sorted_students)\n",
        "##Explanation:lambda student: student[\"grade\"] specifies that the sorting should be based on the grade key in each dictionary.\n",
        "\n",
        "\n"
      ],
      "metadata": {
        "colab": {
          "base_uri": "https://localhost:8080/"
        },
        "id": "x9FfsZ1Tpg7Y",
        "outputId": "a99aa69e-e451-4100-e116-8bb16b60b878"
      },
      "execution_count": 8,
      "outputs": [
        {
          "output_type": "stream",
          "name": "stdout",
          "text": [
            "[{'name': 'Charlie', 'grade': 78}, {'name': 'Alice', 'grade': 85}, {'name': 'Bob', 'grade': 92}]\n"
          ]
        }
      ]
    },
    {
      "cell_type": "code",
      "source": [
        "###Using Lambda in Functional Programming (Map, Filter, Reduce)\n",
        "#a) Map: Transforming a List\n",
        "#Double all numbers in a list.\n",
        "numbers = [1, 2, 3, 4]\n",
        "doubled = list(map(lambda x: x * 2, numbers))\n",
        "\n",
        "print(doubled)  # Output: [2, 4, 6, 8]\n"
      ],
      "metadata": {
        "colab": {
          "base_uri": "https://localhost:8080/"
        },
        "id": "QN_5koiNtQhG",
        "outputId": "fad8544a-e952-48e5-e20a-2f1e536d6f45"
      },
      "execution_count": 9,
      "outputs": [
        {
          "output_type": "stream",
          "name": "stdout",
          "text": [
            "[2, 4, 6, 8]\n"
          ]
        }
      ]
    },
    {
      "cell_type": "code",
      "source": [
        "###b) Filter: Extracting Specific Elements\n",
        "#Filter out all numbers greater than 5.\n",
        "numbers = [1, 4, 6, 8, 10]\n",
        "filtered = list(filter(lambda x: x > 5, numbers))\n",
        "\n",
        "print(filtered)  # Output: [6, 8, 10]\n"
      ],
      "metadata": {
        "colab": {
          "base_uri": "https://localhost:8080/"
        },
        "id": "nx9Agb_Et0N5",
        "outputId": "f3883fd2-a688-4965-ac64-e929a43f8741"
      },
      "execution_count": 10,
      "outputs": [
        {
          "output_type": "stream",
          "name": "stdout",
          "text": [
            "[6, 8, 10]\n"
          ]
        }
      ]
    },
    {
      "cell_type": "code",
      "source": [
        "###c) Reduce: Aggregating Values\n",
        "#Find the product of all numbers in a list using functools.reduce.\n",
        "from functools import reduce\n",
        "\n",
        "numbers = [1, 2, 3, 4]\n",
        "product = reduce(lambda x, y: x * y, numbers)\n",
        "\n",
        "print(product)  # Output: 24\n"
      ],
      "metadata": {
        "colab": {
          "base_uri": "https://localhost:8080/"
        },
        "id": "Xw70-USRt6iH",
        "outputId": "79bad308-cd41-45d5-81ec-f37e4ac70285"
      },
      "execution_count": 11,
      "outputs": [
        {
          "output_type": "stream",
          "name": "stdout",
          "text": [
            "24\n"
          ]
        }
      ]
    },
    {
      "cell_type": "code",
      "source": [
        "###3. Lambda for Inline Event Handling\n",
        "#In GUI frameworks like Tkinter, you can use a lambda for handling button clicks.\n",
        "import tkinter as tk\n",
        "\n",
        "def greet(name):\n",
        "    print(f\"Hello, {name}!\")\n",
        "\n",
        "# Create a simple Tkinter app\n",
        "root = tk.Tk()\n",
        "root.title(\"Lambda Example\")\n",
        "\n",
        "# Button with lambda for dynamic argument passing\n",
        "button = tk.Button(root, text=\"Click Me\", command=lambda: greet(\"Alice\"))\n",
        "button.pack()\n",
        "\n",
        "root.mainloop()\n",
        "#Explanation: The command argument in the Button takes a callable. Using lambda lets you pass dynamic arguments to the function greet."
      ],
      "metadata": {
        "colab": {
          "base_uri": "https://localhost:8080/",
          "height": 332
        },
        "id": "ZSCN6DTMuFxg",
        "outputId": "f2e48006-cb65-4f6c-abec-0efe7dcf97ae"
      },
      "execution_count": 12,
      "outputs": [
        {
          "output_type": "error",
          "ename": "TclError",
          "evalue": "no display name and no $DISPLAY environment variable",
          "traceback": [
            "\u001b[0;31m---------------------------------------------------------------------------\u001b[0m",
            "\u001b[0;31mTclError\u001b[0m                                  Traceback (most recent call last)",
            "\u001b[0;32m<ipython-input-12-d6c0a0031d2f>\u001b[0m in \u001b[0;36m<cell line: 9>\u001b[0;34m()\u001b[0m\n\u001b[1;32m      7\u001b[0m \u001b[0;34m\u001b[0m\u001b[0m\n\u001b[1;32m      8\u001b[0m \u001b[0;31m# Create a simple Tkinter app\u001b[0m\u001b[0;34m\u001b[0m\u001b[0;34m\u001b[0m\u001b[0m\n\u001b[0;32m----> 9\u001b[0;31m \u001b[0mroot\u001b[0m \u001b[0;34m=\u001b[0m \u001b[0mtk\u001b[0m\u001b[0;34m.\u001b[0m\u001b[0mTk\u001b[0m\u001b[0;34m(\u001b[0m\u001b[0;34m)\u001b[0m\u001b[0;34m\u001b[0m\u001b[0;34m\u001b[0m\u001b[0m\n\u001b[0m\u001b[1;32m     10\u001b[0m \u001b[0mroot\u001b[0m\u001b[0;34m.\u001b[0m\u001b[0mtitle\u001b[0m\u001b[0;34m(\u001b[0m\u001b[0;34m\"Lambda Example\"\u001b[0m\u001b[0;34m)\u001b[0m\u001b[0;34m\u001b[0m\u001b[0;34m\u001b[0m\u001b[0m\n\u001b[1;32m     11\u001b[0m \u001b[0;34m\u001b[0m\u001b[0m\n",
            "\u001b[0;32m/usr/lib/python3.10/tkinter/__init__.py\u001b[0m in \u001b[0;36m__init__\u001b[0;34m(self, screenName, baseName, className, useTk, sync, use)\u001b[0m\n\u001b[1;32m   2297\u001b[0m                 \u001b[0mbaseName\u001b[0m \u001b[0;34m=\u001b[0m \u001b[0mbaseName\u001b[0m \u001b[0;34m+\u001b[0m \u001b[0mext\u001b[0m\u001b[0;34m\u001b[0m\u001b[0;34m\u001b[0m\u001b[0m\n\u001b[1;32m   2298\u001b[0m         \u001b[0minteractive\u001b[0m \u001b[0;34m=\u001b[0m \u001b[0;32mFalse\u001b[0m\u001b[0;34m\u001b[0m\u001b[0;34m\u001b[0m\u001b[0m\n\u001b[0;32m-> 2299\u001b[0;31m         \u001b[0mself\u001b[0m\u001b[0;34m.\u001b[0m\u001b[0mtk\u001b[0m \u001b[0;34m=\u001b[0m \u001b[0m_tkinter\u001b[0m\u001b[0;34m.\u001b[0m\u001b[0mcreate\u001b[0m\u001b[0;34m(\u001b[0m\u001b[0mscreenName\u001b[0m\u001b[0;34m,\u001b[0m \u001b[0mbaseName\u001b[0m\u001b[0;34m,\u001b[0m \u001b[0mclassName\u001b[0m\u001b[0;34m,\u001b[0m \u001b[0minteractive\u001b[0m\u001b[0;34m,\u001b[0m \u001b[0mwantobjects\u001b[0m\u001b[0;34m,\u001b[0m \u001b[0museTk\u001b[0m\u001b[0;34m,\u001b[0m \u001b[0msync\u001b[0m\u001b[0;34m,\u001b[0m \u001b[0muse\u001b[0m\u001b[0;34m)\u001b[0m\u001b[0;34m\u001b[0m\u001b[0;34m\u001b[0m\u001b[0m\n\u001b[0m\u001b[1;32m   2300\u001b[0m         \u001b[0;32mif\u001b[0m \u001b[0museTk\u001b[0m\u001b[0;34m:\u001b[0m\u001b[0;34m\u001b[0m\u001b[0;34m\u001b[0m\u001b[0m\n\u001b[1;32m   2301\u001b[0m             \u001b[0mself\u001b[0m\u001b[0;34m.\u001b[0m\u001b[0m_loadtk\u001b[0m\u001b[0;34m(\u001b[0m\u001b[0;34m)\u001b[0m\u001b[0;34m\u001b[0m\u001b[0;34m\u001b[0m\u001b[0m\n",
            "\u001b[0;31mTclError\u001b[0m: no display name and no $DISPLAY environment variable"
          ]
        }
      ]
    },
    {
      "cell_type": "code",
      "source": [
        "###4. Lambda for Custom Key Extraction\n",
        "#Group or sort data based on specific attributes.\n",
        "\n",
        "#Example: Finding the Max Element\n",
        "#Find the dictionary with the highest grade.\n",
        "students = [\n",
        "    {\"name\": \"Alice\", \"grade\": 85},\n",
        "    {\"name\": \"Bob\", \"grade\": 92},\n",
        "    {\"name\": \"Charlie\", \"grade\": 78}\n",
        "]\n",
        "\n",
        "top_student = max(students, key=lambda student: student[\"grade\"])\n",
        "print(top_student)  # Output: {'name': 'Bob', 'grade': 92}\n"
      ],
      "metadata": {
        "colab": {
          "base_uri": "https://localhost:8080/"
        },
        "id": "BArxsRFpuW7h",
        "outputId": "835bd2b3-7486-446a-9b31-282aec143dbb"
      },
      "execution_count": 13,
      "outputs": [
        {
          "output_type": "stream",
          "name": "stdout",
          "text": [
            "{'name': 'Bob', 'grade': 92}\n"
          ]
        }
      ]
    },
    {
      "cell_type": "code",
      "source": [
        "###5. Lambda in List Comprehensions\n",
        "#Lambda functions can be integrated into list comprehensions for concise transformations.\n",
        "\n",
        "#Example: Add 5 to each element in the list.\n",
        "numbers = [1, 2, 3, 4]\n",
        "result = [(lambda x: x + 5)(x) for x in numbers]\n",
        "\n",
        "print(result)  # Output: [6, 7, 8, 9]\n"
      ],
      "metadata": {
        "colab": {
          "base_uri": "https://localhost:8080/"
        },
        "id": "5Jr36xMuux9e",
        "outputId": "d7103795-1fbd-4cf5-c57e-83aca678d0e1"
      },
      "execution_count": 14,
      "outputs": [
        {
          "output_type": "stream",
          "name": "stdout",
          "text": [
            "[6, 7, 8, 9]\n"
          ]
        }
      ]
    },
    {
      "cell_type": "code",
      "source": [],
      "metadata": {
        "id": "PGlk8GwevXZL"
      },
      "execution_count": null,
      "outputs": []
    }
  ]
}