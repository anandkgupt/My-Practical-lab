{
  "nbformat": 4,
  "nbformat_minor": 0,
  "metadata": {
    "colab": {
      "provenance": [],
      "authorship_tag": "ABX9TyOt3q2ORuE0nV4+Knl68Jlp",
      "include_colab_link": true
    },
    "kernelspec": {
      "name": "python3",
      "display_name": "Python 3"
    },
    "language_info": {
      "name": "python"
    }
  },
  "cells": [
    {
      "cell_type": "markdown",
      "metadata": {
        "id": "view-in-github",
        "colab_type": "text"
      },
      "source": [
        "<a href=\"https://colab.research.google.com/github/anandkgupt/My-Practical-lab/blob/main/OOPS_2_M6_Live_session_practice_07_12_24.ipynb\" target=\"_parent\"><img src=\"https://colab.research.google.com/assets/colab-badge.svg\" alt=\"Open In Colab\"/></a>"
      ]
    },
    {
      "cell_type": "markdown",
      "source": [
        "**OOPS**\n",
        "\n",
        "Object-Oriented Programming System (OOPS) is a programming paradigm centered on the concept of objects, which encapsulate both data (attributes) and behavior (methods). It allows for creating modular, reusable, and maintainable code.\n",
        "\n",
        "3) Abstraction\n",
        "4) Encapsulation\n"
      ],
      "metadata": {
        "id": "cyL_zFbxLtaU"
      }
    },
    {
      "cell_type": "code",
      "source": [
        "##(3) Abstraction>> Abstraction hides the implementation details and only exposes essential features.\n",
        "#Achieved using abstract classes or interfaces.\n",
        "#Abstract class>> To create an abstract class, Python provides the abc (Abstract Base Class) module."
      ],
      "metadata": {
        "id": "UbdDxjH8LvgI"
      },
      "execution_count": 9,
      "outputs": []
    },
    {
      "cell_type": "code",
      "source": [
        "class Dog:\n",
        "    def speak(self):\n",
        "        return \"Bark\"\n",
        "\n",
        "class Cat:\n",
        "    def speak(self):\n",
        "        return \"Meow\"\n",
        "\n",
        "class Animal:\n",
        "    def speak(self):\n",
        "        return \"Some animal sound\"\n",
        "\n",
        "# Creating instances of Dog, Cat, and Animal classes\n",
        "dog = Dog()\n",
        "cat = Cat()\n",
        "animal = Animal()\n",
        "\n",
        "print(dog.speak())  # Output: Bark\n",
        "print(cat.speak())  # Output: Meow\n",
        "print(animal.speak())  # Output: Some animal sound\n",
        "\n"
      ],
      "metadata": {
        "colab": {
          "base_uri": "https://localhost:8080/"
        },
        "id": "SNoQVqPTQeeR",
        "outputId": "149d6f4b-11c3-4092-f804-db2483d83601"
      },
      "execution_count": 7,
      "outputs": [
        {
          "output_type": "stream",
          "name": "stdout",
          "text": [
            "Bark\n",
            "Meow\n",
            "Some animal sound\n"
          ]
        }
      ]
    },
    {
      "cell_type": "code",
      "source": [
        "from abc import ABC, abstractclassmethod\n",
        "\n",
        "\n",
        "class Job(ABC):\n",
        "    @abstractclassmethod\n",
        "    def do_job(self, x):\n",
        "        pass\n",
        "\n",
        "\n",
        "class MathJob(Job):\n",
        "    def do_job(self, x):\n",
        "        return x ** 2\n",
        "# Example Usage\n",
        "math_job = MathJob()\n",
        "result = math_job.do_job(5)\n",
        "print(result)  # Output: 25"
      ],
      "metadata": {
        "colab": {
          "base_uri": "https://localhost:8080/"
        },
        "id": "-UDJGB1QQf38",
        "outputId": "acb470d7-f83c-49f6-d1c3-db4fdaf4fdb2"
      },
      "execution_count": 11,
      "outputs": [
        {
          "output_type": "stream",
          "name": "stdout",
          "text": [
            "25\n"
          ]
        }
      ]
    },
    {
      "cell_type": "code",
      "source": [
        "from abc import ABC, abstractmethod\n",
        "\n",
        "class Vehicle(ABC):\n",
        "    @abstractmethod\n",
        "    def speed(self):\n",
        "        pass\n",
        "\n",
        "class Car(Vehicle):\n",
        "    def speed(self):\n",
        "        return \"The car's speed is 150 km/h.\"\n",
        "\n",
        "class Bike(Vehicle):\n",
        "    def speed(self):\n",
        "        return \"The bike's speed is 100 km/h.\"\n",
        "\n",
        "# Example usage\n",
        "car = Car()\n",
        "bike = Bike()\n",
        "\n",
        "print(car.speed())  # Output: The car's speed is 150 km/h.\n",
        "print(bike.speed())  # Output: The bike's speed is 100 km/h.\n"
      ],
      "metadata": {
        "colab": {
          "base_uri": "https://localhost:8080/"
        },
        "id": "yVeYAVT_Qf6l",
        "outputId": "0c4088d6-5bc7-49f0-ea86-9870e020386a"
      },
      "execution_count": 12,
      "outputs": [
        {
          "output_type": "stream",
          "name": "stdout",
          "text": [
            "The car's speed is 150 km/h.\n",
            "The bike's speed is 100 km/h.\n"
          ]
        }
      ]
    },
    {
      "cell_type": "code",
      "source": [
        "## 4) Encapsulation>> One of the main goals of encapsulation is to hide the internal implementation details of an object\n",
        "#Encapsulation uses access modifiers to define the visibility of class attributes and methods. Commonly used access modifiers are:\n",
        "#Public: Accessible from anywhere.\n",
        "#Private: Not accessible outside the class. In Python, this is indicated by a single or double underscore prefix (e.g., _variable, __variable).\n",
        "#Protected: Accessible within the class and subclasses, but not outside. This is indicated by a single underscore (e.g., _variable)."
      ],
      "metadata": {
        "id": "ZnvKTzNQQf9L"
      },
      "execution_count": 15,
      "outputs": []
    },
    {
      "cell_type": "code",
      "source": [
        "class BankAccount:\n",
        "    def __init__(self, account_holder, initial_balance):\n",
        "        self.account_holder = account_holder  # Public attribute\n",
        "        self.__balance = initial_balance  # Private attribute, cannot be accessed directly\n",
        "\n",
        "    # Getter method to access the private __balance\n",
        "    def get_balance(self):\n",
        "        return self.__balance\n",
        "\n",
        "    # Setter method to modify the private __balance (with a validation check)\n",
        "    def deposit(self, amount):\n",
        "        if amount > 0:\n",
        "            self.__balance += amount\n",
        "            print(f\"Deposited {amount}. New balance: {self.get_balance()}\")\n",
        "        else:\n",
        "            print(\"Deposit amount must be positive.\")\n",
        "\n",
        "    # Method to withdraw money (modifying the balance)\n",
        "    def withdraw(self, amount):\n",
        "        if amount > 0 and amount <= self.__balance:\n",
        "            self.__balance -= amount\n",
        "            print(f\"Withdrew {amount}. New balance: {self.get_balance()}\")\n",
        "        else:\n",
        "            print(\"Invalid withdrawal amount. Check your balance.\")\n",
        "\n",
        "    # Method to display account information\n",
        "    def display_account_info(self):\n",
        "        print(f\"Account Holder: {self.account_holder}\")\n",
        "        print(f\"Account Balance: {self.get_balance()}\")\n",
        "\n",
        "# Example Usage\n",
        "account = BankAccount(\"Anand\", 5000)\n",
        "\n",
        "# Display account information\n",
        "account.display_account_info()\n",
        "\n",
        "# Perform operations\n",
        "account.deposit(1000)  # Deposit money\n",
        "account.withdraw(1500)  # Withdraw money\n",
        "\n",
        "# Trying invalid operations\n",
        "account.withdraw(10000)  # Insufficient balance\n",
        "\n",
        "# Display updated account information\n",
        "account.display_account_info()"
      ],
      "metadata": {
        "colab": {
          "base_uri": "https://localhost:8080/"
        },
        "id": "zEfI90eZQf_q",
        "outputId": "88aa3111-f83d-4030-e425-592e5931128f"
      },
      "execution_count": 18,
      "outputs": [
        {
          "output_type": "stream",
          "name": "stdout",
          "text": [
            "Account Holder: Anand\n",
            "Account Balance: 5000\n",
            "Deposited 1000. New balance: 6000\n",
            "Withdrew 1500. New balance: 4500\n",
            "Invalid withdrawal amount. Check your balance.\n",
            "Account Holder: Anand\n",
            "Account Balance: 4500\n"
          ]
        }
      ]
    },
    {
      "cell_type": "markdown",
      "source": [
        "**Generator Function**:\n",
        "\n",
        "In Python, you can use a generator function within a class to yield values from an object’s methods, allowing for iteration over the object’s data in a memory-efficient manner. This can be useful for situations where you need to create an iterable sequence of values, but want to do so lazily, without storing the entire sequence in memory at once."
      ],
      "metadata": {
        "id": "j_WoaGtnbsIf"
      }
    },
    {
      "cell_type": "code",
      "source": [
        "class MyRange:\n",
        "    def __init__(self, start, end):\n",
        "        self.start = start\n",
        "        self.end = end\n",
        "\n",
        "    def generate(self):\n",
        "        # Generator method that yields numbers from start to end\n",
        "        current = self.start\n",
        "        while current < self.end:\n",
        "            yield current\n",
        "            current += 1\n",
        "\n",
        "# Example usage:\n",
        "my_range = MyRange(1, 5)\n",
        "for num in my_range.generate():\n",
        "    print(num)"
      ],
      "metadata": {
        "colab": {
          "base_uri": "https://localhost:8080/"
        },
        "id": "szT82kGlQgLz",
        "outputId": "d3600893-b4a3-43a3-c232-d493645cd775"
      },
      "execution_count": 22,
      "outputs": [
        {
          "output_type": "stream",
          "name": "stdout",
          "text": [
            "1\n",
            "2\n",
            "3\n",
            "4\n"
          ]
        }
      ]
    },
    {
      "cell_type": "markdown",
      "source": [
        "Practice Question:\n",
        "\n",
        "Create a Car class that models a car's details.\n",
        "\n",
        "The class should have the following attributes:\n",
        "\n",
        "make: The make of the car (e.g., \"Toyota\", \"Honda\").\n",
        "\n",
        "model: The model of the car (e.g., \"Corolla\", \"Civic\").\n",
        "\n",
        "year: The year the car was manufactured (e.g., 2020, 2021).\n",
        "\n",
        "price: The price of the car.\n",
        "\n",
        "The class should have the following methods:\n",
        "\n",
        "A setter method to set the car's price. The price should not be negative. If an invalid price is provided (negative value), raise an exception.\n",
        "\n",
        "A getter method to return the price of the car.\n",
        "\n",
        "A method to increase the price by a percentage (e.g., 5% increase).\n",
        "\n",
        "A method to display the details of the car.\n",
        "\n",
        "Ensure that the price attribute is private and can only be accessed or modified through the getter and setter methods."
      ],
      "metadata": {
        "id": "DF89zohOeiac"
      }
    },
    {
      "cell_type": "code",
      "source": [
        "class Car:\n",
        "    def __init__(self, make, model, year, price):\n",
        "        # Initialize the attributes\n",
        "        self.make = make\n",
        "        self.model = model\n",
        "        self.year = year\n",
        "        self.__price = price  # Private attribute\n",
        "\n",
        "    # Setter method for price\n",
        "    def set_price(self, price):\n",
        "        if price < 0:\n",
        "            raise ValueError(\"Price cannot be negative.\")\n",
        "        self.__price = price\n",
        "\n",
        "    # Getter method for price\n",
        "    def get_price(self):\n",
        "        return self.__price\n",
        "\n",
        "    # Method to increase price by a given percentage\n",
        "    def increase_price(self, percentage):\n",
        "        if percentage < 0:\n",
        "            raise ValueError(\"Percentage increase cannot be negative.\")\n",
        "        self.__price += self.__price * (percentage / 100)\n",
        "\n",
        "    # Method to display car details\n",
        "    def display_details(self):\n",
        "        print(f\"Make: {self.make}\")\n",
        "        print(f\"Model: {self.model}\")\n",
        "        print(f\"Year: {self.year}\")\n",
        "        print(f\"Price: ${self.__price:.2f}\")\n",
        "\n",
        "# Example usage:\n",
        "car1 = Car(\"Toyota\", \"Corolla\", 2020, 20000)\n",
        "car1.display_details()\n",
        "\n",
        "# Set a new price\n",
        "car1.set_price(22000)\n",
        "print(\"\\nAfter setting a new price:\")\n",
        "car1.display_details()\n",
        "\n",
        "# Increase price by 5%\n",
        "car1.increase_price(5)\n",
        "print(\"\\nAfter increasing the price by 5%:\")\n",
        "car1.display_details()\n",
        "\n",
        "# Attempt to set a negative price (will raise an exception)\n",
        "try:\n",
        "    car1.set_price(-1000)\n",
        "except ValueError as e:\n",
        "    print(f\"\\nError: {e}\")"
      ],
      "metadata": {
        "colab": {
          "base_uri": "https://localhost:8080/"
        },
        "id": "w2_c6tIUQgOm",
        "outputId": "aeddedb9-355c-4f67-ee8c-1892ff08ba72"
      },
      "execution_count": 23,
      "outputs": [
        {
          "output_type": "stream",
          "name": "stdout",
          "text": [
            "Make: Toyota\n",
            "Model: Corolla\n",
            "Year: 2020\n",
            "Price: $20000.00\n",
            "\n",
            "After setting a new price:\n",
            "Make: Toyota\n",
            "Model: Corolla\n",
            "Year: 2020\n",
            "Price: $22000.00\n",
            "\n",
            "After increasing the price by 5%:\n",
            "Make: Toyota\n",
            "Model: Corolla\n",
            "Year: 2020\n",
            "Price: $23100.00\n",
            "\n",
            "Error: Price cannot be negative.\n"
          ]
        }
      ]
    },
    {
      "cell_type": "markdown",
      "source": [
        "Create a generator function that generates a sequence of Fibonacci numbers up to a given limit.\n",
        "\n",
        "The generator should start by yielding 0 and 1 as the first two Fibonacci numbers.\n",
        "\n",
        "For each subsequent number, the generator should yield the sum of the previous two numbers, forming the Fibonacci sequence.\n",
        "\n",
        "The generator should stop once the next Fibonacci number exceeds the given limit.\n",
        "\n",
        "Write a function generate_fibonacci(limit) that yields Fibonacci numbers."
      ],
      "metadata": {
        "id": "0M479WFsfPO4"
      }
    },
    {
      "cell_type": "code",
      "source": [
        "def generate_fibonacci(limit):\n",
        "    a, b = 0, 1  # Initial Fibonacci numbers\n",
        "    while a <= limit:\n",
        "        yield a  # Yield the current Fibonacci number\n",
        "        a, b = b, a + b  # Update the values of a and b for the next Fibonacci number\n",
        "\n",
        "# Example usage:\n",
        "limit = 100\n",
        "for num in generate_fibonacci(limit):\n",
        "    print(num)"
      ],
      "metadata": {
        "colab": {
          "base_uri": "https://localhost:8080/"
        },
        "id": "RoxVAaCmQgSB",
        "outputId": "6096ffac-3cab-4030-fd22-1238ba8531c4"
      },
      "execution_count": 24,
      "outputs": [
        {
          "output_type": "stream",
          "name": "stdout",
          "text": [
            "0\n",
            "1\n",
            "1\n",
            "2\n",
            "3\n",
            "5\n",
            "8\n",
            "13\n",
            "21\n",
            "34\n",
            "55\n",
            "89\n"
          ]
        }
      ]
    },
    {
      "cell_type": "code",
      "source": [
        "names = ['Ananya', 'Ekta', 'Rahul']\n",
        "scores = [[22, 34, 53], [55, 44, 33], [44, 32, 22]]\n",
        "\n",
        "# Pair names with scores\n",
        "dict(zip(names, scores))"
      ],
      "metadata": {
        "colab": {
          "base_uri": "https://localhost:8080/"
        },
        "id": "N9-3LtuWfdIT",
        "outputId": "c9ebf3e2-58d3-4324-b9b5-ca1161f53070"
      },
      "execution_count": 26,
      "outputs": [
        {
          "output_type": "execute_result",
          "data": {
            "text/plain": [
              "{'Ananya': [22, 34, 53], 'Ekta': [55, 44, 33], 'Rahul': [44, 32, 22]}"
            ]
          },
          "metadata": {},
          "execution_count": 26
        }
      ]
    },
    {
      "cell_type": "code",
      "source": [],
      "metadata": {
        "id": "w9WNQuZCfiEj"
      },
      "execution_count": null,
      "outputs": []
    },
    {
      "cell_type": "code",
      "source": [],
      "metadata": {
        "id": "g5JQAyiJfiHL"
      },
      "execution_count": null,
      "outputs": []
    },
    {
      "cell_type": "code",
      "source": [],
      "metadata": {
        "id": "usIF587OfiKQ"
      },
      "execution_count": null,
      "outputs": []
    },
    {
      "cell_type": "code",
      "source": [],
      "metadata": {
        "id": "exZNY5lafiMr"
      },
      "execution_count": null,
      "outputs": []
    },
    {
      "cell_type": "code",
      "source": [],
      "metadata": {
        "id": "HQvIagF1fiPW"
      },
      "execution_count": null,
      "outputs": []
    },
    {
      "cell_type": "code",
      "source": [],
      "metadata": {
        "id": "BRQRAhIwfiRy"
      },
      "execution_count": null,
      "outputs": []
    },
    {
      "cell_type": "code",
      "source": [],
      "metadata": {
        "id": "qjMfCTMGfiUY"
      },
      "execution_count": null,
      "outputs": []
    },
    {
      "cell_type": "code",
      "source": [],
      "metadata": {
        "id": "Dpgsdi73fiW2"
      },
      "execution_count": null,
      "outputs": []
    },
    {
      "cell_type": "code",
      "source": [],
      "metadata": {
        "id": "CzYU3CdTfiaS"
      },
      "execution_count": null,
      "outputs": []
    }
  ]
}