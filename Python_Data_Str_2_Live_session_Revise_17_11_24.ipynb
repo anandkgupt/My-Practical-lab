{
  "nbformat": 4,
  "nbformat_minor": 0,
  "metadata": {
    "colab": {
      "provenance": [],
      "authorship_tag": "ABX9TyN+yyX2UVTNpYnuUi5HSQUb",
      "include_colab_link": true
    },
    "kernelspec": {
      "name": "python3",
      "display_name": "Python 3"
    },
    "language_info": {
      "name": "python"
    }
  },
  "cells": [
    {
      "cell_type": "markdown",
      "metadata": {
        "id": "view-in-github",
        "colab_type": "text"
      },
      "source": [
        "<a href=\"https://colab.research.google.com/github/anandkgupt/My-Practical-lab/blob/main/Python_Data_Str_2_Live_session_Revise_17_11_24.ipynb\" target=\"_parent\"><img src=\"https://colab.research.google.com/assets/colab-badge.svg\" alt=\"Open In Colab\"/></a>"
      ]
    },
    {
      "cell_type": "markdown",
      "source": [
        "Sets: Mutable - {}"
      ],
      "metadata": {
        "id": "Lk0vS3fBJCqH"
      }
    },
    {
      "cell_type": "code",
      "source": [
        "##add intigers in sets\n",
        "s={1,2,3,4}\n",
        "print(s)\n",
        "s.add(5)\n",
        "print(s)"
      ],
      "metadata": {
        "id": "aNnCO03vJHNS",
        "colab": {
          "base_uri": "https://localhost:8080/"
        },
        "outputId": "39dee0f0-8b61-4d09-98cb-5b64f1871e4d"
      },
      "execution_count": 10,
      "outputs": [
        {
          "output_type": "stream",
          "name": "stdout",
          "text": [
            "{1, 2, 3, 4}\n",
            "{1, 2, 3, 4, 5}\n"
          ]
        }
      ]
    },
    {
      "cell_type": "code",
      "source": [
        "##Change from list to sets\n",
        "l=[1,2,3,4,5,6,7]"
      ],
      "metadata": {
        "id": "MztpRG40JsV_"
      },
      "execution_count": 11,
      "outputs": []
    },
    {
      "cell_type": "code",
      "source": [
        "s= set(l)\n",
        "print(s)"
      ],
      "metadata": {
        "id": "W6guANo2KLS-",
        "colab": {
          "base_uri": "https://localhost:8080/"
        },
        "outputId": "fdbcbb95-3023-4581-9b92-0bd4808275b3"
      },
      "execution_count": 12,
      "outputs": [
        {
          "output_type": "stream",
          "name": "stdout",
          "text": [
            "{1, 2, 3, 4, 5, 6, 7}\n"
          ]
        }
      ]
    },
    {
      "cell_type": "code",
      "source": [
        "##add strings in sets\n",
        "ss={\"orange\",\"apple\",\"banana\"}\n",
        "ss.add(\"mango\")\n",
        "print(ss)"
      ],
      "metadata": {
        "id": "7w2lAvhEKQbB",
        "colab": {
          "base_uri": "https://localhost:8080/"
        },
        "outputId": "4d3c5dfb-0611-4761-84da-84d4d75da26e"
      },
      "execution_count": 13,
      "outputs": [
        {
          "output_type": "stream",
          "name": "stdout",
          "text": [
            "{'orange', 'banana', 'apple', 'mango'}\n"
          ]
        }
      ]
    },
    {
      "cell_type": "code",
      "source": [
        "\n",
        "ss.pop()\n",
        "print(ss)"
      ],
      "metadata": {
        "colab": {
          "base_uri": "https://localhost:8080/"
        },
        "id": "dWMqoc-XMdQf",
        "outputId": "d48797e1-1455-4307-bf30-956562543e23"
      },
      "execution_count": 20,
      "outputs": [
        {
          "output_type": "stream",
          "name": "stdout",
          "text": [
            "{'apple'}\n"
          ]
        }
      ]
    },
    {
      "cell_type": "code",
      "source": [
        "ss.remove(\"apple\")\n",
        "print(ss)"
      ],
      "metadata": {
        "colab": {
          "base_uri": "https://localhost:8080/"
        },
        "id": "kTy6236nNLOZ",
        "outputId": "95e39ddc-521b-485e-b84c-a4ed30308b2a"
      },
      "execution_count": 27,
      "outputs": [
        {
          "output_type": "stream",
          "name": "stdout",
          "text": [
            "set()\n"
          ]
        }
      ]
    },
    {
      "cell_type": "code",
      "source": [
        "ss.discard(\"apple\")\n",
        "print(ss)\n"
      ],
      "metadata": {
        "colab": {
          "base_uri": "https://localhost:8080/"
        },
        "id": "pIynYBruNyvg",
        "outputId": "5baaa4fd-3fac-4fb0-c87e-b83d2c04d298"
      },
      "execution_count": 29,
      "outputs": [
        {
          "output_type": "stream",
          "name": "stdout",
          "text": [
            "set()\n"
          ]
        }
      ]
    },
    {
      "cell_type": "code",
      "source": [],
      "metadata": {
        "id": "2QpyhhP_N7ch"
      },
      "execution_count": null,
      "outputs": []
    },
    {
      "cell_type": "markdown",
      "source": [
        "Dictionary"
      ],
      "metadata": {
        "id": "vL5es75gP5m2"
      }
    },
    {
      "cell_type": "code",
      "source": [
        "dict1 = {\"name\": \"anand\", \"age\": 25, \"city\": \"delhi\"}\n",
        "dict2 = {\"profession\": \"engineer\", \"hobby\": \"reading\"}\n",
        "\n",
        "# Merging dict1 and dict2\n",
        "dict1.update(dict2)\n",
        "print(dict1)\n",
        "\n",
        "\n"
      ],
      "metadata": {
        "colab": {
          "base_uri": "https://localhost:8080/"
        },
        "id": "fS2_AHItP-X2",
        "outputId": "d79548f9-f367-4b4a-abbf-e155bb9845cf"
      },
      "execution_count": 33,
      "outputs": [
        {
          "output_type": "stream",
          "name": "stdout",
          "text": [
            "{'name': 'anand', 'age': 25, 'city': 'delhi', 'profession': 'engineer', 'hobby': 'reading'}\n"
          ]
        }
      ]
    },
    {
      "cell_type": "code",
      "source": [
        "seq={'name','age','city'}\n",
        "dict.fromkeys(seq)"
      ],
      "metadata": {
        "colab": {
          "base_uri": "https://localhost:8080/"
        },
        "id": "QEiNC9GJSPaQ",
        "outputId": "9570d3c8-c2a0-4986-fc3b-3a61a36f40a3"
      },
      "execution_count": 34,
      "outputs": [
        {
          "output_type": "execute_result",
          "data": {
            "text/plain": [
              "{'age': None, 'city': None, 'name': None}"
            ]
          },
          "metadata": {},
          "execution_count": 34
        }
      ]
    },
    {
      "cell_type": "code",
      "source": [
        "dict.fromkeys(seq,10)"
      ],
      "metadata": {
        "colab": {
          "base_uri": "https://localhost:8080/"
        },
        "id": "QRbar1FbSUUv",
        "outputId": "c2cfb084-00a2-4d50-bc9f-394e2f0d060b"
      },
      "execution_count": 35,
      "outputs": [
        {
          "output_type": "execute_result",
          "data": {
            "text/plain": [
              "{'age': 10, 'city': 10, 'name': 10}"
            ]
          },
          "metadata": {},
          "execution_count": 35
        }
      ]
    },
    {
      "cell_type": "code",
      "source": [
        "sales={\"apple\":2,\"orange\":3,\"banana\":5}\n",
        "sales.items()\n"
      ],
      "metadata": {
        "colab": {
          "base_uri": "https://localhost:8080/"
        },
        "id": "bb0zR6SaSqgc",
        "outputId": "1ad1b6db-4097-40d8-b296-54156be5dc6d"
      },
      "execution_count": 39,
      "outputs": [
        {
          "output_type": "execute_result",
          "data": {
            "text/plain": [
              "dict_items([('apple', 2), ('orange', 3), ('banana', 5)])"
            ]
          },
          "metadata": {},
          "execution_count": 39
        }
      ]
    },
    {
      "cell_type": "code",
      "source": [
        "sales.values()"
      ],
      "metadata": {
        "colab": {
          "base_uri": "https://localhost:8080/"
        },
        "id": "ihut_RHWTDi6",
        "outputId": "06d3d2e8-f740-4b43-cb37-4d2ef2432fe4"
      },
      "execution_count": 40,
      "outputs": [
        {
          "output_type": "execute_result",
          "data": {
            "text/plain": [
              "dict_values([2, 3, 5])"
            ]
          },
          "metadata": {},
          "execution_count": 40
        }
      ]
    },
    {
      "cell_type": "code",
      "source": [
        "sales.keys()"
      ],
      "metadata": {
        "colab": {
          "base_uri": "https://localhost:8080/"
        },
        "id": "BxiMOpd7TeD9",
        "outputId": "0f4e0667-11c5-47c0-c6cb-de244f54d3cb"
      },
      "execution_count": 43,
      "outputs": [
        {
          "output_type": "execute_result",
          "data": {
            "text/plain": [
              "dict_keys(['apple', 'orange', 'banana', 'mango'])"
            ]
          },
          "metadata": {},
          "execution_count": 43
        }
      ]
    },
    {
      "cell_type": "code",
      "source": [
        "sales.update({\"mango\":10})\n",
        "print(sales)"
      ],
      "metadata": {
        "colab": {
          "base_uri": "https://localhost:8080/"
        },
        "id": "ix0lwSjTThf7",
        "outputId": "2b930c90-b40c-4a0e-e8a1-74cc9c43b20c"
      },
      "execution_count": 42,
      "outputs": [
        {
          "output_type": "stream",
          "name": "stdout",
          "text": [
            "{'apple': 2, 'orange': 3, 'banana': 5, 'mango': 10}\n"
          ]
        }
      ]
    },
    {
      "cell_type": "code",
      "source": [
        "print(l)"
      ],
      "metadata": {
        "colab": {
          "base_uri": "https://localhost:8080/"
        },
        "id": "tfjFZQc1TohF",
        "outputId": "a65e0b85-64c7-4361-b084-0ffcbe0315ae"
      },
      "execution_count": 44,
      "outputs": [
        {
          "output_type": "stream",
          "name": "stdout",
          "text": [
            "[1, 2, 3, 4, 5, 6, 7]\n"
          ]
        }
      ]
    },
    {
      "cell_type": "code",
      "source": [
        "l2= l*2\n",
        "print(l2)"
      ],
      "metadata": {
        "colab": {
          "base_uri": "https://localhost:8080/"
        },
        "id": "5OwLLTSWUQqn",
        "outputId": "0dfae195-4e7b-4cd3-8961-485664f04c26"
      },
      "execution_count": 45,
      "outputs": [
        {
          "output_type": "stream",
          "name": "stdout",
          "text": [
            "[1, 2, 3, 4, 5, 6, 7, 1, 2, 3, 4, 5, 6, 7]\n"
          ]
        }
      ]
    },
    {
      "cell_type": "code",
      "source": [
        "##enumerate function\n",
        "for i, j in enumerate(l):  # i is a dumy variable\n",
        "    print(i,j)"
      ],
      "metadata": {
        "colab": {
          "base_uri": "https://localhost:8080/"
        },
        "id": "lGBS_WazUagZ",
        "outputId": "c4d6e799-20b4-451c-abcb-2b5233327c93"
      },
      "execution_count": 51,
      "outputs": [
        {
          "output_type": "stream",
          "name": "stdout",
          "text": [
            "0 1\n",
            "1 2\n",
            "2 3\n",
            "3 4\n",
            "4 5\n",
            "5 6\n",
            "6 7\n"
          ]
        }
      ]
    },
    {
      "cell_type": "code",
      "source": [
        "for i in l:\n",
        "  print(i)"
      ],
      "metadata": {
        "colab": {
          "base_uri": "https://localhost:8080/"
        },
        "id": "kV0Ngix1WopB",
        "outputId": "d61d25e5-32ed-4444-dbd0-92ea32b766bb"
      },
      "execution_count": 53,
      "outputs": [
        {
          "output_type": "stream",
          "name": "stdout",
          "text": [
            "1\n",
            "2\n",
            "3\n",
            "4\n",
            "5\n",
            "6\n",
            "7\n"
          ]
        }
      ]
    },
    {
      "cell_type": "code",
      "source": [
        "##direct used of loop\n",
        "print(l)\n",
        "for i in l:\n",
        "    print(i)"
      ],
      "metadata": {
        "colab": {
          "base_uri": "https://localhost:8080/"
        },
        "id": "9YH4CltEU4Tq",
        "outputId": "944aac41-a475-4b74-f16b-0938889075ed"
      },
      "execution_count": 48,
      "outputs": [
        {
          "output_type": "stream",
          "name": "stdout",
          "text": [
            "[1, 2, 3, 4, 5, 6, 7]\n",
            "1\n",
            "2\n",
            "3\n",
            "4\n",
            "5\n",
            "6\n",
            "7\n"
          ]
        }
      ]
    },
    {
      "cell_type": "code",
      "source": [
        "## enumerate function\n",
        "for index,value in enumerate(l):\n",
        "    print(index,value)"
      ],
      "metadata": {
        "colab": {
          "base_uri": "https://localhost:8080/"
        },
        "id": "L30eBNiDVdn_",
        "outputId": "d4041a39-ed96-40ea-ca73-24360567a2b3"
      },
      "execution_count": 49,
      "outputs": [
        {
          "output_type": "stream",
          "name": "stdout",
          "text": [
            "0 1\n",
            "1 2\n",
            "2 3\n",
            "3 4\n",
            "4 5\n",
            "5 6\n",
            "6 7\n"
          ]
        }
      ]
    },
    {
      "cell_type": "code",
      "source": [
        "for i in sales:\n",
        "  print(i)"
      ],
      "metadata": {
        "colab": {
          "base_uri": "https://localhost:8080/"
        },
        "id": "AL8JnDboV2HC",
        "outputId": "a2fa7330-cd4e-4879-b6bd-bb2c8cee158d"
      },
      "execution_count": 54,
      "outputs": [
        {
          "output_type": "stream",
          "name": "stdout",
          "text": [
            "apple\n",
            "orange\n",
            "banana\n",
            "mango\n"
          ]
        }
      ]
    },
    {
      "cell_type": "code",
      "source": [
        "for i in sales.values():\n",
        "  print(i)"
      ],
      "metadata": {
        "colab": {
          "base_uri": "https://localhost:8080/"
        },
        "id": "qEMOgLAsXD3p",
        "outputId": "70fa92e5-6d74-4779-e8c0-33aa7a62daeb"
      },
      "execution_count": 55,
      "outputs": [
        {
          "output_type": "stream",
          "name": "stdout",
          "text": [
            "2\n",
            "3\n",
            "5\n",
            "10\n"
          ]
        }
      ]
    },
    {
      "cell_type": "code",
      "source": [
        "for i in sales:\n",
        "  print(sales[i])"
      ],
      "metadata": {
        "colab": {
          "base_uri": "https://localhost:8080/"
        },
        "id": "rrA2pSC3XQAW",
        "outputId": "5746b407-a35d-41ea-8ef7-61851247297c"
      },
      "execution_count": 56,
      "outputs": [
        {
          "output_type": "stream",
          "name": "stdout",
          "text": [
            "2\n",
            "3\n",
            "5\n",
            "10\n"
          ]
        }
      ]
    },
    {
      "cell_type": "code",
      "source": [
        "## loops through key-value pairs\n",
        "for key,value in sales.items():\n",
        "  print(key,value)"
      ],
      "metadata": {
        "colab": {
          "base_uri": "https://localhost:8080/"
        },
        "id": "wV063ctHXSMU",
        "outputId": "5d2fd0cd-415c-4b7a-b7be-e8953c1ff425"
      },
      "execution_count": 57,
      "outputs": [
        {
          "output_type": "stream",
          "name": "stdout",
          "text": [
            "apple 2\n",
            "orange 3\n",
            "banana 5\n",
            "mango 10\n"
          ]
        }
      ]
    },
    {
      "cell_type": "code",
      "source": [
        "squares=[]\n",
        "for i in range(10):\n",
        "    squares.append(i*i)\n",
        "print(squares)"
      ],
      "metadata": {
        "colab": {
          "base_uri": "https://localhost:8080/"
        },
        "id": "ckvnY2zGXm4s",
        "outputId": "b28fc90a-6e3b-45d8-9531-0c8a400df1a8"
      },
      "execution_count": 64,
      "outputs": [
        {
          "output_type": "stream",
          "name": "stdout",
          "text": [
            "[0, 1, 4, 9, 16, 25, 36, 49, 64, 81]\n"
          ]
        }
      ]
    },
    {
      "cell_type": "code",
      "source": [],
      "metadata": {
        "id": "KnCNFuPkXm8G"
      },
      "execution_count": null,
      "outputs": []
    },
    {
      "cell_type": "markdown",
      "source": [
        "List comprehensions method"
      ],
      "metadata": {
        "id": "WUdSYjPMZZ9S"
      }
    },
    {
      "cell_type": "code",
      "source": [
        "even_num= []\n",
        "for i in range(1,11):\n",
        "  if i%2==0:\n",
        "    even_num.append(i)\n",
        "print(even_num)"
      ],
      "metadata": {
        "colab": {
          "base_uri": "https://localhost:8080/"
        },
        "id": "rDR4RUsoXnR7",
        "outputId": "bb12388a-8368-4613-c991-beb73d035880"
      },
      "execution_count": 65,
      "outputs": [
        {
          "output_type": "stream",
          "name": "stdout",
          "text": [
            "[2, 4, 6, 8, 10]\n"
          ]
        }
      ]
    },
    {
      "cell_type": "code",
      "source": [
        "l = [1, 2, 3, 4, 5, 6,7]  # Example list\n",
        "divisor = 2  # The number you want to check divisibility for\n",
        "\n",
        "for i in l:\n",
        "    if i % divisor == 0:  # Check if the number is divisible by the divisor\n",
        "        print(i)\n"
      ],
      "metadata": {
        "colab": {
          "base_uri": "https://localhost:8080/"
        },
        "id": "qjDbTf4UXSPT",
        "outputId": "f35348f7-e6a8-47c1-d910-4f500516db46"
      },
      "execution_count": 69,
      "outputs": [
        {
          "output_type": "stream",
          "name": "stdout",
          "text": [
            "2\n",
            "4\n",
            "6\n"
          ]
        }
      ]
    },
    {
      "cell_type": "markdown",
      "source": [
        "If you want to split file names into the name and extension and store them in a dictionary, you can use either os.path or pathlib in combination with dictionary structures."
      ],
      "metadata": {
        "id": "S-GlW57AeCsC"
      }
    },
    {
      "cell_type": "code",
      "source": [
        "## Using os.path with a Dictionary\n",
        "import os\n",
        "\n",
        "file_names = [\"example_file.txt\", \"data_image.jpg\", \"report.pdf\"]\n",
        "\n",
        "file_dict = {}\n",
        "\n",
        "for file_name in file_names:\n",
        "    name, extension = os.path.splitext(file_name)\n",
        "    file_dict[file_name] = {'name': name, 'extension': extension}\n",
        "\n",
        "print(file_dict)\n"
      ],
      "metadata": {
        "colab": {
          "base_uri": "https://localhost:8080/"
        },
        "id": "ogV4GTZOXSSs",
        "outputId": "753a5519-29ba-4238-b193-55e4b16b2126"
      },
      "execution_count": 70,
      "outputs": [
        {
          "output_type": "stream",
          "name": "stdout",
          "text": [
            "{'example_file.txt': {'name': 'example_file', 'extension': '.txt'}, 'data_image.jpg': {'name': 'data_image', 'extension': '.jpg'}, 'report.pdf': {'name': 'report', 'extension': '.pdf'}}\n"
          ]
        }
      ]
    },
    {
      "cell_type": "code",
      "source": [
        "## Using pathlib with a Dictionary\n",
        "from pathlib import Path\n",
        "\n",
        "file_names = [\"example_file.txt\", \"data_image.jpg\", \"report.pdf\"]\n",
        "\n",
        "file_dict = {}\n",
        "\n",
        "for file_name in file_names:\n",
        "    path = Path(file_name)\n",
        "    file_dict[file_name] = {'name': path.stem, 'extension': path.suffix}\n",
        "\n",
        "print(file_dict)\n"
      ],
      "metadata": {
        "colab": {
          "base_uri": "https://localhost:8080/"
        },
        "id": "vW73RK5xb3kC",
        "outputId": "5c390cf4-f777-4f18-fbad-c1a199c5a97b"
      },
      "execution_count": 71,
      "outputs": [
        {
          "output_type": "stream",
          "name": "stdout",
          "text": [
            "{'example_file.txt': {'name': 'example_file', 'extension': '.txt'}, 'data_image.jpg': {'name': 'data_image', 'extension': '.jpg'}, 'report.pdf': {'name': 'report', 'extension': '.pdf'}}\n"
          ]
        }
      ]
    },
    {
      "cell_type": "code",
      "source": [
        "list1 = [\"example=txt\", \"image=jpg\", \"report=pdf\"]\n",
        "\n",
        "# Initialize an empty dictionary\n",
        "file_dict = {}\n",
        "\n",
        "# Loop through the list and split each string at '='\n",
        "for item in list1:\n",
        "    key, value = item.split('=')\n",
        "    file_dict[key] = value\n",
        "\n",
        "print(file_dict)\n"
      ],
      "metadata": {
        "colab": {
          "base_uri": "https://localhost:8080/"
        },
        "id": "6xmfXWC6b3mz",
        "outputId": "91ef3715-e9f5-4554-a4ce-72fdeaafac4e"
      },
      "execution_count": 72,
      "outputs": [
        {
          "output_type": "stream",
          "name": "stdout",
          "text": [
            "{'example': 'txt', 'image': 'jpg', 'report': 'pdf'}\n"
          ]
        }
      ]
    },
    {
      "cell_type": "code",
      "source": [
        "## only show variable or key\n",
        "list1 = [\"example=txt\", \"image=jpg\", \"report=pdf\"]\n",
        "\n",
        "# Loop through the list and extract the part before '='\n",
        "variables = [item.split('=')[0] for item in list1]\n",
        "\n",
        "print(variables)\n"
      ],
      "metadata": {
        "colab": {
          "base_uri": "https://localhost:8080/"
        },
        "id": "deGEpKE6b3qD",
        "outputId": "b86e0324-ee0c-4dc1-ba33-4a788e99b651"
      },
      "execution_count": 73,
      "outputs": [
        {
          "output_type": "stream",
          "name": "stdout",
          "text": [
            "['example', 'image', 'report']\n"
          ]
        }
      ]
    },
    {
      "cell_type": "code",
      "source": [
        "## only show values\n",
        "list1 = [\"example=txt\", \"image=jpg\", \"report=pdf\"]\n",
        "\n",
        "# Loop through the list and extract the part after '='\n",
        "values = [item.split('=')[1] for item in list1]\n",
        "\n",
        "print(values)\n"
      ],
      "metadata": {
        "colab": {
          "base_uri": "https://localhost:8080/"
        },
        "id": "dpKE9Kubb3tc",
        "outputId": "9e6ff962-1c34-4205-cf99-315f062d78c5"
      },
      "execution_count": 74,
      "outputs": [
        {
          "output_type": "stream",
          "name": "stdout",
          "text": [
            "['txt', 'jpg', 'pdf']\n"
          ]
        }
      ]
    },
    {
      "cell_type": "code",
      "source": [
        "text = \"Hello world, this is Python\"\n",
        "result = text.split()\n",
        "print(result)\n"
      ],
      "metadata": {
        "colab": {
          "base_uri": "https://localhost:8080/"
        },
        "id": "smCRfSFbgaTa",
        "outputId": "e5bbcb36-7ff5-4720-f687-18fa07b28be0"
      },
      "execution_count": 75,
      "outputs": [
        {
          "output_type": "stream",
          "name": "stdout",
          "text": [
            "['Hello', 'world,', 'this', 'is', 'Python']\n"
          ]
        }
      ]
    },
    {
      "cell_type": "code",
      "source": [
        "text = \"apple,orange,banana,grape\"\n",
        "result = text.split(',')\n",
        "print(result)\n"
      ],
      "metadata": {
        "colab": {
          "base_uri": "https://localhost:8080/"
        },
        "id": "wHYAFeRzgaWj",
        "outputId": "1d52898d-5c11-4e0a-aa30-2250019ebcd6"
      },
      "execution_count": 76,
      "outputs": [
        {
          "output_type": "stream",
          "name": "stdout",
          "text": [
            "['apple', 'orange', 'banana', 'grape']\n"
          ]
        }
      ]
    },
    {
      "cell_type": "code",
      "source": [
        "text = \"apple apple orange apple\"\n",
        "result = text.replace(\"apple\", \"banana\")\n",
        "print(result)\n"
      ],
      "metadata": {
        "colab": {
          "base_uri": "https://localhost:8080/"
        },
        "id": "zoNuE531gaZF",
        "outputId": "9b311343-853a-4c18-cd28-854dac69710f"
      },
      "execution_count": 77,
      "outputs": [
        {
          "output_type": "stream",
          "name": "stdout",
          "text": [
            "banana banana orange banana\n"
          ]
        }
      ]
    },
    {
      "cell_type": "code",
      "source": [
        "text = \"apple apple orange apple\"\n",
        "result = text.replace(\"apple\", \"banana\", 2)\n",
        "print(result)\n"
      ],
      "metadata": {
        "colab": {
          "base_uri": "https://localhost:8080/"
        },
        "id": "eUJBkFN7gach",
        "outputId": "670e5425-0b11-44b9-9911-2032c71bf7b6"
      },
      "execution_count": 78,
      "outputs": [
        {
          "output_type": "stream",
          "name": "stdout",
          "text": [
            "banana banana orange apple\n"
          ]
        }
      ]
    },
    {
      "cell_type": "code",
      "source": [
        "text = \"hello\"\n",
        "result = text.replace(\"e\", \"a\")\n",
        "print(result)\n"
      ],
      "metadata": {
        "colab": {
          "base_uri": "https://localhost:8080/"
        },
        "id": "-nSg44W3gafD",
        "outputId": "65e2f560-2a5b-4fb5-dadb-515f574d4206"
      },
      "execution_count": 79,
      "outputs": [
        {
          "output_type": "stream",
          "name": "stdout",
          "text": [
            "hallo\n"
          ]
        }
      ]
    },
    {
      "cell_type": "code",
      "source": [
        "text = \"I like cats\"\n",
        "result = text.replace(\"cats\", \"\")\n",
        "print(result)\n"
      ],
      "metadata": {
        "colab": {
          "base_uri": "https://localhost:8080/"
        },
        "id": "hflyuhx-gah9",
        "outputId": "1f55b7d9-6d7a-48d0-a381-518d374e8c21"
      },
      "execution_count": 80,
      "outputs": [
        {
          "output_type": "stream",
          "name": "stdout",
          "text": [
            "I like \n"
          ]
        }
      ]
    },
    {
      "cell_type": "code",
      "source": [
        "text = \"programming\"\n",
        "char_count = {}\n",
        "\n",
        "# Loop through each character in the string\n",
        "for char in text:\n",
        "    char_count[char] = char_count.get(char, 0) + 1  # Increment the count\n",
        "\n",
        "print(char_count)\n"
      ],
      "metadata": {
        "colab": {
          "base_uri": "https://localhost:8080/"
        },
        "id": "AbmS3zVngalh",
        "outputId": "6f756844-da1c-4072-bf80-ede70275ab7c"
      },
      "execution_count": 81,
      "outputs": [
        {
          "output_type": "stream",
          "name": "stdout",
          "text": [
            "{'p': 1, 'r': 2, 'o': 1, 'g': 2, 'a': 1, 'm': 2, 'i': 1, 'n': 1}\n"
          ]
        }
      ]
    },
    {
      "cell_type": "code",
      "source": [
        "text = \"programming\"\n",
        "char_count = {}\n",
        "\n",
        "# Loop through each character in the string to count occurrences\n",
        "for char in text:\n",
        "    char_count[char] = char_count.get(char, 0) + 1\n",
        "\n",
        "# Filter the characters with a count greater than 1 (repeated characters)\n",
        "repeated_count = {char: count for char, count in char_count.items() if count > 1}\n",
        "\n",
        "print(repeated_count)\n"
      ],
      "metadata": {
        "colab": {
          "base_uri": "https://localhost:8080/"
        },
        "id": "dFZmCzYcj55z",
        "outputId": "25ed12c8-72b8-45f1-d7fb-0d1131818d1d"
      },
      "execution_count": 82,
      "outputs": [
        {
          "output_type": "stream",
          "name": "stdout",
          "text": [
            "{'r': 2, 'g': 2, 'm': 2}\n"
          ]
        }
      ]
    },
    {
      "cell_type": "code",
      "source": [],
      "metadata": {
        "id": "MrBdbLIfks11"
      },
      "execution_count": null,
      "outputs": []
    },
    {
      "cell_type": "markdown",
      "source": [
        "Shuffle functions"
      ],
      "metadata": {
        "id": "RB4lp1iOmt12"
      }
    },
    {
      "cell_type": "code",
      "source": [
        "print(l)"
      ],
      "metadata": {
        "colab": {
          "base_uri": "https://localhost:8080/"
        },
        "id": "oVMraNVqks4w",
        "outputId": "6a2550ea-9ef3-4d8a-f0a6-bef435876a6a"
      },
      "execution_count": 84,
      "outputs": [
        {
          "output_type": "stream",
          "name": "stdout",
          "text": [
            "[1, 2, 3, 4, 5, 6, 7]\n"
          ]
        }
      ]
    },
    {
      "cell_type": "code",
      "source": [
        "## implementing Fisher-Yates shuffle\n",
        "import random\n",
        "for i in range(len(l)-1,0,-1):\n",
        "  index=random.randint(0,i) ## generate a random index between 0 and i\n",
        "  ## swap the elements at indices i and j\n",
        "  l[i],l[index]=l[index],l[i]\n",
        "print('shuffled list',l)"
      ],
      "metadata": {
        "colab": {
          "base_uri": "https://localhost:8080/"
        },
        "id": "mdwcehZ1ks7b",
        "outputId": "f3a0bb16-6af1-4159-adcc-38b34632e686"
      },
      "execution_count": 87,
      "outputs": [
        {
          "output_type": "stream",
          "name": "stdout",
          "text": [
            "shuffled list [7, 4, 6, 3, 1, 2, 5]\n"
          ]
        }
      ]
    },
    {
      "cell_type": "code",
      "source": [],
      "metadata": {
        "id": "0HxzbQUMks-V"
      },
      "execution_count": null,
      "outputs": []
    },
    {
      "cell_type": "code",
      "source": [],
      "metadata": {
        "id": "9_JdWt2cktBC"
      },
      "execution_count": null,
      "outputs": []
    },
    {
      "cell_type": "code",
      "source": [],
      "metadata": {
        "id": "Q2KoUgUpktEf"
      },
      "execution_count": null,
      "outputs": []
    }
  ]
}