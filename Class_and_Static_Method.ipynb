{
  "nbformat": 4,
  "nbformat_minor": 0,
  "metadata": {
    "colab": {
      "provenance": [],
      "authorship_tag": "ABX9TyOjStf8eAsooLTnWC8A7S6H",
      "include_colab_link": true
    },
    "kernelspec": {
      "name": "python3",
      "display_name": "Python 3"
    },
    "language_info": {
      "name": "python"
    }
  },
  "cells": [
    {
      "cell_type": "markdown",
      "metadata": {
        "id": "view-in-github",
        "colab_type": "text"
      },
      "source": [
        "<a href=\"https://colab.research.google.com/github/anandkgupt/My-Practical-lab/blob/main/Class_and_Static_Method.ipynb\" target=\"_parent\"><img src=\"https://colab.research.google.com/assets/colab-badge.svg\" alt=\"Open In Colab\"/></a>"
      ]
    },
    {
      "cell_type": "markdown",
      "source": [
        "Class and Static Method: In Object-Oriented Programming (OOP), class methods and static methods are two types of methods that are related to the class itself, rather than instances of the class. Both types of methods serve different purposes and are used in different contexts."
      ],
      "metadata": {
        "id": "KBkaKv3hXMM5"
      }
    },
    {
      "cell_type": "code",
      "source": [
        "##class method>> bound to the class, access/modify methods and atributes associated to the class across all the intances\n",
        "#@classmethod decorator\n",
        "#instead of self/cls as first parameter"
      ],
      "metadata": {
        "id": "P_qzVHRUXNNi"
      },
      "execution_count": null,
      "outputs": []
    },
    {
      "cell_type": "code",
      "source": [
        "class Student:\n",
        "    def __init__(self, name):  # Constructor method with the correct syntax\n",
        "        self.name = name  # Assigning the 'name' attribute\n",
        "\n",
        "# Creating an object of the class\n",
        "student1 = Student(\"Anand\")\n",
        "\n",
        "# Accessing the attribute\n",
        "print(student1.name)  # Output: John\n"
      ],
      "metadata": {
        "colab": {
          "base_uri": "https://localhost:8080/"
        },
        "id": "TP5kHXgZXNsH",
        "outputId": "246d5317-81f8-40b5-ad24-143f6c0658be"
      },
      "execution_count": null,
      "outputs": [
        {
          "output_type": "stream",
          "name": "stdout",
          "text": [
            "Anand\n"
          ]
        }
      ]
    },
    {
      "cell_type": "code",
      "source": [
        "#Example of Class Method:\n",
        "class Student:\n",
        "    # Class attribute\n",
        "    total_students = 0\n",
        "\n",
        "    def __init__(self, name):\n",
        "        self.name = name\n",
        "        Student.total_students += 1  # Increment total students whenever a new student is created\n",
        "\n",
        "    # Class method to get the number of students\n",
        "    @classmethod\n",
        "    def get_total_students(cls):\n",
        "        return cls.total_students\n",
        "\n",
        "# Creating instances of Student\n",
        "student1 = Student(\"Alice\")\n",
        "student2 = Student(\"Bob\")\n",
        "\n",
        "# Calling the class method\n",
        "print(Student.get_total_students())  # Output: 2\n"
      ],
      "metadata": {
        "colab": {
          "base_uri": "https://localhost:8080/"
        },
        "id": "jEqgBZIlXNul",
        "outputId": "2f651a11-133b-44e2-d054-e0c793211f6d"
      },
      "execution_count": null,
      "outputs": [
        {
          "output_type": "stream",
          "name": "stdout",
          "text": [
            "2\n"
          ]
        }
      ]
    },
    {
      "cell_type": "code",
      "source": [
        "#what is the meaning that it is reffering the class?\n",
        "#earlier to access any method/atribute >> first make intence/object of class\n",
        "#then obj.atribute\n",
        "#but if it is class method you can directly access it\n"
      ],
      "metadata": {
        "id": "UFsB0afOXNxQ"
      },
      "execution_count": null,
      "outputs": []
    },
    {
      "cell_type": "code",
      "source": [
        "class Student:\n",
        "    # Class attribute\n",
        "    total_students = 0\n",
        "\n",
        "    def __init__(self, name):\n",
        "        self.name = name\n",
        "        Student.total_students += 1  # Increment total students whenever a new student is created\n",
        "\n",
        "    # Class method to create a student from a string\n",
        "    @classmethod\n",
        "    def student1_details(cls, name):\n",
        "        return cls(name)  # Create and return a new Student object\n",
        "\n",
        "    # Class method to get the number of students\n",
        "    @classmethod\n",
        "    def get_total_students(cls):\n",
        "        return cls.total_students\n",
        "\n",
        "# Using the class method to create an instance of Student\n",
        "obj1 = Student.student1_details(\"Anand\")\n",
        "\n",
        "# Accessing instance details\n",
        "print(obj1.name)  # Output: Anand\n",
        "print(Student.get_total_students())  # Output: 1\n"
      ],
      "metadata": {
        "colab": {
          "base_uri": "https://localhost:8080/"
        },
        "id": "UZa_DEXAXNzg",
        "outputId": "a7a5dd92-ff18-4f2d-b4cc-6da9ff283ad1"
      },
      "execution_count": null,
      "outputs": [
        {
          "output_type": "stream",
          "name": "stdout",
          "text": [
            "Anand\n",
            "1\n"
          ]
        }
      ]
    },
    {
      "cell_type": "code",
      "source": [
        "##seeing class method as alternative of init method >> acctually class method is overloading the init method\n"
      ],
      "metadata": {
        "id": "V-uwBtIEXN3H"
      },
      "execution_count": 1,
      "outputs": []
    },
    {
      "cell_type": "code",
      "source": [
        "#how class method is overloading the init method\n",
        "#modifing the class/instance method\n",
        "class Student:\n",
        "    # Class attribute\n",
        "    total_students = 0\n",
        "\n",
        "    def __init__(self, name):   #init method is intance method\n",
        "        self.name = name\n",
        "        Student.total_students += 1  # Increment total students whenever a new student is created\n",
        "\n",
        "    # Class method to create a student from a string\n",
        "    @classmethod\n",
        "    def student1_details(cls, name1):\n",
        "        return cls(name1)  # Create and return a new Student object"
      ],
      "metadata": {
        "id": "fSIPAYUWadQO"
      },
      "execution_count": 4,
      "outputs": []
    },
    {
      "cell_type": "code",
      "source": [
        "stud = Student.student1_details(\"Anand\")"
      ],
      "metadata": {
        "id": "AGqrmpcDajdo"
      },
      "execution_count": 5,
      "outputs": []
    },
    {
      "cell_type": "code",
      "source": [
        "stud.name #you will get Anand inspite the variable name1\n",
        "          #because it is overloading the init method"
      ],
      "metadata": {
        "colab": {
          "base_uri": "https://localhost:8080/",
          "height": 36
        },
        "id": "gwo3tolCa0Ks",
        "outputId": "9966f1e2-75f9-4a9b-aa9f-ff48ffca4040"
      },
      "execution_count": 7,
      "outputs": [
        {
          "output_type": "execute_result",
          "data": {
            "text/plain": [
              "'Anand'"
            ],
            "application/vnd.google.colaboratory.intrinsic+json": {
              "type": "string"
            }
          },
          "metadata": {},
          "execution_count": 7
        }
      ]
    },
    {
      "cell_type": "code",
      "source": [
        "#class method can modify class state applicable to all the instances of the class\n",
        "class Student:\n",
        "    # Shared class attribute\n",
        "    total_students = 0\n",
        "\n",
        "    def __init__(self, name):\n",
        "        self.name = name\n",
        "        Student.total_students += 1  # Increment total_students on instance creation\n",
        "\n",
        "    @classmethod\n",
        "    def reset_total_students(cls):\n",
        "        cls.total_students = 0  # Reset class-level attribute\n",
        "\n",
        "    @classmethod\n",
        "    def set_total_students(cls, value):\n",
        "        cls.total_students = value  # Modify class-level attribute directly\n",
        "\n",
        "    @classmethod\n",
        "    def increment_total_students(cls):\n",
        "        cls.total_students += 1  # Increment class-level attribute\n"
      ],
      "metadata": {
        "id": "0PTTAfUCa0Nk"
      },
      "execution_count": 11,
      "outputs": []
    },
    {
      "cell_type": "code",
      "source": [
        "# Creating instances\n",
        "student1 = Student(\"Alice\")\n",
        "student2 = Student(\"Bob\")\n",
        "print(Student.total_students)  # Output: 2\n",
        "\n",
        "# Modifying class state through class methods\n",
        "Student.reset_total_students()\n",
        "print(Student.total_students)  # Output: 0\n",
        "\n",
        "Student.set_total_students(10)\n",
        "print(Student.total_students)  # Output: 10\n",
        "\n",
        "Student.increment_total_students()\n",
        "print(Student.total_students)  # Output: 11\n",
        "\n",
        "# All instances reflect the change\n",
        "print(student1.total_students)  # Output: 11\n",
        "print(student2.total_students)  # Output: 11"
      ],
      "metadata": {
        "colab": {
          "base_uri": "https://localhost:8080/"
        },
        "id": "DfUi5GrYa0Qe",
        "outputId": "3b2e0170-5c54-4e58-bef6-376a8eb2981c"
      },
      "execution_count": 10,
      "outputs": [
        {
          "output_type": "stream",
          "name": "stdout",
          "text": [
            "2\n",
            "0\n",
            "10\n",
            "11\n",
            "11\n",
            "11\n"
          ]
        }
      ]
    },
    {
      "cell_type": "code",
      "source": [
        "##to make external function as class method\n",
        "class Student:\n",
        "    # Shared class attribute\n",
        "    total_students = 0\n",
        "\n",
        "    def __init__(self, name):\n",
        "        self.name = name\n",
        "        Student.total_students += 1  # Increment total_students on instance creation\n",
        "\n",
        "    @classmethod\n",
        "    def reset_total_students(cls):\n",
        "        cls.total_students = 0  # Reset class-level attribute\n"
      ],
      "metadata": {
        "id": "JiUG2pK5a0TK"
      },
      "execution_count": 12,
      "outputs": []
    },
    {
      "cell_type": "code",
      "source": [
        "# External function\n",
        "def increment_total_students(cls, value=1):\n",
        "    cls.total_students += value  # Increment the shared class attribute\n",
        "\n",
        "# Class definition\n",
        "class Student:\n",
        "    # Shared class attribute\n",
        "    total_students = 0\n",
        "\n",
        "    def __init__(self, name):\n",
        "        self.name = name\n",
        "        Student.total_students += 1  # Increment total_students on instance creation\n",
        "\n",
        "    @classmethod\n",
        "    def reset_total_students(cls):\n",
        "        cls.total_students = 0  # Reset class-level attribute\n",
        "\n",
        "# Bind the external function as a class method\n",
        "Student.increment_total_students = classmethod(increment_total_students)\n",
        "\n",
        "# Test the implementation\n",
        "student1 = Student(\"Alice\")\n",
        "student2 = Student(\"Bob\")\n",
        "\n",
        "print(Student.total_students)  # Output: 2\n",
        "\n",
        "# Call the new class method\n",
        "Student.increment_total_students(5)\n",
        "print(Student.total_students)  # Output: 7\n",
        "\n",
        "# Reset the total students\n",
        "Student.reset_total_students()\n",
        "print(Student.total_students)  # Output: 0\n"
      ],
      "metadata": {
        "colab": {
          "base_uri": "https://localhost:8080/"
        },
        "id": "uSeO0PU8a0V0",
        "outputId": "48a567dc-b0ff-4764-8ff2-eb55e9acca1d"
      },
      "execution_count": 13,
      "outputs": [
        {
          "output_type": "stream",
          "name": "stdout",
          "text": [
            "2\n",
            "7\n",
            "0\n"
          ]
        }
      ]
    },
    {
      "cell_type": "code",
      "source": [
        "##del atribute\n",
        "class Student:\n",
        "    def __init__(self, name, age):\n",
        "        self.name = name  # Instance attribute\n",
        "        self.age = age    # Instance attribute\n",
        "\n",
        "# Create an instance\n",
        "student1 = Student(\"Alice\", 20)\n",
        "\n",
        "# Delete the `age` attribute from the instance\n",
        "print(student1.age)  # Output: 20\n",
        "del student1.age\n",
        "# Accessing `age` now raises an AttributeError\n",
        "# print(student1.age)  # Uncommenting this will cause an error\n"
      ],
      "metadata": {
        "colab": {
          "base_uri": "https://localhost:8080/"
        },
        "id": "mcCJO-YQa0Y0",
        "outputId": "606722b6-bb53-4173-d361-7fff131f0a8c"
      },
      "execution_count": 14,
      "outputs": [
        {
          "output_type": "stream",
          "name": "stdout",
          "text": [
            "20\n"
          ]
        }
      ]
    },
    {
      "cell_type": "code",
      "source": [
        "class Student:\n",
        "    # Class attribute\n",
        "    total_students = 0\n",
        "\n",
        "# Access the class attribute\n",
        "print(Student.total_students)  # Output: 0\n",
        "\n",
        "# Delete the class attribute\n",
        "del Student.total_students\n",
        "\n",
        "# Accessing `total_students` now raises an AttributeError\n",
        "# print(Student.total_students)  # Uncommenting this will cause an error\n"
      ],
      "metadata": {
        "colab": {
          "base_uri": "https://localhost:8080/"
        },
        "id": "w2abyyOUa0bj",
        "outputId": "6884625f-bbe2-494e-ae73-cfd6734a2e6d"
      },
      "execution_count": 15,
      "outputs": [
        {
          "output_type": "stream",
          "name": "stdout",
          "text": [
            "0\n"
          ]
        }
      ]
    },
    {
      "cell_type": "code",
      "source": [
        "###static method >> does not modify\n",
        "#No Access to Instance or Class Data\n",
        "#They cannot modify class attributes or instance attributes directly\n",
        "#Unlike instance methods or class methods, they do not take self or cls as their first argument\n",
        "#Static methods are defined using the @staticmethod decorator\n",
        "#does not depend on the instance (self) or the class (cls)"
      ],
      "metadata": {
        "id": "Vz9kcn8La0ef"
      },
      "execution_count": 16,
      "outputs": []
    },
    {
      "cell_type": "code",
      "source": [
        "class MathUtils:\n",
        "    @staticmethod\n",
        "    def add_numbers(a, b):\n",
        "        return a + b\n",
        "\n",
        "    @staticmethod\n",
        "    def multiply_numbers(a, b):\n",
        "        return a * b\n",
        "\n",
        "# Call static methods using the class name\n",
        "print(MathUtils.add_numbers(5, 10))       # Output: 15\n",
        "print(MathUtils.multiply_numbers(5, 10)) # Output: 50\n",
        "\n",
        "# Call static methods using an instance\n",
        "math_util = MathUtils()\n",
        "print(math_util.add_numbers(3, 7))        # Output: 10\n"
      ],
      "metadata": {
        "colab": {
          "base_uri": "https://localhost:8080/"
        },
        "id": "NS31xdhua0h9",
        "outputId": "93203fee-1f59-43d6-d536-e8007f70f58a"
      },
      "execution_count": 17,
      "outputs": [
        {
          "output_type": "stream",
          "name": "stdout",
          "text": [
            "15\n",
            "50\n",
            "10\n"
          ]
        }
      ]
    },
    {
      "cell_type": "code",
      "source": [
        "##Static Method vs. Class Method\n",
        "class Example:\n",
        "    value = 10\n",
        "\n",
        "    @staticmethod\n",
        "    def static_method():\n",
        "        print(\"Static method called\")\n",
        "\n",
        "    @classmethod\n",
        "    def class_method(cls):\n",
        "        print(f\"Class method called. Value = {cls.value}\")\n",
        "\n",
        "Example.static_method()  # Output: Static method called\n",
        "Example.class_method()   # Output: Class method called. Value = 10\n"
      ],
      "metadata": {
        "colab": {
          "base_uri": "https://localhost:8080/"
        },
        "id": "-nbF9_IiggeI",
        "outputId": "5616cb8d-d718-47ae-b440-d351964ffef0"
      },
      "execution_count": 18,
      "outputs": [
        {
          "output_type": "stream",
          "name": "stdout",
          "text": [
            "Static method called\n",
            "Class method called. Value = 10\n"
          ]
        }
      ]
    },
    {
      "cell_type": "code",
      "source": [],
      "metadata": {
        "id": "Ddvjufxignsh"
      },
      "execution_count": null,
      "outputs": []
    },
    {
      "cell_type": "code",
      "source": [],
      "metadata": {
        "id": "BG3_WrKlgnvP"
      },
      "execution_count": null,
      "outputs": []
    },
    {
      "cell_type": "code",
      "source": [],
      "metadata": {
        "id": "dF9n2el8gnyG"
      },
      "execution_count": null,
      "outputs": []
    },
    {
      "cell_type": "code",
      "source": [],
      "metadata": {
        "id": "kXY7EeT4gn0o"
      },
      "execution_count": null,
      "outputs": []
    },
    {
      "cell_type": "code",
      "source": [],
      "metadata": {
        "id": "10rT8JiQgn3X"
      },
      "execution_count": null,
      "outputs": []
    },
    {
      "cell_type": "code",
      "source": [],
      "metadata": {
        "id": "JE34xYL-gn6O"
      },
      "execution_count": null,
      "outputs": []
    },
    {
      "cell_type": "code",
      "source": [],
      "metadata": {
        "id": "fOF_wo6ngn85"
      },
      "execution_count": null,
      "outputs": []
    },
    {
      "cell_type": "code",
      "source": [],
      "metadata": {
        "id": "kFGhHuqYgn_e"
      },
      "execution_count": null,
      "outputs": []
    },
    {
      "cell_type": "code",
      "source": [],
      "metadata": {
        "id": "ReEinkrMgoDB"
      },
      "execution_count": null,
      "outputs": []
    }
  ]
}