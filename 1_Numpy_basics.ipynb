{
  "cells": [
    {
      "cell_type": "markdown",
      "metadata": {
        "id": "view-in-github",
        "colab_type": "text"
      },
      "source": [
        "<a href=\"https://colab.research.google.com/github/anandkgupt/My-Practical-lab/blob/main/1_Numpy_basics.ipynb\" target=\"_parent\"><img src=\"https://colab.research.google.com/assets/colab-badge.svg\" alt=\"Open In Colab\"/></a>"
      ]
    },
    {
      "cell_type": "code",
      "execution_count": null,
      "id": "0c11627c-28be-4891-aa4e-a13d83f0a4e0",
      "metadata": {
        "id": "0c11627c-28be-4891-aa4e-a13d83f0a4e0"
      },
      "outputs": [],
      "source": [
        "#numpy>> numerical python\n",
        "#2005 by Travis Oliphant\n",
        "#before 2005 there were special mathematical tools (similar to Tora, Linga)"
      ]
    },
    {
      "cell_type": "code",
      "execution_count": null,
      "id": "92cc0cd6-d200-4cc5-86b7-fc0ca5bcfd7d",
      "metadata": {
        "id": "92cc0cd6-d200-4cc5-86b7-fc0ca5bcfd7d"
      },
      "outputs": [],
      "source": [
        "import numpy as np #as is alias"
      ]
    },
    {
      "cell_type": "code",
      "execution_count": null,
      "id": "715f59f2-67b8-4282-b292-4a1c8a12d227",
      "metadata": {
        "id": "715f59f2-67b8-4282-b292-4a1c8a12d227",
        "outputId": "0e07ec92-0386-4451-a233-a9d540dda133"
      },
      "outputs": [
        {
          "data": {
            "text/plain": [
              "'1.23.5'"
            ]
          },
          "execution_count": 3,
          "metadata": {},
          "output_type": "execute_result"
        }
      ],
      "source": [
        "np.__version__"
      ]
    },
    {
      "cell_type": "code",
      "execution_count": null,
      "id": "6d8987e1-1b58-46a7-b4fe-967c575d9b2f",
      "metadata": {
        "id": "6d8987e1-1b58-46a7-b4fe-967c575d9b2f",
        "outputId": "c68237d9-5085-41a5-9190-60dd917c4b88"
      },
      "outputs": [
        {
          "name": "stdout",
          "output_type": "stream",
          "text": [
            "\n",
            "NumPy\n",
            "=====\n",
            "\n",
            "Provides\n",
            "  1. An array object of arbitrary homogeneous items\n",
            "  2. Fast mathematical operations over arrays\n",
            "  3. Linear Algebra, Fourier Transforms, Random Number Generation\n",
            "\n",
            "How to use the documentation\n",
            "----------------------------\n",
            "Documentation is available in two forms: docstrings provided\n",
            "with the code, and a loose standing reference guide, available from\n",
            "`the NumPy homepage <https://numpy.org>`_.\n",
            "\n",
            "We recommend exploring the docstrings using\n",
            "`IPython <https://ipython.org>`_, an advanced Python shell with\n",
            "TAB-completion and introspection capabilities.  See below for further\n",
            "instructions.\n",
            "\n",
            "The docstring examples assume that `numpy` has been imported as `np`::\n",
            "\n",
            "  >>> import numpy as np\n",
            "\n",
            "Code snippets are indicated by three greater-than signs::\n",
            "\n",
            "  >>> x = 42\n",
            "  >>> x = x + 1\n",
            "\n",
            "Use the built-in ``help`` function to view a function's docstring::\n",
            "\n",
            "  >>> help(np.sort)\n",
            "  ... # doctest: +SKIP\n",
            "\n",
            "For some objects, ``np.info(obj)`` may provide additional help.  This is\n",
            "particularly true if you see the line \"Help on ufunc object:\" at the top\n",
            "of the help() page.  Ufuncs are implemented in C, not Python, for speed.\n",
            "The native Python help() does not know how to view their help, but our\n",
            "np.info() function does.\n",
            "\n",
            "To search for documents containing a keyword, do::\n",
            "\n",
            "  >>> np.lookfor('keyword')\n",
            "  ... # doctest: +SKIP\n",
            "\n",
            "General-purpose documents like a glossary and help on the basic concepts\n",
            "of numpy are available under the ``doc`` sub-module::\n",
            "\n",
            "  >>> from numpy import doc\n",
            "  >>> help(doc)\n",
            "  ... # doctest: +SKIP\n",
            "\n",
            "Available subpackages\n",
            "---------------------\n",
            "lib\n",
            "    Basic functions used by several sub-packages.\n",
            "random\n",
            "    Core Random Tools\n",
            "linalg\n",
            "    Core Linear Algebra Tools\n",
            "fft\n",
            "    Core FFT routines\n",
            "polynomial\n",
            "    Polynomial tools\n",
            "testing\n",
            "    NumPy testing tools\n",
            "distutils\n",
            "    Enhancements to distutils with support for\n",
            "    Fortran compilers support and more.\n",
            "\n",
            "Utilities\n",
            "---------\n",
            "test\n",
            "    Run numpy unittests\n",
            "show_config\n",
            "    Show numpy build configuration\n",
            "dual\n",
            "    Overwrite certain functions with high-performance SciPy tools.\n",
            "    Note: `numpy.dual` is deprecated.  Use the functions from NumPy or Scipy\n",
            "    directly instead of importing them from `numpy.dual`.\n",
            "matlib\n",
            "    Make everything matrices.\n",
            "__version__\n",
            "    NumPy version string\n",
            "\n",
            "Viewing documentation using IPython\n",
            "-----------------------------------\n",
            "Start IPython with the NumPy profile (``ipython -p numpy``), which will\n",
            "import `numpy` under the alias `np`.  Then, use the ``cpaste`` command to\n",
            "paste examples into the shell.  To see which functions are available in\n",
            "`numpy`, type ``np.<TAB>`` (where ``<TAB>`` refers to the TAB key), or use\n",
            "``np.*cos*?<ENTER>`` (where ``<ENTER>`` refers to the ENTER key) to narrow\n",
            "down the list.  To view the docstring for a function, use\n",
            "``np.cos?<ENTER>`` (to view the docstring) and ``np.cos??<ENTER>`` (to view\n",
            "the source code).\n",
            "\n",
            "Copies vs. in-place operation\n",
            "-----------------------------\n",
            "Most of the functions in `numpy` return a copy of the array argument\n",
            "(e.g., `np.sort`).  In-place versions of these functions are often\n",
            "available as array methods, i.e. ``x = np.array([1,2,3]); x.sort()``.\n",
            "Exceptions to this rule are documented.\n",
            "\n",
            "\n"
          ]
        }
      ],
      "source": [
        "print(np.__doc__)"
      ]
    },
    {
      "cell_type": "code",
      "execution_count": null,
      "id": "8b525f66-0bac-47ff-9c1d-856b3e904ea7",
      "metadata": {
        "id": "8b525f66-0bac-47ff-9c1d-856b3e904ea7",
        "outputId": "26c33bf1-7637-4199-87c7-6c2a40277b32"
      },
      "outputs": [
        {
          "data": {
            "text/plain": [
              "list"
            ]
          },
          "execution_count": 5,
          "metadata": {},
          "output_type": "execute_result"
        }
      ],
      "source": [
        "lis = [1, 2, 3, \"pwskills\", 3+5j, True, 1.2] #list stores heterogenous data\n",
        "type(lis)"
      ]
    },
    {
      "cell_type": "code",
      "execution_count": null,
      "id": "5304f690-0e53-4730-bbfd-5c29a52bb22d",
      "metadata": {
        "id": "5304f690-0e53-4730-bbfd-5c29a52bb22d"
      },
      "outputs": [],
      "source": [
        "#Numpy stored the data in a numpy array\n",
        "#An array is a container/data structure used to store data of same data type>> homogenous"
      ]
    },
    {
      "cell_type": "code",
      "execution_count": null,
      "id": "ed243b2a-61d1-4859-9ee1-5f0ae599c152",
      "metadata": {
        "id": "ed243b2a-61d1-4859-9ee1-5f0ae599c152"
      },
      "outputs": [],
      "source": [
        "#why numpy? already we have list, C is one of the fastest programming language after c++\n",
        "#numpy is built using C>> Numpy computation is fast\n",
        "#due to array>>since it stores only homogenous data, numpy array is faster\n",
        "#since it stores homogenous data>> contiguous/continuous memory location\n",
        "#Mathematical computation is fast"
      ]
    },
    {
      "cell_type": "code",
      "execution_count": null,
      "id": "71e5a1d5-fb8d-4603-9153-86c4347b4e6d",
      "metadata": {
        "id": "71e5a1d5-fb8d-4603-9153-86c4347b4e6d"
      },
      "outputs": [],
      "source": [
        "l = [1, 2, 3, 4, 5] #numpy array is homogenous>>all elements can be interger, float, string"
      ]
    },
    {
      "cell_type": "code",
      "execution_count": null,
      "id": "6e47d24d-a888-4eee-a667-e1703ee429d3",
      "metadata": {
        "id": "6e47d24d-a888-4eee-a667-e1703ee429d3"
      },
      "outputs": [],
      "source": [
        "arr = np.array(l) #numpy.ndarray>>n dimensional array"
      ]
    },
    {
      "cell_type": "code",
      "execution_count": 3,
      "id": "41b76bbd-1d1d-463e-95a2-f25804c92b92",
      "metadata": {
        "id": "41b76bbd-1d1d-463e-95a2-f25804c92b92",
        "outputId": "18c2ae41-71f9-432c-ba05-c46435c2cbe0",
        "colab": {
          "base_uri": "https://localhost:8080/",
          "height": 141
        }
      },
      "outputs": [
        {
          "output_type": "error",
          "ename": "NameError",
          "evalue": "name 'arr' is not defined",
          "traceback": [
            "\u001b[0;31m---------------------------------------------------------------------------\u001b[0m",
            "\u001b[0;31mNameError\u001b[0m                                 Traceback (most recent call last)",
            "\u001b[0;32m<ipython-input-3-f2c5cac2816c>\u001b[0m in \u001b[0;36m<cell line: 1>\u001b[0;34m()\u001b[0m\n\u001b[0;32m----> 1\u001b[0;31m \u001b[0mtype\u001b[0m\u001b[0;34m(\u001b[0m\u001b[0marr\u001b[0m\u001b[0;34m)\u001b[0m\u001b[0;34m\u001b[0m\u001b[0;34m\u001b[0m\u001b[0m\n\u001b[0m",
            "\u001b[0;31mNameError\u001b[0m: name 'arr' is not defined"
          ]
        }
      ],
      "source": [
        "type(arr)"
      ]
    },
    {
      "cell_type": "code",
      "execution_count": 2,
      "id": "f5f74c84-892a-46e5-9333-74589de23110",
      "metadata": {
        "id": "f5f74c84-892a-46e5-9333-74589de23110",
        "outputId": "aff7ec7e-237f-4260-f160-a64c3a669ea7",
        "colab": {
          "base_uri": "https://localhost:8080/",
          "height": 141
        }
      },
      "outputs": [
        {
          "output_type": "error",
          "ename": "NameError",
          "evalue": "name 'arr' is not defined",
          "traceback": [
            "\u001b[0;31m---------------------------------------------------------------------------\u001b[0m",
            "\u001b[0;31mNameError\u001b[0m                                 Traceback (most recent call last)",
            "\u001b[0;32m<ipython-input-2-24a6d41c5b66>\u001b[0m in \u001b[0;36m<cell line: 1>\u001b[0;34m()\u001b[0m\n\u001b[0;32m----> 1\u001b[0;31m \u001b[0marr\u001b[0m\u001b[0;34m\u001b[0m\u001b[0;34m\u001b[0m\u001b[0m\n\u001b[0m",
            "\u001b[0;31mNameError\u001b[0m: name 'arr' is not defined"
          ]
        }
      ],
      "source": [
        "arr"
      ]
    },
    {
      "cell_type": "code",
      "execution_count": null,
      "id": "dec833ce-4d9b-40fc-9012-1193c08116d7",
      "metadata": {
        "id": "dec833ce-4d9b-40fc-9012-1193c08116d7",
        "outputId": "d1b3a809-8313-4474-c37b-f0e8f2c32a92"
      },
      "outputs": [
        {
          "data": {
            "text/plain": [
              "array(['1', '2', '3', '4', '5', 'Ajay'], dtype='<U21')"
            ]
          },
          "execution_count": 12,
          "metadata": {},
          "output_type": "execute_result"
        }
      ],
      "source": [
        "l = [1, 2, 3, 4, 5, \"Ajay\"]\n",
        "np.array(l)"
      ]
    },
    {
      "cell_type": "code",
      "execution_count": null,
      "id": "e60b4290-1c5d-4781-8b9f-afe63fd7fef1",
      "metadata": {
        "id": "e60b4290-1c5d-4781-8b9f-afe63fd7fef1"
      },
      "outputs": [],
      "source": [
        "#array stores homogenous data"
      ]
    },
    {
      "cell_type": "code",
      "execution_count": null,
      "id": "d75db728-8203-474d-af7a-6609bbb0259e",
      "metadata": {
        "id": "d75db728-8203-474d-af7a-6609bbb0259e",
        "outputId": "ec8b4d6f-56a8-447a-8ea4-00ef99780227"
      },
      "outputs": [
        {
          "data": {
            "text/plain": [
              "array([1. , 2. , 3. , 4. , 5. , 2.5])"
            ]
          },
          "execution_count": 14,
          "metadata": {},
          "output_type": "execute_result"
        }
      ],
      "source": [
        "l = [1, 2, 3, 4, 5, 2.5]\n",
        "np.array(l)"
      ]
    },
    {
      "cell_type": "code",
      "execution_count": null,
      "id": "2c43feb2-119f-45ce-8d61-b3146a6bc42d",
      "metadata": {
        "id": "2c43feb2-119f-45ce-8d61-b3146a6bc42d",
        "outputId": "b829d786-2d46-4ef4-f303-064a9086a9e7"
      },
      "outputs": [
        {
          "data": {
            "text/plain": [
              "array(['1', '2', '3', '4', '5', '2.5', 'pwskills'], dtype='<U32')"
            ]
          },
          "execution_count": 15,
          "metadata": {},
          "output_type": "execute_result"
        }
      ],
      "source": [
        "l = [1, 2, 3, 4, 5, 2.5, \"pwskills\"]\n",
        "np.array(l)"
      ]
    },
    {
      "cell_type": "code",
      "execution_count": null,
      "id": "63df7c3e-a659-4150-8ab3-3f2c955e18c3",
      "metadata": {
        "id": "63df7c3e-a659-4150-8ab3-3f2c955e18c3",
        "outputId": "85a98e31-33ff-46c8-860c-03963eaad390"
      },
      "outputs": [
        {
          "data": {
            "text/plain": [
              "numpy.ndarray"
            ]
          },
          "execution_count": 16,
          "metadata": {},
          "output_type": "execute_result"
        }
      ],
      "source": [
        "type(arr)"
      ]
    },
    {
      "cell_type": "code",
      "execution_count": null,
      "id": "a759a228-12ed-4e56-ba44-8e293848fa2b",
      "metadata": {
        "id": "a759a228-12ed-4e56-ba44-8e293848fa2b",
        "outputId": "a5c8a6c2-b758-45ff-eaf3-73f95c119ffa"
      },
      "outputs": [
        {
          "data": {
            "text/plain": [
              "array([1, 2, 3, 4, 5])"
            ]
          },
          "execution_count": 17,
          "metadata": {},
          "output_type": "execute_result"
        }
      ],
      "source": [
        "arr"
      ]
    },
    {
      "cell_type": "code",
      "execution_count": null,
      "id": "5a111f78-520c-4c04-b264-e1a866f1a34e",
      "metadata": {
        "id": "5a111f78-520c-4c04-b264-e1a866f1a34e",
        "outputId": "7443c3d9-4d7a-407b-e301-df1cf7354d5d"
      },
      "outputs": [
        {
          "data": {
            "text/plain": [
              "1"
            ]
          },
          "execution_count": 18,
          "metadata": {},
          "output_type": "execute_result"
        }
      ],
      "source": [
        "arr.ndim #arr has only rows"
      ]
    },
    {
      "cell_type": "code",
      "execution_count": null,
      "id": "3f0de339-cb9e-45d8-b3d3-21ca151d1dbf",
      "metadata": {
        "id": "3f0de339-cb9e-45d8-b3d3-21ca151d1dbf"
      },
      "outputs": [],
      "source": [
        "arr1 = np.array([[1, 2, 3], [4, 5, 6]])"
      ]
    },
    {
      "cell_type": "code",
      "execution_count": null,
      "id": "2a0eb8d8-097f-4860-85c4-5d21965733e6",
      "metadata": {
        "id": "2a0eb8d8-097f-4860-85c4-5d21965733e6",
        "outputId": "d26384e8-9adb-4819-dab2-d2f794821cf9"
      },
      "outputs": [
        {
          "data": {
            "text/plain": [
              "array([[1, 2, 3],\n",
              "       [4, 5, 6]])"
            ]
          },
          "execution_count": 21,
          "metadata": {},
          "output_type": "execute_result"
        }
      ],
      "source": [
        "arr1"
      ]
    },
    {
      "cell_type": "code",
      "execution_count": null,
      "id": "afe7ecb7-bbc5-4009-8577-414a180ac521",
      "metadata": {
        "id": "afe7ecb7-bbc5-4009-8577-414a180ac521",
        "outputId": "9932328e-994e-479a-ae2c-ce3a72d1a350"
      },
      "outputs": [
        {
          "data": {
            "text/plain": [
              "2"
            ]
          },
          "execution_count": 22,
          "metadata": {},
          "output_type": "execute_result"
        }
      ],
      "source": [
        "arr1.ndim"
      ]
    },
    {
      "cell_type": "code",
      "execution_count": null,
      "id": "bd4b9850-0d4b-4ae7-b2dc-e73d41e265f9",
      "metadata": {
        "id": "bd4b9850-0d4b-4ae7-b2dc-e73d41e265f9"
      },
      "outputs": [],
      "source": [
        "mat = np.matrix([1, 2, 3, 4]) #matrix is a specialised array of 2 dimension"
      ]
    },
    {
      "cell_type": "code",
      "execution_count": null,
      "id": "93c3a4d2-468b-4833-9d36-33f5014a687e",
      "metadata": {
        "id": "93c3a4d2-468b-4833-9d36-33f5014a687e",
        "outputId": "0053fb68-53f0-4641-c8a7-24737a6dac21"
      },
      "outputs": [
        {
          "data": {
            "text/plain": [
              "numpy.matrix"
            ]
          },
          "execution_count": 25,
          "metadata": {},
          "output_type": "execute_result"
        }
      ],
      "source": [
        "type(mat)"
      ]
    },
    {
      "cell_type": "code",
      "execution_count": null,
      "id": "b864d965-5568-4e73-b3e7-ecc406a8c95e",
      "metadata": {
        "id": "b864d965-5568-4e73-b3e7-ecc406a8c95e",
        "outputId": "187e7d64-d58f-4572-8217-43aa9ad2cdc1"
      },
      "outputs": [
        {
          "data": {
            "text/plain": [
              "2"
            ]
          },
          "execution_count": 26,
          "metadata": {},
          "output_type": "execute_result"
        }
      ],
      "source": [
        "mat.ndim"
      ]
    },
    {
      "cell_type": "code",
      "execution_count": null,
      "id": "9eeb54b3-1bd3-42ec-b0b4-b02eb886fa19",
      "metadata": {
        "id": "9eeb54b3-1bd3-42ec-b0b4-b02eb886fa19",
        "outputId": "f5444ef3-1861-4b9e-de5d-f4019317787b"
      },
      "outputs": [
        {
          "data": {
            "text/plain": [
              "matrix([[1, 2, 3, 4]])"
            ]
          },
          "execution_count": 27,
          "metadata": {},
          "output_type": "execute_result"
        }
      ],
      "source": [
        "mat"
      ]
    },
    {
      "cell_type": "code",
      "execution_count": null,
      "id": "a8b53d7d-9c36-498f-b454-61c706c5bd81",
      "metadata": {
        "id": "a8b53d7d-9c36-498f-b454-61c706c5bd81"
      },
      "outputs": [],
      "source": [
        "#To understand the dimension, see the no of opening/closing square bracket"
      ]
    },
    {
      "cell_type": "code",
      "execution_count": null,
      "id": "ab0a3dc4-d13c-4e3e-b454-3bee823fc0e4",
      "metadata": {
        "id": "ab0a3dc4-d13c-4e3e-b454-3bee823fc0e4",
        "outputId": "115e8ce9-295d-4c7c-aa85-ebbf87d209ee"
      },
      "outputs": [
        {
          "ename": "ValueError",
          "evalue": "matrix must be 2-dimensional",
          "output_type": "error",
          "traceback": [
            "\u001b[0;31m---------------------------------------------------------------------------\u001b[0m",
            "\u001b[0;31mValueError\u001b[0m                                Traceback (most recent call last)",
            "Cell \u001b[0;32mIn[28], line 1\u001b[0m\n\u001b[0;32m----> 1\u001b[0m \u001b[43mnp\u001b[49m\u001b[38;5;241;43m.\u001b[39;49m\u001b[43mmatrix\u001b[49m\u001b[43m(\u001b[49m\u001b[43m[\u001b[49m\u001b[43m[\u001b[49m\u001b[43m[\u001b[49m\u001b[38;5;241;43m1\u001b[39;49m\u001b[43m,\u001b[49m\u001b[43m \u001b[49m\u001b[38;5;241;43m2\u001b[39;49m\u001b[43m]\u001b[49m\u001b[43m,\u001b[49m\u001b[43m \u001b[49m\u001b[43m[\u001b[49m\u001b[38;5;241;43m1\u001b[39;49m\u001b[43m,\u001b[49m\u001b[43m \u001b[49m\u001b[38;5;241;43m5\u001b[39;49m\u001b[43m]\u001b[49m\u001b[43m,\u001b[49m\u001b[43m \u001b[49m\u001b[43m[\u001b[49m\u001b[38;5;241;43m3\u001b[39;49m\u001b[43m,\u001b[49m\u001b[43m \u001b[49m\u001b[38;5;241;43m6\u001b[39;49m\u001b[43m]\u001b[49m\u001b[43m]\u001b[49m\u001b[43m]\u001b[49m\u001b[43m)\u001b[49m\n",
            "File \u001b[0;32m/opt/conda/lib/python3.10/site-packages/numpy/matrixlib/defmatrix.py:149\u001b[0m, in \u001b[0;36mmatrix.__new__\u001b[0;34m(subtype, data, dtype, copy)\u001b[0m\n\u001b[1;32m    147\u001b[0m shape \u001b[38;5;241m=\u001b[39m arr\u001b[38;5;241m.\u001b[39mshape\n\u001b[1;32m    148\u001b[0m \u001b[38;5;28;01mif\u001b[39;00m (ndim \u001b[38;5;241m>\u001b[39m \u001b[38;5;241m2\u001b[39m):\n\u001b[0;32m--> 149\u001b[0m     \u001b[38;5;28;01mraise\u001b[39;00m \u001b[38;5;167;01mValueError\u001b[39;00m(\u001b[38;5;124m\"\u001b[39m\u001b[38;5;124mmatrix must be 2-dimensional\u001b[39m\u001b[38;5;124m\"\u001b[39m)\n\u001b[1;32m    150\u001b[0m \u001b[38;5;28;01melif\u001b[39;00m ndim \u001b[38;5;241m==\u001b[39m \u001b[38;5;241m0\u001b[39m:\n\u001b[1;32m    151\u001b[0m     shape \u001b[38;5;241m=\u001b[39m (\u001b[38;5;241m1\u001b[39m, \u001b[38;5;241m1\u001b[39m)\n",
            "\u001b[0;31mValueError\u001b[0m: matrix must be 2-dimensional"
          ]
        }
      ],
      "source": [
        "np.matrix([[[1, 2], [1, 5], [3, 6]]]) #will throw error-matrix must be 2-dimensional"
      ]
    },
    {
      "cell_type": "code",
      "execution_count": null,
      "id": "e5fd0146-e441-4cc6-bf33-828fd0f4c220",
      "metadata": {
        "id": "e5fd0146-e441-4cc6-bf33-828fd0f4c220"
      },
      "outputs": [],
      "source": [
        "arr3 = np.array([[[1, 2], [1, 5], [3, 6]]])"
      ]
    },
    {
      "cell_type": "code",
      "execution_count": null,
      "id": "fdb3a490-e44e-4a41-83ae-71c20ab14f4f",
      "metadata": {
        "id": "fdb3a490-e44e-4a41-83ae-71c20ab14f4f",
        "outputId": "8575fffe-3570-4fd0-b508-275adfb402e9"
      },
      "outputs": [
        {
          "data": {
            "text/plain": [
              "array([[[1, 2],\n",
              "        [1, 5],\n",
              "        [3, 6]]])"
            ]
          },
          "execution_count": 30,
          "metadata": {},
          "output_type": "execute_result"
        }
      ],
      "source": [
        "arr3"
      ]
    },
    {
      "cell_type": "code",
      "execution_count": null,
      "id": "dd2e2ebd-d308-40ad-9542-05244da4c959",
      "metadata": {
        "id": "dd2e2ebd-d308-40ad-9542-05244da4c959",
        "outputId": "373b0115-73a9-4869-c45c-77da213064b0"
      },
      "outputs": [
        {
          "data": {
            "text/plain": [
              "3"
            ]
          },
          "execution_count": 31,
          "metadata": {},
          "output_type": "execute_result"
        }
      ],
      "source": [
        "arr3.ndim"
      ]
    },
    {
      "cell_type": "code",
      "execution_count": null,
      "id": "4cbe0c35-44f7-4c5e-a6b4-fdd8177c62a7",
      "metadata": {
        "id": "4cbe0c35-44f7-4c5e-a6b4-fdd8177c62a7",
        "outputId": "e543fff3-02c8-4fc9-8e28-5aa0095ea43c"
      },
      "outputs": [
        {
          "data": {
            "text/plain": [
              "array([1, 2, 3])"
            ]
          },
          "execution_count": 32,
          "metadata": {},
          "output_type": "execute_result"
        }
      ],
      "source": [
        "#more ways to array\n",
        "l = [1, 2, 3]\n",
        "np.asarray(l) #initial function asarray to convert to an array, np.array came after this"
      ]
    },
    {
      "cell_type": "code",
      "execution_count": null,
      "id": "3e6e7343-439b-4276-86bc-4665ce4ce2d5",
      "metadata": {
        "id": "3e6e7343-439b-4276-86bc-4665ce4ce2d5",
        "outputId": "a8c5fd19-9ab7-4ca5-a8f6-60e8a04b2168"
      },
      "outputs": [
        {
          "data": {
            "text/plain": [
              "array([1, 2, 3])"
            ]
          },
          "execution_count": 34,
          "metadata": {},
          "output_type": "execute_result"
        }
      ],
      "source": [
        "np.asanyarray([1, 2, 3])"
      ]
    },
    {
      "cell_type": "code",
      "execution_count": null,
      "id": "f765619b-f848-4f6a-a5c5-f70f4f6efea7",
      "metadata": {
        "id": "f765619b-f848-4f6a-a5c5-f70f4f6efea7"
      },
      "outputs": [],
      "source": [
        "#asanyarray will contert the input to an ndarray, but pass ndarray subclasses through\n",
        "#if something is already an array or part of array, it will simply allow to pass through it"
      ]
    },
    {
      "cell_type": "code",
      "execution_count": null,
      "id": "20911fa7-6004-443b-a51b-96f09752c33e",
      "metadata": {
        "id": "20911fa7-6004-443b-a51b-96f09752c33e",
        "outputId": "997588f8-43e9-4e4e-894f-670d7ed35fed"
      },
      "outputs": [
        {
          "data": {
            "text/plain": [
              "array([1, 2, 3])"
            ]
          },
          "execution_count": 36,
          "metadata": {},
          "output_type": "execute_result"
        }
      ],
      "source": [
        "np.asanyarray([1, 2, 3])"
      ]
    },
    {
      "cell_type": "code",
      "execution_count": null,
      "id": "a056ad6d-8f55-4937-9f1e-da4d94f36ab0",
      "metadata": {
        "id": "a056ad6d-8f55-4937-9f1e-da4d94f36ab0",
        "outputId": "1d9a0de3-55d4-4109-c26f-02e2214537fd"
      },
      "outputs": [
        {
          "data": {
            "text/plain": [
              "matrix([[1, 2, 3, 4]])"
            ]
          },
          "execution_count": 37,
          "metadata": {},
          "output_type": "execute_result"
        }
      ],
      "source": [
        "mat"
      ]
    },
    {
      "cell_type": "code",
      "execution_count": null,
      "id": "4edccf37-3690-4a52-97d2-fd081c4d7b8a",
      "metadata": {
        "id": "4edccf37-3690-4a52-97d2-fd081c4d7b8a",
        "outputId": "69fca62b-7697-431a-a98d-46053effb078"
      },
      "outputs": [
        {
          "data": {
            "text/plain": [
              "matrix([[1, 2, 3, 4]])"
            ]
          },
          "execution_count": 38,
          "metadata": {},
          "output_type": "execute_result"
        }
      ],
      "source": [
        "np.asanyarray(mat)"
      ]
    },
    {
      "cell_type": "code",
      "execution_count": null,
      "id": "8f563aa7-26cc-4719-8329-1b44c6903ae3",
      "metadata": {
        "id": "8f563aa7-26cc-4719-8329-1b44c6903ae3",
        "outputId": "632cad03-b6a6-4552-f2e8-6741b89d2ec0"
      },
      "outputs": [
        {
          "data": {
            "text/plain": [
              "tuple"
            ]
          },
          "execution_count": 39,
          "metadata": {},
          "output_type": "execute_result"
        }
      ],
      "source": [
        "t = ([1, 2, 3], [4, 5, 6])\n",
        "type(t)"
      ]
    },
    {
      "cell_type": "code",
      "execution_count": null,
      "id": "38386803-89aa-4663-98a3-977807a9179e",
      "metadata": {
        "id": "38386803-89aa-4663-98a3-977807a9179e",
        "outputId": "d4cd78f1-c592-4ff6-f6c1-6e5c0a54c789"
      },
      "outputs": [
        {
          "data": {
            "text/plain": [
              "array([[1, 2, 3],\n",
              "       [4, 5, 6]])"
            ]
          },
          "execution_count": 40,
          "metadata": {},
          "output_type": "execute_result"
        }
      ],
      "source": [
        "np.array(t)"
      ]
    },
    {
      "cell_type": "code",
      "execution_count": null,
      "id": "e45f392a-01cb-4539-ad88-4368dada3015",
      "metadata": {
        "id": "e45f392a-01cb-4539-ad88-4368dada3015",
        "outputId": "5a747bb5-4b7c-4d2b-a2ca-b39847a895ed"
      },
      "outputs": [
        {
          "data": {
            "text/plain": [
              "array([1, 2, 3, 4, 5])"
            ]
          },
          "execution_count": 41,
          "metadata": {},
          "output_type": "execute_result"
        }
      ],
      "source": [
        "arr"
      ]
    },
    {
      "cell_type": "code",
      "execution_count": null,
      "id": "c2f04929-a8b0-4c86-aa2d-e1324e770d31",
      "metadata": {
        "id": "c2f04929-a8b0-4c86-aa2d-e1324e770d31",
        "outputId": "37329369-c400-4212-c2e9-af8dc1a2dbb5"
      },
      "outputs": [
        {
          "data": {
            "text/plain": [
              "1"
            ]
          },
          "execution_count": 43,
          "metadata": {},
          "output_type": "execute_result"
        }
      ],
      "source": [
        "#accessing elements of the array\n",
        "arr[0]"
      ]
    },
    {
      "cell_type": "code",
      "execution_count": null,
      "id": "ca7086f3-932e-4a2f-93c1-671838132099",
      "metadata": {
        "id": "ca7086f3-932e-4a2f-93c1-671838132099"
      },
      "outputs": [],
      "source": [
        "#array is mutable\n",
        "arr[0] = 1000"
      ]
    },
    {
      "cell_type": "code",
      "execution_count": null,
      "id": "cf8cb290-a39c-42b2-96e7-84658c328864",
      "metadata": {
        "id": "cf8cb290-a39c-42b2-96e7-84658c328864",
        "outputId": "1738c06f-317f-4f8b-8292-73dd1f72b77b"
      },
      "outputs": [
        {
          "data": {
            "text/plain": [
              "array([1000,    2,    3,    4,    5])"
            ]
          },
          "execution_count": 45,
          "metadata": {},
          "output_type": "execute_result"
        }
      ],
      "source": [
        "arr"
      ]
    },
    {
      "cell_type": "code",
      "execution_count": null,
      "id": "2a76e927-0858-49c9-a909-79d0055bdc7d",
      "metadata": {
        "id": "2a76e927-0858-49c9-a909-79d0055bdc7d",
        "outputId": "fb41f246-7046-4da7-a877-2f3f0bed9b71"
      },
      "outputs": [
        {
          "data": {
            "text/plain": [
              "array([1000,    2,    3,    4,    5])"
            ]
          },
          "execution_count": 46,
          "metadata": {},
          "output_type": "execute_result"
        }
      ],
      "source": [
        "arr"
      ]
    },
    {
      "cell_type": "code",
      "execution_count": null,
      "id": "0808f384-c518-497f-9898-c27f3e9c3bcc",
      "metadata": {
        "id": "0808f384-c518-497f-9898-c27f3e9c3bcc"
      },
      "outputs": [],
      "source": [
        "#a and arr will point to same memory location, so if there is change is a or arr\n",
        "#it will reflect on both\n",
        "\n",
        "a = arr"
      ]
    },
    {
      "cell_type": "code",
      "execution_count": null,
      "id": "a8ff514c-8e00-4135-a251-095f3b1cc203",
      "metadata": {
        "id": "a8ff514c-8e00-4135-a251-095f3b1cc203",
        "outputId": "e91a421f-2d4e-43f6-df6d-611848959069"
      },
      "outputs": [
        {
          "data": {
            "text/plain": [
              "array([1000,    2,    3,    4,    5])"
            ]
          },
          "execution_count": 49,
          "metadata": {},
          "output_type": "execute_result"
        }
      ],
      "source": [
        "a"
      ]
    },
    {
      "cell_type": "code",
      "execution_count": null,
      "id": "84fad9d3-138a-490c-8e61-0f277ff6b0c5",
      "metadata": {
        "id": "84fad9d3-138a-490c-8e61-0f277ff6b0c5",
        "outputId": "ee530c7b-0511-4c73-9752-b733f344ab20"
      },
      "outputs": [
        {
          "data": {
            "text/plain": [
              "array([1000,    2,    3,    4,    5])"
            ]
          },
          "execution_count": 50,
          "metadata": {},
          "output_type": "execute_result"
        }
      ],
      "source": [
        "arr"
      ]
    },
    {
      "cell_type": "code",
      "execution_count": null,
      "id": "4c103cd3-695e-47d6-9ff9-d4ed8b77eaa8",
      "metadata": {
        "id": "4c103cd3-695e-47d6-9ff9-d4ed8b77eaa8"
      },
      "outputs": [],
      "source": [
        "#shallow copy>> change in one array will lead to change in another"
      ]
    },
    {
      "cell_type": "code",
      "execution_count": null,
      "id": "cd0ebd2d-d7b5-48e1-a5c1-5eeecc4daf3b",
      "metadata": {
        "id": "cd0ebd2d-d7b5-48e1-a5c1-5eeecc4daf3b"
      },
      "outputs": [],
      "source": [
        "a[0] = 5000"
      ]
    },
    {
      "cell_type": "code",
      "execution_count": null,
      "id": "715ddc5c-279c-4157-b73e-aa0fe348faf6",
      "metadata": {
        "id": "715ddc5c-279c-4157-b73e-aa0fe348faf6",
        "outputId": "e032cbd4-1bb1-46ae-b366-56b7131e813d"
      },
      "outputs": [
        {
          "data": {
            "text/plain": [
              "array([5000,    2,    3,    4,    5])"
            ]
          },
          "execution_count": 55,
          "metadata": {},
          "output_type": "execute_result"
        }
      ],
      "source": [
        "a"
      ]
    },
    {
      "cell_type": "code",
      "execution_count": null,
      "id": "6e25eff7-6bc1-4388-b00e-3aa5855855b5",
      "metadata": {
        "id": "6e25eff7-6bc1-4388-b00e-3aa5855855b5",
        "outputId": "7aca918c-fade-4898-bdde-4822455ec9a6"
      },
      "outputs": [
        {
          "data": {
            "text/plain": [
              "array([5000,    2,    3,    4,    5])"
            ]
          },
          "execution_count": 56,
          "metadata": {},
          "output_type": "execute_result"
        }
      ],
      "source": [
        "arr"
      ]
    },
    {
      "cell_type": "code",
      "execution_count": null,
      "id": "3cf19183-f630-4618-b07c-496d30380748",
      "metadata": {
        "id": "3cf19183-f630-4618-b07c-496d30380748",
        "outputId": "e4e73001-82c9-465e-a4bc-88c003b7604f"
      },
      "outputs": [
        {
          "data": {
            "text/plain": [
              "array([5000,    2,    3,    4,    5])"
            ]
          },
          "execution_count": 57,
          "metadata": {},
          "output_type": "execute_result"
        }
      ],
      "source": [
        "arr"
      ]
    },
    {
      "cell_type": "code",
      "execution_count": null,
      "id": "6db68fa3-e34c-4012-ae2f-bb9364da6e20",
      "metadata": {
        "id": "6db68fa3-e34c-4012-ae2f-bb9364da6e20"
      },
      "outputs": [],
      "source": [
        "b = arr.copy() #deep copy>> change in one array will not reflect in another"
      ]
    },
    {
      "cell_type": "code",
      "execution_count": null,
      "id": "04c42086-126d-416c-819c-397b4b5a87d9",
      "metadata": {
        "id": "04c42086-126d-416c-819c-397b4b5a87d9",
        "outputId": "e7ec85f5-d80d-4db8-8dce-c1303983f296"
      },
      "outputs": [
        {
          "data": {
            "text/plain": [
              "array([5000,    2,    3,    4,    5])"
            ]
          },
          "execution_count": 59,
          "metadata": {},
          "output_type": "execute_result"
        }
      ],
      "source": [
        "b"
      ]
    },
    {
      "cell_type": "code",
      "execution_count": null,
      "id": "da4a67b0-9d15-4474-b244-47e16e3f8544",
      "metadata": {
        "id": "da4a67b0-9d15-4474-b244-47e16e3f8544"
      },
      "outputs": [],
      "source": [
        "b[0] = 11000"
      ]
    },
    {
      "cell_type": "code",
      "execution_count": null,
      "id": "92659063-a36b-4638-824a-65cbfdcaee2a",
      "metadata": {
        "id": "92659063-a36b-4638-824a-65cbfdcaee2a",
        "outputId": "0553c66e-c157-4751-f22b-488acd35c60a"
      },
      "outputs": [
        {
          "data": {
            "text/plain": [
              "array([11000,     2,     3,     4,     5])"
            ]
          },
          "execution_count": 63,
          "metadata": {},
          "output_type": "execute_result"
        }
      ],
      "source": [
        "b"
      ]
    },
    {
      "cell_type": "code",
      "execution_count": null,
      "id": "085e7d66-2d44-4245-a472-3006ab4db428",
      "metadata": {
        "id": "085e7d66-2d44-4245-a472-3006ab4db428",
        "outputId": "f923c386-059b-476f-9dff-ba86dd22ff1d"
      },
      "outputs": [
        {
          "data": {
            "text/plain": [
              "array([5000,    2,    3,    4,    5])"
            ]
          },
          "execution_count": 64,
          "metadata": {},
          "output_type": "execute_result"
        }
      ],
      "source": [
        "arr"
      ]
    },
    {
      "cell_type": "code",
      "execution_count": null,
      "id": "3713b891-3822-441d-a627-8e28bfab9664",
      "metadata": {
        "id": "3713b891-3822-441d-a627-8e28bfab9664"
      },
      "outputs": [],
      "source": [
        "#To create an array>> np.array, np.asarray, np.asany array"
      ]
    },
    {
      "cell_type": "code",
      "execution_count": null,
      "id": "574bd2ce-ef5d-40ee-9cad-896b67d9f926",
      "metadata": {
        "id": "574bd2ce-ef5d-40ee-9cad-896b67d9f926"
      },
      "outputs": [],
      "source": [
        "#multiple approaches to generate any array"
      ]
    },
    {
      "cell_type": "code",
      "execution_count": null,
      "id": "5f765530-df5d-4d4f-99d2-8e95e284e44a",
      "metadata": {
        "id": "5f765530-df5d-4d4f-99d2-8e95e284e44a"
      },
      "outputs": [],
      "source": [
        "arr1 = np.fromfunction(lambda i, j: i==j, (3,3)) #Construct an array by executing a function over each coordinate"
      ]
    },
    {
      "cell_type": "code",
      "execution_count": null,
      "id": "324b9125-b3e0-4c94-94e7-00f974c79803",
      "metadata": {
        "id": "324b9125-b3e0-4c94-94e7-00f974c79803",
        "outputId": "84fedd48-76a7-4e0c-cbe8-d2deb2310328"
      },
      "outputs": [
        {
          "data": {
            "text/plain": [
              "array([[ True, False, False],\n",
              "       [False,  True, False],\n",
              "       [False, False,  True]])"
            ]
          },
          "execution_count": 70,
          "metadata": {},
          "output_type": "execute_result"
        }
      ],
      "source": [
        "arr1"
      ]
    },
    {
      "cell_type": "code",
      "execution_count": null,
      "id": "dbf7b7bb-ad34-4d84-a72b-6e924a4fb85f",
      "metadata": {
        "id": "dbf7b7bb-ad34-4d84-a72b-6e924a4fb85f",
        "outputId": "4dc82175-2985-4c8b-fbaa-c78ce439dbd6"
      },
      "outputs": [
        {
          "data": {
            "text/plain": [
              "2"
            ]
          },
          "execution_count": 71,
          "metadata": {},
          "output_type": "execute_result"
        }
      ],
      "source": [
        "arr1.ndim"
      ]
    },
    {
      "cell_type": "code",
      "execution_count": null,
      "id": "c3d83b2a-3062-43f0-9daf-e6961564bc50",
      "metadata": {
        "id": "c3d83b2a-3062-43f0-9daf-e6961564bc50",
        "outputId": "1e17260a-7fea-40d1-c138-86433ff8a2c0"
      },
      "outputs": [
        {
          "data": {
            "text/plain": [
              "(3, 3)"
            ]
          },
          "execution_count": 72,
          "metadata": {},
          "output_type": "execute_result"
        }
      ],
      "source": [
        "arr1.shape #shape of array"
      ]
    },
    {
      "cell_type": "code",
      "execution_count": null,
      "id": "791b2e10-042c-43e1-9789-f0003e2cd575",
      "metadata": {
        "id": "791b2e10-042c-43e1-9789-f0003e2cd575",
        "outputId": "3399a07f-6585-49d6-e4f3-f181ed293e5a"
      },
      "outputs": [
        {
          "data": {
            "text/plain": [
              "9"
            ]
          },
          "execution_count": 73,
          "metadata": {},
          "output_type": "execute_result"
        }
      ],
      "source": [
        "arr1.size #no of elements in array"
      ]
    },
    {
      "cell_type": "code",
      "execution_count": null,
      "id": "4347c541-0be1-4615-94f5-9d02d15a83ba",
      "metadata": {
        "id": "4347c541-0be1-4615-94f5-9d02d15a83ba",
        "outputId": "134f6cf3-1607-48ac-b594-ae0ef0e220b0"
      },
      "outputs": [
        {
          "data": {
            "text/plain": [
              "1"
            ]
          },
          "execution_count": 74,
          "metadata": {},
          "output_type": "execute_result"
        }
      ],
      "source": [
        "#True is stored as 1 and False 0 in python\n",
        "True-False"
      ]
    },
    {
      "cell_type": "code",
      "execution_count": null,
      "id": "9d8d4299-dbee-4d65-8102-e53a96075300",
      "metadata": {
        "id": "9d8d4299-dbee-4d65-8102-e53a96075300"
      },
      "outputs": [],
      "source": [
        "arr2 = np.fromfunction(lambda i, j: i*j, (3,3))"
      ]
    },
    {
      "cell_type": "code",
      "execution_count": null,
      "id": "7edfbcc8-565e-4014-a853-17b21f211400",
      "metadata": {
        "id": "7edfbcc8-565e-4014-a853-17b21f211400",
        "outputId": "c635c7df-5dd3-4c89-ea01-57fa6ba76f72"
      },
      "outputs": [
        {
          "data": {
            "text/plain": [
              "array([[0., 0., 0.],\n",
              "       [0., 1., 2.],\n",
              "       [0., 2., 4.]])"
            ]
          },
          "execution_count": 77,
          "metadata": {},
          "output_type": "execute_result"
        }
      ],
      "source": [
        "arr2"
      ]
    },
    {
      "cell_type": "code",
      "execution_count": null,
      "id": "62539b09-106d-403b-bf31-8d30893534af",
      "metadata": {
        "id": "62539b09-106d-403b-bf31-8d30893534af",
        "outputId": "83bb18b4-8339-4a31-e742-e7e97e6997e7"
      },
      "outputs": [
        {
          "data": {
            "text/plain": [
              "2"
            ]
          },
          "execution_count": 78,
          "metadata": {},
          "output_type": "execute_result"
        }
      ],
      "source": [
        "arr2.ndim"
      ]
    },
    {
      "cell_type": "code",
      "execution_count": null,
      "id": "fd764eb4-6057-47b9-8185-28246667291b",
      "metadata": {
        "id": "fd764eb4-6057-47b9-8185-28246667291b",
        "outputId": "ea7461cd-5f3d-427e-f2f0-4f14643fc131"
      },
      "outputs": [
        {
          "data": {
            "text/plain": [
              "(3, 3)"
            ]
          },
          "execution_count": 79,
          "metadata": {},
          "output_type": "execute_result"
        }
      ],
      "source": [
        "arr2.shape"
      ]
    },
    {
      "cell_type": "code",
      "execution_count": null,
      "id": "87b1aac4-f0df-45c0-b8d1-5893f62df6e7",
      "metadata": {
        "id": "87b1aac4-f0df-45c0-b8d1-5893f62df6e7",
        "outputId": "ea702a1b-0505-4d32-ea55-f9bbf971346e"
      },
      "outputs": [
        {
          "data": {
            "text/plain": [
              "9"
            ]
          },
          "execution_count": 80,
          "metadata": {},
          "output_type": "execute_result"
        }
      ],
      "source": [
        "arr2.size"
      ]
    },
    {
      "cell_type": "code",
      "execution_count": null,
      "id": "32583e12-29fe-4f1e-88ab-0d5b8f15ce81",
      "metadata": {
        "id": "32583e12-29fe-4f1e-88ab-0d5b8f15ce81",
        "outputId": "9b7617e6-7690-4082-cd29-54e89aaa34df"
      },
      "outputs": [
        {
          "name": "stdout",
          "output_type": "stream",
          "text": [
            "0\n",
            "1\n",
            "2\n",
            "3\n",
            "4\n"
          ]
        }
      ],
      "source": [
        "for i in range(5):\n",
        "    print(i)"
      ]
    },
    {
      "cell_type": "code",
      "execution_count": null,
      "id": "e44f9ca6-a883-4223-959b-a45bbe300aa1",
      "metadata": {
        "id": "e44f9ca6-a883-4223-959b-a45bbe300aa1",
        "outputId": "f574fb06-8303-4269-aaf2-adea420287fd"
      },
      "outputs": [
        {
          "data": {
            "text/plain": [
              "[0, 1, 2, 3, 4]"
            ]
          },
          "execution_count": 82,
          "metadata": {},
          "output_type": "execute_result"
        }
      ],
      "source": [
        "[i for i in range(5)]"
      ]
    },
    {
      "cell_type": "code",
      "execution_count": null,
      "id": "226363a7-5805-4211-b070-0b638b8327fa",
      "metadata": {
        "id": "226363a7-5805-4211-b070-0b638b8327fa",
        "outputId": "a94e2c3e-433e-4984-a7a9-3217eb2052aa"
      },
      "outputs": [
        {
          "data": {
            "text/plain": [
              "<generator object <genexpr> at 0x7faf30183c30>"
            ]
          },
          "execution_count": 85,
          "metadata": {},
          "output_type": "execute_result"
        }
      ],
      "source": [
        "(i for i in range(5))"
      ]
    },
    {
      "cell_type": "code",
      "execution_count": null,
      "id": "b1c337c2-ba54-463b-bdb2-d6e76c424d9f",
      "metadata": {
        "id": "b1c337c2-ba54-463b-bdb2-d6e76c424d9f",
        "outputId": "c9b46709-3c26-4f6f-9fe4-d92c7e1658e4"
      },
      "outputs": [
        {
          "data": {
            "text/plain": [
              "[0, 1, 2, 3, 4]"
            ]
          },
          "execution_count": 86,
          "metadata": {},
          "output_type": "execute_result"
        }
      ],
      "source": [
        "list((i for i in range(5)))"
      ]
    },
    {
      "cell_type": "code",
      "execution_count": null,
      "id": "96d772d7-ee29-483d-b31a-9eb890fa12b5",
      "metadata": {
        "id": "96d772d7-ee29-483d-b31a-9eb890fa12b5"
      },
      "outputs": [],
      "source": [
        "iterator = (i for i in range(5))"
      ]
    },
    {
      "cell_type": "code",
      "execution_count": null,
      "id": "ac3e98c1-9fcf-4faa-81dd-29f9b4e2ab1f",
      "metadata": {
        "id": "ac3e98c1-9fcf-4faa-81dd-29f9b4e2ab1f",
        "outputId": "e9acf637-d449-42c2-9c59-c049ce7e8c7b"
      },
      "outputs": [
        {
          "data": {
            "text/plain": [
              "<generator object <genexpr> at 0x7faf300645f0>"
            ]
          },
          "execution_count": 99,
          "metadata": {},
          "output_type": "execute_result"
        }
      ],
      "source": [
        "iterator"
      ]
    },
    {
      "cell_type": "code",
      "execution_count": null,
      "id": "5bb0e056-efe9-4a2d-b288-974338ea47af",
      "metadata": {
        "id": "5bb0e056-efe9-4a2d-b288-974338ea47af",
        "outputId": "d610546c-6d68-4c8f-c81a-824d72164a4c"
      },
      "outputs": [
        {
          "data": {
            "text/plain": [
              "array([0., 1., 2., 3., 4.])"
            ]
          },
          "execution_count": 100,
          "metadata": {},
          "output_type": "execute_result"
        }
      ],
      "source": [
        "np.fromiter(iterator, float) #Create a new 1-dimensional array from an iterable object."
      ]
    },
    {
      "cell_type": "code",
      "execution_count": null,
      "id": "7166e3fc-8eae-4bff-bebd-8b0260506d44",
      "metadata": {
        "id": "7166e3fc-8eae-4bff-bebd-8b0260506d44",
        "outputId": "7e4c5e1e-bae6-4ed1-c48b-f26478f8dec9"
      },
      "outputs": [
        {
          "data": {
            "text/plain": [
              "array([22., 23., 24.])"
            ]
          },
          "execution_count": 90,
          "metadata": {},
          "output_type": "execute_result"
        }
      ],
      "source": [
        "np.fromstring('22 23 24', sep = \" \")"
      ]
    },
    {
      "cell_type": "code",
      "execution_count": null,
      "id": "0498212e-8e67-44d8-bbd4-17019bd2d57b",
      "metadata": {
        "id": "0498212e-8e67-44d8-bbd4-17019bd2d57b",
        "outputId": "cf667c81-6f07-4d1c-aa60-fb5b99175664"
      },
      "outputs": [
        {
          "data": {
            "text/plain": [
              "array([22, 23, 24])"
            ]
          },
          "execution_count": 102,
          "metadata": {},
          "output_type": "execute_result"
        }
      ],
      "source": [
        "np.fromstring('22 23 24', sep = \" \", dtype = int) #by default is float, values inside string should be nuerical"
      ]
    },
    {
      "cell_type": "code",
      "execution_count": null,
      "id": "0d8d98f1-60c9-4a18-b08c-3d11ec97375d",
      "metadata": {
        "id": "0d8d98f1-60c9-4a18-b08c-3d11ec97375d",
        "outputId": "aad1bbcc-03a6-43a5-d475-1adc76d836b5"
      },
      "outputs": [
        {
          "data": {
            "text/plain": [
              "['Ajay', ' Bijay', ' Sanjay']"
            ]
          },
          "execution_count": 103,
          "metadata": {},
          "output_type": "execute_result"
        }
      ],
      "source": [
        "#for string character you have to use split\n",
        "string = \"Ajay, Bijay, Sanjay\"\n",
        "string.split(\",\")"
      ]
    },
    {
      "cell_type": "code",
      "execution_count": null,
      "id": "77748eef-803b-4144-972c-4d9acfd23c04",
      "metadata": {
        "id": "77748eef-803b-4144-972c-4d9acfd23c04",
        "outputId": "9dc398b9-63af-44f6-a95e-d1854484daee"
      },
      "outputs": [
        {
          "data": {
            "text/plain": [
              "array(['Ajay', ' Bijay', ' Sanjay'], dtype='<U7')"
            ]
          },
          "execution_count": 104,
          "metadata": {},
          "output_type": "execute_result"
        }
      ],
      "source": [
        "np.array(string.split(\",\"))"
      ]
    },
    {
      "cell_type": "code",
      "execution_count": null,
      "id": "163d9b1b-8f90-41ef-97df-85685f918fe6",
      "metadata": {
        "id": "163d9b1b-8f90-41ef-97df-85685f918fe6",
        "outputId": "3a47c3b4-0878-49f3-e66c-24d8623c6611"
      },
      "outputs": [
        {
          "data": {
            "text/plain": [
              "[0, 1, 2, 3, 4, 5, 6, 7, 8, 9]"
            ]
          },
          "execution_count": 106,
          "metadata": {},
          "output_type": "execute_result"
        }
      ],
      "source": [
        "list(range(10))"
      ]
    },
    {
      "cell_type": "code",
      "execution_count": null,
      "id": "843a5e1c-63d6-4c96-83ac-f765d86616f2",
      "metadata": {
        "id": "843a5e1c-63d6-4c96-83ac-f765d86616f2",
        "outputId": "44cf0c93-9225-4b82-ef46-de167f0996a9"
      },
      "outputs": [
        {
          "data": {
            "text/plain": [
              "range(0, 10)"
            ]
          },
          "execution_count": 108,
          "metadata": {},
          "output_type": "execute_result"
        }
      ],
      "source": [
        "range(10)"
      ]
    },
    {
      "cell_type": "code",
      "execution_count": null,
      "id": "b01fcff2-73e5-49a2-a30e-8fc2dd214e11",
      "metadata": {
        "id": "b01fcff2-73e5-49a2-a30e-8fc2dd214e11",
        "outputId": "8031e467-9132-4a20-d854-a8bc73bc4500"
      },
      "outputs": [
        {
          "data": {
            "text/plain": [
              "array([1, 2, 3, 4, 5, 6, 7, 8, 9])"
            ]
          },
          "execution_count": 107,
          "metadata": {},
          "output_type": "execute_result"
        }
      ],
      "source": [
        "#other method of numpy >> To generate a sequence of number\n",
        "np.arange(1, 10) #arange returns evenly spacified values within a given interval, by default step is 1"
      ]
    },
    {
      "cell_type": "code",
      "execution_count": null,
      "id": "b1b10fa9-c1c8-4d2e-a152-110dda7178ee",
      "metadata": {
        "id": "b1b10fa9-c1c8-4d2e-a152-110dda7178ee",
        "outputId": "8274ee8f-f3e8-45b0-d897-7f03f874a05e"
      },
      "outputs": [
        {
          "data": {
            "text/plain": [
              "array([1. , 1.1, 1.2, 1.3, 1.4, 1.5, 1.6, 1.7, 1.8, 1.9, 2. , 2.1, 2.2,\n",
              "       2.3, 2.4, 2.5, 2.6, 2.7, 2.8, 2.9, 3. , 3.1, 3.2, 3.3, 3.4, 3.5,\n",
              "       3.6, 3.7, 3.8, 3.9, 4. , 4.1, 4.2, 4.3, 4.4, 4.5, 4.6, 4.7, 4.8,\n",
              "       4.9, 5. , 5.1, 5.2, 5.3, 5.4, 5.5, 5.6, 5.7, 5.8, 5.9, 6. , 6.1,\n",
              "       6.2, 6.3, 6.4, 6.5, 6.6, 6.7, 6.8, 6.9, 7. , 7.1, 7.2, 7.3, 7.4,\n",
              "       7.5, 7.6, 7.7, 7.8, 7.9, 8. , 8.1, 8.2, 8.3, 8.4, 8.5, 8.6, 8.7,\n",
              "       8.8, 8.9, 9. , 9.1, 9.2, 9.3, 9.4, 9.5, 9.6, 9.7, 9.8, 9.9])"
            ]
          },
          "execution_count": 109,
          "metadata": {},
          "output_type": "execute_result"
        }
      ],
      "source": [
        "np.arange(1, 10, 0.1)"
      ]
    },
    {
      "cell_type": "code",
      "execution_count": null,
      "id": "a814c139-8c74-4285-b59a-6e73f06ae2d6",
      "metadata": {
        "id": "a814c139-8c74-4285-b59a-6e73f06ae2d6",
        "outputId": "dcf81021-fd7b-406e-db22-a5843003d8b9"
      },
      "outputs": [
        {
          "data": {
            "text/plain": [
              "array([1.        , 1.44444444, 1.88888889, 2.33333333, 2.77777778,\n",
              "       3.22222222, 3.66666667, 4.11111111, 4.55555556, 5.        ])"
            ]
          },
          "execution_count": 110,
          "metadata": {},
          "output_type": "execute_result"
        }
      ],
      "source": [
        "np.linspace(1,5, 10) #give me 10 numbers between 1 and 5"
      ]
    },
    {
      "cell_type": "code",
      "source": [],
      "metadata": {
        "id": "8-Q2rTcWkCu3"
      },
      "id": "8-Q2rTcWkCu3",
      "execution_count": null,
      "outputs": []
    }
  ],
  "metadata": {
    "kernelspec": {
      "display_name": "Python 3 (ipykernel)",
      "language": "python",
      "name": "python3"
    },
    "language_info": {
      "codemirror_mode": {
        "name": "ipython",
        "version": 3
      },
      "file_extension": ".py",
      "mimetype": "text/x-python",
      "name": "python",
      "nbconvert_exporter": "python",
      "pygments_lexer": "ipython3",
      "version": "3.10.8"
    },
    "colab": {
      "provenance": [],
      "include_colab_link": true
    }
  },
  "nbformat": 4,
  "nbformat_minor": 5
}