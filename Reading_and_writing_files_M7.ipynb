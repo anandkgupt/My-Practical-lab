{
  "nbformat": 4,
  "nbformat_minor": 0,
  "metadata": {
    "colab": {
      "provenance": [],
      "authorship_tag": "ABX9TyNWC7khZI6+4bWfPFpMuB3+",
      "include_colab_link": true
    },
    "kernelspec": {
      "name": "python3",
      "display_name": "Python 3"
    },
    "language_info": {
      "name": "python"
    }
  },
  "cells": [
    {
      "cell_type": "markdown",
      "metadata": {
        "id": "view-in-github",
        "colab_type": "text"
      },
      "source": [
        "<a href=\"https://colab.research.google.com/github/anandkgupt/My-Practical-lab/blob/main/Reading_and_writing_files_M7.ipynb\" target=\"_parent\"><img src=\"https://colab.research.google.com/assets/colab-badge.svg\" alt=\"Open In Colab\"/></a>"
      ]
    },
    {
      "cell_type": "markdown",
      "source": [
        "Reading and writing files"
      ],
      "metadata": {
        "id": "aeE6MzsxiLea"
      }
    },
    {
      "cell_type": "code",
      "source": [
        "text_content =  \"\"\"\n",
        "example1\n",
        "example2\n",
        "example3\n",
        "\"\"\""
      ],
      "metadata": {
        "id": "M2piauw4iNTZ"
      },
      "execution_count": null,
      "outputs": []
    },
    {
      "cell_type": "code",
      "source": [
        "# Write to a file\n",
        "with open('example.txt', 'w') as file:\n",
        "    file.write(text_content)"
      ],
      "metadata": {
        "id": "lHL_fT5piOnD"
      },
      "execution_count": null,
      "outputs": []
    },
    {
      "cell_type": "code",
      "source": [
        "from typing_extensions import dataclass_transform\n",
        "with open('example.txt', 'r') as file:\n",
        "    data = file.read()\n",
        "    print(data)"
      ],
      "metadata": {
        "id": "vBUB1Og4iOya",
        "colab": {
          "base_uri": "https://localhost:8080/"
        },
        "outputId": "5f376463-133f-4aeb-d908-96ca02f4aea3"
      },
      "execution_count": null,
      "outputs": [
        {
          "output_type": "stream",
          "name": "stdout",
          "text": [
            "\n",
            "example1\n",
            "example2\n",
            "example3\n",
            "\n"
          ]
        }
      ]
    },
    {
      "cell_type": "code",
      "source": [
        "##csv file>> comma separated files\n",
        "data = [[\"Name\",\"Course\",\"Fee\"],[\"Anand\", \"Data Analytics\",\"15000\"],[\"Niraj\",\"Data Analytics\",\"20000\"] ]"
      ],
      "metadata": {
        "id": "Q13ntEuwiO1V"
      },
      "execution_count": null,
      "outputs": []
    },
    {
      "cell_type": "code",
      "source": [
        "for i in data:\n",
        "  print(i)"
      ],
      "metadata": {
        "id": "mUNISgpSiO3h",
        "colab": {
          "base_uri": "https://localhost:8080/"
        },
        "outputId": "a16cd799-bffe-4e9e-e1fe-02fffc8117d0"
      },
      "execution_count": null,
      "outputs": [
        {
          "output_type": "stream",
          "name": "stdout",
          "text": [
            "['Name', 'Course', 'Fee']\n",
            "['Anand', 'Data Analytics', '15000']\n",
            "['Niraj', 'Data Analytics', '20000']\n"
          ]
        }
      ]
    },
    {
      "cell_type": "code",
      "source": [
        "import csv\n",
        "with open('example_csv.csv', 'w') as f:\n",
        "    w = csv.writer(f)\n",
        "    for i in data:\n",
        "      w.writerow(i)"
      ],
      "metadata": {
        "id": "9ZzwhudsESEh"
      },
      "execution_count": null,
      "outputs": []
    },
    {
      "cell_type": "code",
      "source": [
        "with open('example_csv.csv', 'r') as f:\n",
        "    r = csv.reader(f)\n",
        "    for i in r:\n",
        "      print(i)"
      ],
      "metadata": {
        "colab": {
          "base_uri": "https://localhost:8080/"
        },
        "id": "ktTi93OvESG3",
        "outputId": "026a1b0a-8e20-4168-ae8b-05a6371d8bb0"
      },
      "execution_count": null,
      "outputs": [
        {
          "output_type": "stream",
          "name": "stdout",
          "text": [
            "['Name', 'Course', 'Fee']\n",
            "['Anand', 'Data Analytics', '15000']\n",
            "['Niraj', 'Data Analytics', '20000']\n"
          ]
        }
      ]
    },
    {
      "cell_type": "code",
      "source": [
        "##JSON file>> javascript object notation\n",
        "data = {\"Name\":\"Anand\",\"Course\":\"Data Analytics\",\"Fee\":15000}\n",
        "print(data)"
      ],
      "metadata": {
        "colab": {
          "base_uri": "https://localhost:8080/"
        },
        "id": "Rm5Amx-bESJa",
        "outputId": "3c0b1f4e-65c8-4af7-9bf6-958793d25227"
      },
      "execution_count": null,
      "outputs": [
        {
          "output_type": "stream",
          "name": "stdout",
          "text": [
            "{'Name': 'Anand', 'Course': 'Data Analytics', 'Fee': 15000}\n"
          ]
        }
      ]
    },
    {
      "cell_type": "code",
      "source": [
        "type(data)"
      ],
      "metadata": {
        "colab": {
          "base_uri": "https://localhost:8080/"
        },
        "id": "HmVA9hy7ESMB",
        "outputId": "48945952-73fb-4675-8ea8-0ce43aa2d934"
      },
      "execution_count": null,
      "outputs": [
        {
          "output_type": "execute_result",
          "data": {
            "text/plain": [
              "dict"
            ]
          },
          "metadata": {},
          "execution_count": 25
        }
      ]
    },
    {
      "cell_type": "code",
      "source": [
        "import json\n",
        "with open('example_json.json', 'w') as f:\n",
        "    json.dump(data, f)"
      ],
      "metadata": {
        "id": "NbwZ6GvpESOn"
      },
      "execution_count": null,
      "outputs": []
    },
    {
      "cell_type": "code",
      "source": [
        "with open('example_json.json', 'r') as f:\n",
        "    data = json.load(f)\n",
        "    print(data)"
      ],
      "metadata": {
        "colab": {
          "base_uri": "https://localhost:8080/"
        },
        "id": "g0QFvHKEESRC",
        "outputId": "f96e7beb-ddd1-410f-ea60-eb9d64206033"
      },
      "execution_count": null,
      "outputs": [
        {
          "output_type": "stream",
          "name": "stdout",
          "text": [
            "{'Name': 'Anand', 'Course': 'Data Analytics', 'Fee': 15000}\n"
          ]
        }
      ]
    },
    {
      "cell_type": "code",
      "source": [
        "##write a binary data in a file\n",
        "with open(\"test_bin.bin\", \"wb\") as f:\n",
        "    f.write(b\"\\x01\\x02\\x03\")\n",
        "##read a binary data in a file\n",
        "with open(\"test_bin.bin\", \"rb\") as f:\n",
        "    data = f.read()\n",
        "    print(data)  # Output: b'\\x01\\x02\\x03'\n",
        "\n",
        "\n"
      ],
      "metadata": {
        "id": "1F8YuRKUESWL",
        "colab": {
          "base_uri": "https://localhost:8080/"
        },
        "outputId": "f48cd6eb-ae25-43c8-aa1b-354eead05833"
      },
      "execution_count": null,
      "outputs": [
        {
          "output_type": "stream",
          "name": "stdout",
          "text": [
            "b'\\x01\\x02\\x03'\n"
          ]
        }
      ]
    },
    {
      "cell_type": "code",
      "source": [
        "##buffered reading and writing\n",
        "#it allows the program to read and write data in chunks"
      ],
      "metadata": {
        "id": "1P5bdPRTESYu"
      },
      "execution_count": null,
      "outputs": []
    },
    {
      "cell_type": "code",
      "source": [
        "import io\n",
        "with open('test_buf.txt', 'wb') as f:  # Correct syntax for opening a file\n",
        "    file = io.BufferedWriter(f)  # Create a BufferedWriter\n",
        "    file.write(b\"A computer is a machine that can\\n\")  # Correctly write bytes data\n",
        "    file.write(b\"hello world\\n\")  # Fix syntax for writing bytes\n",
        "    file.write(b\"I am learning Python\\n\")  # Correct syntax for writing bytes\n",
        "    file.flush()  # Ensure data is written to the file"
      ],
      "metadata": {
        "id": "grrUwHhtiO8U"
      },
      "execution_count": 23,
      "outputs": []
    },
    {
      "cell_type": "code",
      "source": [
        "import io\n",
        "\n",
        "with open('test_buf.txt', 'rb') as f:  # Open the file in binary read mode\n",
        "    file = io.BufferedReader(f)  # Correct the class name to BufferedReader\n",
        "    data = file.read(100)  # Read the entire content of the file\n",
        "    print(data)  # Print the data\n"
      ],
      "metadata": {
        "id": "ukc6evaJiPBf",
        "colab": {
          "base_uri": "https://localhost:8080/"
        },
        "outputId": "486dd70c-c79a-46be-ec4d-873451121cd0"
      },
      "execution_count": 28,
      "outputs": [
        {
          "output_type": "stream",
          "name": "stdout",
          "text": [
            "b'A computer is a machine that can\\nhello world\\nI am learning Python\\n'\n"
          ]
        }
      ]
    },
    {
      "cell_type": "code",
      "source": [],
      "metadata": {
        "id": "91n_Iu9jiPD6"
      },
      "execution_count": null,
      "outputs": []
    },
    {
      "cell_type": "code",
      "source": [],
      "metadata": {
        "id": "R2WTc7p6iPGp"
      },
      "execution_count": null,
      "outputs": []
    },
    {
      "cell_type": "code",
      "source": [],
      "metadata": {
        "id": "X4H1TIHjiPJZ"
      },
      "execution_count": null,
      "outputs": []
    },
    {
      "cell_type": "code",
      "source": [],
      "metadata": {
        "id": "aGraVu8YiPL7"
      },
      "execution_count": null,
      "outputs": []
    },
    {
      "cell_type": "code",
      "source": [],
      "metadata": {
        "id": "T1EvsFhciPO2"
      },
      "execution_count": null,
      "outputs": []
    },
    {
      "cell_type": "code",
      "source": [],
      "metadata": {
        "id": "qLGVlkPWiPRL"
      },
      "execution_count": null,
      "outputs": []
    },
    {
      "cell_type": "code",
      "source": [],
      "metadata": {
        "id": "t4n4mRtiiPT4"
      },
      "execution_count": null,
      "outputs": []
    },
    {
      "cell_type": "code",
      "source": [],
      "metadata": {
        "id": "HOgxRvSsiPWa"
      },
      "execution_count": null,
      "outputs": []
    },
    {
      "cell_type": "code",
      "source": [],
      "metadata": {
        "id": "3sOisYQOiPZO"
      },
      "execution_count": null,
      "outputs": []
    },
    {
      "cell_type": "code",
      "source": [],
      "metadata": {
        "id": "JRe3YpUbiPbq"
      },
      "execution_count": null,
      "outputs": []
    },
    {
      "cell_type": "code",
      "source": [],
      "metadata": {
        "id": "6jKfYLMxiPee"
      },
      "execution_count": null,
      "outputs": []
    },
    {
      "cell_type": "code",
      "source": [],
      "metadata": {
        "id": "ljcVelC8iPhB"
      },
      "execution_count": null,
      "outputs": []
    },
    {
      "cell_type": "code",
      "source": [],
      "metadata": {
        "id": "kuXZCtO5iPjs"
      },
      "execution_count": null,
      "outputs": []
    },
    {
      "cell_type": "code",
      "source": [],
      "metadata": {
        "id": "Jq8Hw3SciPmQ"
      },
      "execution_count": null,
      "outputs": []
    },
    {
      "cell_type": "code",
      "source": [],
      "metadata": {
        "id": "YynFwzwhiPo3"
      },
      "execution_count": null,
      "outputs": []
    },
    {
      "cell_type": "code",
      "source": [],
      "metadata": {
        "id": "97ULujhCiPra"
      },
      "execution_count": null,
      "outputs": []
    },
    {
      "cell_type": "code",
      "source": [],
      "metadata": {
        "id": "R-FieeCuiPuL"
      },
      "execution_count": null,
      "outputs": []
    },
    {
      "cell_type": "code",
      "source": [],
      "metadata": {
        "id": "WlY00_thiPw7"
      },
      "execution_count": null,
      "outputs": []
    },
    {
      "cell_type": "code",
      "source": [],
      "metadata": {
        "id": "blv5Z2SjiP0h"
      },
      "execution_count": null,
      "outputs": []
    }
  ]
}