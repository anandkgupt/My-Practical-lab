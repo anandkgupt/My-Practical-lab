{
  "nbformat": 4,
  "nbformat_minor": 0,
  "metadata": {
    "colab": {
      "provenance": [],
      "authorship_tag": "ABX9TyNdCADnBHOGph+6/sFM4GSM",
      "include_colab_link": true
    },
    "kernelspec": {
      "name": "python3",
      "display_name": "Python 3"
    },
    "language_info": {
      "name": "python"
    }
  },
  "cells": [
    {
      "cell_type": "markdown",
      "metadata": {
        "id": "view-in-github",
        "colab_type": "text"
      },
      "source": [
        "<a href=\"https://colab.research.google.com/github/anandkgupt/My-Practical-lab/blob/main/Polymorphism_and_Encapsulation.ipynb\" target=\"_parent\"><img src=\"https://colab.research.google.com/assets/colab-badge.svg\" alt=\"Open In Colab\"/></a>"
      ]
    },
    {
      "cell_type": "markdown",
      "source": [
        "Polymorphism and encapsulation:\n",
        "\n",
        "Both polymorphism and encapsulation are core principles of Object-Oriented Programming (OOP).\n",
        "\n",
        "Polymorphism Definition:\n",
        "Polymorphism means \"many forms.\" It allows objects of different classes to be treated as objects of a common parent class, enabling the same interface to be used for different underlying forms (data types or classes).\n",
        "\n",
        "Key Features:\n",
        "\n",
        "Code Reusability: A single function or method can work with different types of objects.\n",
        "Simplified Code Maintenance: Abstracts functionality across various implementations.\n",
        "\n",
        "Types of Polymorphism:\n",
        "\n",
        "1.Compile-time Polymorphism (Method Overloading):Same method name but different parameters.\n",
        "\n",
        "Not directly supported in Python but can be simulated.\n",
        "\n",
        "2.Run-time Polymorphism (Method Overriding): A child class can redefine a method inherited from its parent class."
      ],
      "metadata": {
        "id": "BeZBdVQJzk6e"
      }
    },
    {
      "cell_type": "code",
      "source": [
        "#string\n",
        "len(\"Anand\")"
      ],
      "metadata": {
        "colab": {
          "base_uri": "https://localhost:8080/"
        },
        "id": "4P48mZWczpRD",
        "outputId": "662a6b00-c47a-4307-f323-60598d8c9f35"
      },
      "execution_count": 3,
      "outputs": [
        {
          "output_type": "execute_result",
          "data": {
            "text/plain": [
              "5"
            ]
          },
          "metadata": {},
          "execution_count": 3
        }
      ]
    },
    {
      "cell_type": "code",
      "source": [
        "#list\n",
        "len([1,2,3,4,5])"
      ],
      "metadata": {
        "colab": {
          "base_uri": "https://localhost:8080/"
        },
        "id": "JCgg43TXzpUa",
        "outputId": "35e5eaa6-298f-4bb8-c5cf-a18180951d34"
      },
      "execution_count": 5,
      "outputs": [
        {
          "output_type": "execute_result",
          "data": {
            "text/plain": [
              "5"
            ]
          },
          "metadata": {},
          "execution_count": 5
        }
      ]
    },
    {
      "cell_type": "code",
      "source": [
        "#tuple\n",
        "len((1,2,3,4,5))"
      ],
      "metadata": {
        "colab": {
          "base_uri": "https://localhost:8080/"
        },
        "id": "MHx4PjSUzpXU",
        "outputId": "c628c265-0f34-4107-a774-918a183f0041"
      },
      "execution_count": 6,
      "outputs": [
        {
          "output_type": "execute_result",
          "data": {
            "text/plain": [
              "5"
            ]
          },
          "metadata": {},
          "execution_count": 6
        }
      ]
    },
    {
      "cell_type": "code",
      "source": [
        "def func(a,b):\n",
        "  return(a+b)"
      ],
      "metadata": {
        "id": "MP2G6XyqzpaJ"
      },
      "execution_count": 7,
      "outputs": []
    },
    {
      "cell_type": "code",
      "source": [
        "func(2,3)"
      ],
      "metadata": {
        "colab": {
          "base_uri": "https://localhost:8080/"
        },
        "id": "4IvpbdOR2nxI",
        "outputId": "dd6267bf-cfc0-424f-b226-d9d34d8e4db4"
      },
      "execution_count": 8,
      "outputs": [
        {
          "output_type": "execute_result",
          "data": {
            "text/plain": [
              "5"
            ]
          },
          "metadata": {},
          "execution_count": 8
        }
      ]
    },
    {
      "cell_type": "code",
      "source": [
        "func(\"anand\", \"gupta\")"
      ],
      "metadata": {
        "colab": {
          "base_uri": "https://localhost:8080/",
          "height": 36
        },
        "id": "VCdFKF8l2nz-",
        "outputId": "01ba111d-c4d6-4c4b-ef3c-33bc97e358a3"
      },
      "execution_count": 9,
      "outputs": [
        {
          "output_type": "execute_result",
          "data": {
            "text/plain": [
              "'anandgupta'"
            ],
            "application/vnd.google.colaboratory.intrinsic+json": {
              "type": "string"
            }
          },
          "metadata": {},
          "execution_count": 9
        }
      ]
    },
    {
      "cell_type": "code",
      "source": [
        "func([1,2,3],[4,5,6])"
      ],
      "metadata": {
        "colab": {
          "base_uri": "https://localhost:8080/"
        },
        "id": "Lkf3EyYa2n2r",
        "outputId": "4ac53b67-a782-492e-c977-1e832a1ef2f6"
      },
      "execution_count": 10,
      "outputs": [
        {
          "output_type": "execute_result",
          "data": {
            "text/plain": [
              "[1, 2, 3, 4, 5, 6]"
            ]
          },
          "metadata": {},
          "execution_count": 10
        }
      ]
    },
    {
      "cell_type": "code",
      "source": [
        "##observation>> func is taking different forms with respect to pass different data"
      ],
      "metadata": {
        "id": "mHPh44FO2n5T"
      },
      "execution_count": 11,
      "outputs": []
    },
    {
      "cell_type": "code",
      "source": [
        "class teacher_lecture:\n",
        "  def lec_info(self):\n",
        "    print(\"this is a teacher lecture\")\n",
        "class student_lecture:\n",
        "  def lec_info(self):\n",
        "    print(\"this is a student lecture\")"
      ],
      "metadata": {
        "id": "FjSqzaGt2n86"
      },
      "execution_count": 17,
      "outputs": []
    },
    {
      "cell_type": "code",
      "source": [
        "obj1= teacher_lecture()\n",
        "obj2= student_lecture()\n",
        "class_obj= [obj1,obj2]"
      ],
      "metadata": {
        "id": "xYg99XsMzpds"
      },
      "execution_count": 18,
      "outputs": []
    },
    {
      "cell_type": "code",
      "source": [
        "def parcer(class_obj):\n",
        "  for i in class_obj:\n",
        "    i.lec_info()"
      ],
      "metadata": {
        "id": "NC_sSHA04ixV"
      },
      "execution_count": 19,
      "outputs": []
    },
    {
      "cell_type": "code",
      "source": [
        "parcer(class_obj)"
      ],
      "metadata": {
        "colab": {
          "base_uri": "https://localhost:8080/"
        },
        "id": "wyvMgqnl4y-H",
        "outputId": "73822b8a-dbd6-4642-b658-a60db61b7933"
      },
      "execution_count": 20,
      "outputs": [
        {
          "output_type": "stream",
          "name": "stdout",
          "text": [
            "this is a teacher lecture\n",
            "this is a student lecture\n"
          ]
        }
      ]
    },
    {
      "cell_type": "code",
      "source": [
        "## polymorphism in OOPS takes places in two ways:\n",
        "#method overloading>>\n",
        "#mrthod overriding>>"
      ],
      "metadata": {
        "id": "wVqct0c05HI5"
      },
      "execution_count": null,
      "outputs": []
    },
    {
      "cell_type": "code",
      "source": [
        "#method overloading\n",
        "class student:\n",
        "  def student(self):\n",
        "    print(\"welcome to pw class\")\n",
        "  def student(self, name = \"\"):\n",
        "    print(\"welcome to pw class\", name)\n",
        "  def student(self, name = \"\", course = \"\"):\n",
        "    print(\"welcome to pw class\", name, course)\n",
        "\n"
      ],
      "metadata": {
        "id": "rUhwlweU5WXJ"
      },
      "execution_count": 22,
      "outputs": []
    },
    {
      "cell_type": "code",
      "source": [
        "stud = student()\n",
        "stud.student()"
      ],
      "metadata": {
        "colab": {
          "base_uri": "https://localhost:8080/"
        },
        "id": "YBMEWboi5WZu",
        "outputId": "c9a7dc31-d1e8-40c1-c866-7d30eec60ca8"
      },
      "execution_count": 23,
      "outputs": [
        {
          "output_type": "stream",
          "name": "stdout",
          "text": [
            "welcome to pw class  \n"
          ]
        }
      ]
    },
    {
      "cell_type": "code",
      "source": [
        "stud.student(\"Anand\")\n",
        "stud.student(\"Anand\", \"DA\")"
      ],
      "metadata": {
        "colab": {
          "base_uri": "https://localhost:8080/"
        },
        "id": "t1Y3hVvK5Wcl",
        "outputId": "045ff2f8-2710-4cb9-a739-ebad4db826b8"
      },
      "execution_count": 26,
      "outputs": [
        {
          "output_type": "stream",
          "name": "stdout",
          "text": [
            "welcome to pw class Anand \n",
            "welcome to pw class Anand DA\n"
          ]
        }
      ]
    },
    {
      "cell_type": "code",
      "source": [
        "#method overloading>> it happens in the same class\n",
        "class student:\n",
        "  def student(self, name = \"\", course = \"\"):\n",
        "    print(\"welcome to pw class\", name, course)\n"
      ],
      "metadata": {
        "id": "Ai1qttUM5WfK"
      },
      "execution_count": 29,
      "outputs": []
    },
    {
      "cell_type": "code",
      "source": [
        "stud = student()\n",
        "stud.student()\n",
        "stud.student(\"Anand\")\n",
        "stud.student(\"Anand\", \"DA\")"
      ],
      "metadata": {
        "colab": {
          "base_uri": "https://localhost:8080/"
        },
        "id": "imZw3cN_5Wh2",
        "outputId": "164a1a14-aab5-49c9-e554-545444f84d80"
      },
      "execution_count": 31,
      "outputs": [
        {
          "output_type": "stream",
          "name": "stdout",
          "text": [
            "welcome to pw class  \n",
            "welcome to pw class Anand \n",
            "welcome to pw class Anand DA\n"
          ]
        }
      ]
    },
    {
      "cell_type": "code",
      "source": [
        "##method overriding>> mathod in child class and parent class with same signiture, the\n",
        "class animal:\n",
        "  def sound(self):\n",
        "    print(\"animal sound\")\n",
        "class dog(animal):\n",
        "  def sound(self):\n",
        "    print(\"dog barks\")"
      ],
      "metadata": {
        "id": "lK6AbgBQ5WkB"
      },
      "execution_count": 32,
      "outputs": []
    },
    {
      "cell_type": "code",
      "source": [
        "anm = animal()\n",
        "anm.sound()   #animal class"
      ],
      "metadata": {
        "colab": {
          "base_uri": "https://localhost:8080/"
        },
        "id": "jN9p8VzG5Wnd",
        "outputId": "764a0e4c-2b6d-4782-b373-4ea801300ea1"
      },
      "execution_count": 33,
      "outputs": [
        {
          "output_type": "stream",
          "name": "stdout",
          "text": [
            "animal sound\n"
          ]
        }
      ]
    },
    {
      "cell_type": "code",
      "source": [
        "dog = dog()\n",
        "dog.sound() #dog class"
      ],
      "metadata": {
        "colab": {
          "base_uri": "https://localhost:8080/"
        },
        "id": "jIwteNjjP4LS",
        "outputId": "687189b9-e058-4d4e-d023-4f854bed3e79"
      },
      "execution_count": 34,
      "outputs": [
        {
          "output_type": "stream",
          "name": "stdout",
          "text": [
            "dog barks\n"
          ]
        }
      ]
    },
    {
      "cell_type": "markdown",
      "source": [
        "Encapsulation Definition: Encapsulation is the process of bundling data (variables) and methods (functions) together into a single unit (class) and restricting direct access to some components to ensure controlled access.\n",
        "\n",
        "Key Features:\n",
        "\n",
        "Data Hiding: Internal details of an object are hidden from the outside world.\n",
        "\n",
        "Control Access: Provides mechanisms (getters and setters) to control how data is accessed or modified.\n",
        "\n",
        "Benefits of Encapsulation:\n",
        "\n",
        "Improved Security: Prevents unauthorized access to sensitive data.\n",
        "\n",
        "Flexibility: Controlled access allows safe updates to internal states.\n",
        "\n",
        "Modularity: Makes components of a program more self-contained.\n"
      ],
      "metadata": {
        "id": "MDrpSRWpQTFM"
      }
    },
    {
      "cell_type": "code",
      "source": [
        "##encapsulation>> means hiding something\n",
        "#building of data and methods of a class\n",
        "#access modifier>>public, protected, private"
      ],
      "metadata": {
        "id": "_ZAbKpkDQFGD"
      },
      "execution_count": 36,
      "outputs": []
    },
    {
      "cell_type": "code",
      "source": [
        "#Public Attributes and Methods\n",
        "class Employee:\n",
        "    # Public attributes\n",
        "    name = \"John Doe\"\n",
        "    salary = 50000\n",
        "\n",
        "    # Public method\n",
        "    def display_info(self):\n",
        "        print(f\"Employee Name: {self.name}\")\n",
        "        print(f\"Employee Salary: {self.salary}\")\n",
        "\n",
        "# Create an object of Employee\n",
        "emp = Employee()\n",
        "\n",
        "# Access and modify public attributes directly\n",
        "print(emp.name)  # Output: John Doe\n",
        "emp.salary = 60000  # Modify public attribute\n",
        "print(emp.salary)  # Output: 60000\n",
        "\n",
        "# Access public method\n",
        "emp.display_info()\n"
      ],
      "metadata": {
        "colab": {
          "base_uri": "https://localhost:8080/"
        },
        "id": "2vxNehO2Sv3R",
        "outputId": "dd9199e7-786b-45c5-bbf7-311e23fed439"
      },
      "execution_count": 39,
      "outputs": [
        {
          "output_type": "stream",
          "name": "stdout",
          "text": [
            "John Doe\n",
            "60000\n",
            "Employee Name: John Doe\n",
            "Employee Salary: 60000\n"
          ]
        }
      ]
    },
    {
      "cell_type": "code",
      "source": [
        "#Private Attributes and Methods:\n",
        "class BankAccount:\n",
        "    def __init__(self, balance):\n",
        "        self.__balance = balance  # Private attribute\n",
        "\n",
        "    def deposit(self, amount):\n",
        "        if amount > 0:\n",
        "            self.__balance += amount\n",
        "            print(f\"Deposited: {amount}, New Balance: {self.__balance}\")\n",
        "        else:\n",
        "            print(\"Invalid amount.\")\n",
        "\n",
        "    def withdraw(self, amount):\n",
        "        if 0 < amount <= self.__balance:\n",
        "            self.__balance -= amount\n",
        "            print(f\"Withdrew: {amount}, New Balance: {self.__balance}\")\n",
        "        else:\n",
        "            print(\"Insufficient balance or invalid amount.\")\n",
        "\n",
        "    def get_balance(self):  # Getter method\n",
        "        return self.__balance\n",
        "\n",
        "# Using the class\n",
        "account = BankAccount(1000)\n",
        "account.deposit(500)         # Output: Deposited: 500, New Balance: 1500\n",
        "account.withdraw(200)        # Output: Withdrew: 200, New Balance: 1300\n",
        "print(account.get_balance()) # Output: 1300\n",
        "\n",
        "# Direct access to __balance will raise an error:\n",
        "# print(account.__balance)  # AttributeError\n"
      ],
      "metadata": {
        "colab": {
          "base_uri": "https://localhost:8080/"
        },
        "id": "UeV0m_U-QNty",
        "outputId": "afa9f69c-a881-4ca5-e2bd-9c1a9d0ae63f"
      },
      "execution_count": 38,
      "outputs": [
        {
          "output_type": "stream",
          "name": "stdout",
          "text": [
            "Deposited: 500, New Balance: 1500\n",
            "Withdrew: 200, New Balance: 1300\n",
            "1300\n"
          ]
        }
      ]
    },
    {
      "cell_type": "code",
      "source": [
        "#Protected Attributes and Methods\n",
        "class Person:\n",
        "    def __init__(self, name, age):\n",
        "        self.name = name  # Public attribute\n",
        "        self._age = age   # Protected attribute\n",
        "\n",
        "    def _display_info(self):  # Protected method\n",
        "        print(f\"Name: {self.name}, Age: {self._age}\")\n",
        "\n",
        "# Subclass inheriting from Person\n",
        "class Employee(Person):\n",
        "    def __init__(self, name, age, salary):\n",
        "        super().__init__(name, age)\n",
        "        self.salary = salary\n",
        "\n",
        "    def display_employee_info(self):\n",
        "        # Accessing protected attribute and method from the parent class\n",
        "        self._display_info()\n",
        "        print(f\"Salary: {self.salary}\")\n",
        "\n",
        "# Create an object of Employee\n",
        "emp = Employee(\"John\", 30, 50000)\n",
        "\n",
        "# Accessing public and protected members\n",
        "emp.display_employee_info()  # Accesses protected members within subclass\n",
        "\n",
        "# Direct access to protected attribute and method (not recommended)\n",
        "print(emp._age)       # Output: 30\n",
        "emp._display_info()   # Output: Name: John, Age: 30\n"
      ],
      "metadata": {
        "colab": {
          "base_uri": "https://localhost:8080/"
        },
        "id": "2oMjMH_CQNwl",
        "outputId": "1d2b9f6c-085f-49a3-8b79-299d70bd8c56"
      },
      "execution_count": 40,
      "outputs": [
        {
          "output_type": "stream",
          "name": "stdout",
          "text": [
            "Name: John, Age: 30\n",
            "Salary: 50000\n",
            "30\n",
            "Name: John, Age: 30\n"
          ]
        }
      ]
    },
    {
      "cell_type": "code",
      "source": [
        "#way to provide an option to see the private method>> a wrapper\n",
        "class MyClass:\n",
        "    def __init__(self, value):\n",
        "        self.__value = value  # Private attribute\n",
        "\n",
        "    # Private method\n",
        "    def __private_method(self):\n",
        "        print(f\"Private method accessed. Value: {self.__value}\")\n",
        "\n",
        "    # Public wrapper method to access the private method\n",
        "    def access_private_method(self):\n",
        "        print(\"Wrapper method is calling the private method.\")\n",
        "        self.__private_method()\n",
        "\n",
        "# Create an object of MyClass\n",
        "obj = MyClass(10)\n",
        "\n",
        "# Direct access to private method will raise an error\n",
        "# obj.__private_method()  # AttributeError: 'MyClass' object has no attribute '__private_method'\n",
        "\n",
        "# Use the public wrapper method to access the private method\n",
        "obj.access_private_method()  # Output: Wrapper method is calling the private method. \\n Private method accessed. Value: 10\n"
      ],
      "metadata": {
        "colab": {
          "base_uri": "https://localhost:8080/"
        },
        "id": "U09vMoUJQNzs",
        "outputId": "8ee78654-9ed9-4e81-9049-73084fb94f6e"
      },
      "execution_count": 41,
      "outputs": [
        {
          "output_type": "stream",
          "name": "stdout",
          "text": [
            "Wrapper method is calling the private method.\n",
            "Private method accessed. Value: 10\n"
          ]
        }
      ]
    },
    {
      "cell_type": "code",
      "source": [],
      "metadata": {
        "id": "YSJe23YHQN2s"
      },
      "execution_count": null,
      "outputs": []
    },
    {
      "cell_type": "code",
      "source": [],
      "metadata": {
        "id": "CaZIWOxGQN6E"
      },
      "execution_count": null,
      "outputs": []
    },
    {
      "cell_type": "code",
      "source": [],
      "metadata": {
        "id": "MvXIE43eQN9g"
      },
      "execution_count": null,
      "outputs": []
    }
  ]
}