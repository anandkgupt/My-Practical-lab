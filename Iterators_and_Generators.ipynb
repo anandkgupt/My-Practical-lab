{
  "nbformat": 4,
  "nbformat_minor": 0,
  "metadata": {
    "colab": {
      "provenance": []
    },
    "kernelspec": {
      "name": "python3",
      "display_name": "Python 3"
    },
    "language_info": {
      "name": "python"
    }
  },
  "cells": [
    {
      "cell_type": "markdown",
      "source": [
        "An iterable in Python is any object capable of returning its members one at a time, allowing it to be iterated over in a for loop or other iteration contexts. Common examples include lists, tuples, dictionaries, strings, sets, and custom objects implementing the iterable protocol.\n",
        "\n",
        "Key Characteristics of Iterables:\n",
        "Implements the __iter__ Method:\n",
        "\n",
        "An object is considered iterable if it implements the __iter__ method, which returns an iterator.\n",
        "Can be Used in Iteration:\n",
        "\n",
        "You can use an iterable in a for loop, map(), filter(), list comprehensions, and more.\n",
        "Can Produce an Iterator:\n",
        "\n",
        "Calling iter() on an iterable object returns an iterator (an object with a __next__ method to fetch elements one at a time).\n",
        "Examples of Iterables:"
      ],
      "metadata": {
        "id": "1_OlmQte10xm"
      }
    },
    {
      "cell_type": "code",
      "source": [
        "##Iterators and generators\n",
        "# List: iterable\n",
        "my_list = [1, 2, 3]\n",
        "for item in my_list:\n",
        "    print(item)"
      ],
      "metadata": {
        "colab": {
          "base_uri": "https://localhost:8080/"
        },
        "id": "WyOP3ffP11t5",
        "outputId": "23b338b8-e0e9-4f05-e69b-c6d72877a8ce"
      },
      "execution_count": 7,
      "outputs": [
        {
          "output_type": "stream",
          "name": "stdout",
          "text": [
            "1\n",
            "2\n",
            "3\n"
          ]
        }
      ]
    },
    {
      "cell_type": "code",
      "source": [
        "# String: iterable\n",
        "my_string = \"hello\"\n",
        "for char in my_string:\n",
        "    print(char)\n"
      ],
      "metadata": {
        "colab": {
          "base_uri": "https://localhost:8080/"
        },
        "id": "AbErF4ITtQ5v",
        "outputId": "13a1bc3b-6d30-4f75-fbdc-c392d18128d3"
      },
      "execution_count": 2,
      "outputs": [
        {
          "output_type": "stream",
          "name": "stdout",
          "text": [
            "h\n",
            "e\n",
            "l\n",
            "l\n",
            "o\n"
          ]
        }
      ]
    },
    {
      "cell_type": "code",
      "source": [
        "# Dictionary: iterable (over keys by default)\n",
        "my_dict = {\"a\": 1, \"b\": 2}\n",
        "for key in my_dict:\n",
        "    print(key)\n"
      ],
      "metadata": {
        "colab": {
          "base_uri": "https://localhost:8080/"
        },
        "id": "znZvWUXCttrk",
        "outputId": "aff033ee-7cf6-4e3d-9208-c2305f077b4e"
      },
      "execution_count": 3,
      "outputs": [
        {
          "output_type": "stream",
          "name": "stdout",
          "text": [
            "a\n",
            "b\n"
          ]
        }
      ]
    },
    {
      "cell_type": "code",
      "source": [
        "# Set: iterable\n",
        "my_set = {1, 2, 3}\n",
        "for value in my_set:\n",
        "    print(value)"
      ],
      "metadata": {
        "colab": {
          "base_uri": "https://localhost:8080/"
        },
        "id": "BtkQREbAtt-Z",
        "outputId": "63aaa3a1-a2f0-4298-edec-a22bee362af8"
      },
      "execution_count": 4,
      "outputs": [
        {
          "output_type": "stream",
          "name": "stdout",
          "text": [
            "1\n",
            "2\n",
            "3\n"
          ]
        }
      ]
    },
    {
      "cell_type": "markdown",
      "source": [
        "Testing If an Object is Iterable:\n",
        "You can check if an object is iterable using collections.abc.Iterable from the collections module:"
      ],
      "metadata": {
        "id": "FJ6iA9Ts1iwb"
      }
    },
    {
      "cell_type": "code",
      "source": [
        "### You can check if an object is iterable using collections.abc.Iterable from the collections module:\n",
        "from collections.abc import Iterable\n",
        "\n",
        "print(isinstance([1, 2, 3], Iterable))  # True\n",
        "print(isinstance(42, Iterable))        # False\n"
      ],
      "metadata": {
        "colab": {
          "base_uri": "https://localhost:8080/"
        },
        "id": "r_YGLdtVtuBe",
        "outputId": "cb6d02ce-83fc-48e6-fb75-6f2402c23b2f"
      },
      "execution_count": 5,
      "outputs": [
        {
          "output_type": "stream",
          "name": "stdout",
          "text": [
            "True\n",
            "False\n"
          ]
        }
      ]
    },
    {
      "cell_type": "markdown",
      "source": [
        "Iterators vs. Iterables:\n",
        "Iterable: Can produce an iterator (e.g., lists, dictionaries, strings).\n",
        "Iterator: Is an object with a __next__ method and implements the __iter__ method as well.\n",
        "Example of converting an iterable into an iterator:"
      ],
      "metadata": {
        "id": "qqVDxPGE03Bo"
      }
    },
    {
      "cell_type": "code",
      "source": [
        "my_iterable = [1, 2, 3]\n",
        "my_iterator = iter(my_iterable)  # Create an iterator\n",
        "\n",
        "print(next(my_iterator))  # Output: 1\n",
        "print(next(my_iterator))  # Output: 2\n",
        "print(next(my_iterator))  # Output: 3\n"
      ],
      "metadata": {
        "colab": {
          "base_uri": "https://localhost:8080/"
        },
        "id": "WFEx9SLttuEm",
        "outputId": "8161d3b6-ff34-4a25-822a-47a525009a21"
      },
      "execution_count": 6,
      "outputs": [
        {
          "output_type": "stream",
          "name": "stdout",
          "text": [
            "1\n",
            "2\n",
            "3\n"
          ]
        }
      ]
    },
    {
      "cell_type": "markdown",
      "source": [
        "Custom Iterable and Iterator\n",
        "Step 1: Implementing a Custom Iterable\n",
        "An iterable is a class that implements the __iter__ method, which should return an iterator. The iterator itself implements the __next__ method to return the next item and raises a StopIteration exception when there are no more items.\n",
        "\n",
        "Here’s an example of a custom iterable and its iterator:"
      ],
      "metadata": {
        "id": "ZRYkqtAz1cJy"
      }
    },
    {
      "cell_type": "code",
      "source": [
        "class MyIterable:\n",
        "    def __init__(self, data):\n",
        "        self.data = data\n",
        "\n",
        "    def __iter__(self):\n",
        "        return MyIterator(self.data)\n",
        "\n",
        "\n",
        "class MyIterator:\n",
        "    def __init__(self, data):\n",
        "        self.data = data\n",
        "        self.index = 0\n",
        "\n",
        "    def __iter__(self):\n",
        "        return self\n",
        "\n",
        "    def __next__(self):\n",
        "        if self.index < len(self.data):\n",
        "            result = self.data[self.index]\n",
        "            self.index += 1\n",
        "            return result\n",
        "        else:\n",
        "            raise StopIteration\n"
      ],
      "metadata": {
        "id": "qeW7Y7pYtuHs"
      },
      "execution_count": 8,
      "outputs": []
    },
    {
      "cell_type": "code",
      "source": [
        "my_iterable = MyIterable([10, 20, 30])\n",
        "for item in my_iterable:\n",
        "    print(item)\n"
      ],
      "metadata": {
        "colab": {
          "base_uri": "https://localhost:8080/"
        },
        "id": "VbQ5jYrVtuKl",
        "outputId": "b0f86ac5-d95c-4d82-cd0f-c1a18770a951"
      },
      "execution_count": 9,
      "outputs": [
        {
          "output_type": "stream",
          "name": "stdout",
          "text": [
            "10\n",
            "20\n",
            "30\n"
          ]
        }
      ]
    },
    {
      "cell_type": "markdown",
      "source": [
        "Step 2: Simplifying with __iter__ and yield\n",
        "Instead of creating a separate iterator class, you can make the iterable itself the iterator using the __iter__ and yield statements.\n",
        "\n",
        "Example:"
      ],
      "metadata": {
        "id": "biI82GgF3mZZ"
      }
    },
    {
      "cell_type": "code",
      "source": [
        "class MyIterable:\n",
        "    def __init__(self, data):\n",
        "        self.data = data\n",
        "\n",
        "    def __iter__(self):\n",
        "        for item in self.data:\n",
        "            yield item\n"
      ],
      "metadata": {
        "id": "eApcSRu6tuOB"
      },
      "execution_count": 10,
      "outputs": []
    },
    {
      "cell_type": "code",
      "source": [
        "my_iterable = MyIterable([1, 2, 3, 4])\n",
        "for item in my_iterable:\n",
        "    print(item)\n"
      ],
      "metadata": {
        "colab": {
          "base_uri": "https://localhost:8080/"
        },
        "id": "yf1t5S1C3s91",
        "outputId": "693e47ba-8f38-42ff-a4a2-e0ba2bdfa441"
      },
      "execution_count": 11,
      "outputs": [
        {
          "output_type": "stream",
          "name": "stdout",
          "text": [
            "1\n",
            "2\n",
            "3\n",
            "4\n"
          ]
        }
      ]
    },
    {
      "cell_type": "markdown",
      "source": [
        "Advanced Iterables with Custom Logic\n",
        "Let’s say we want an iterable that generates squares of numbers up to a limit:"
      ],
      "metadata": {
        "id": "NYuDDtj_34BN"
      }
    },
    {
      "cell_type": "code",
      "source": [
        "class Squares:\n",
        "    def __init__(self, limit):\n",
        "        self.limit = limit\n",
        "\n",
        "    def __iter__(self):\n",
        "        return SquaresIterator(self.limit)\n",
        "\n",
        "\n",
        "class SquaresIterator:\n",
        "    def __init__(self, limit):\n",
        "        self.current = 1\n",
        "        self.limit = limit\n",
        "\n",
        "    def __iter__(self):\n",
        "        return self\n",
        "\n",
        "    def __next__(self):\n",
        "        if self.current <= self.limit:\n",
        "            square = self.current ** 2\n",
        "            self.current += 1\n",
        "            return square\n",
        "        else:\n",
        "            raise StopIteration\n"
      ],
      "metadata": {
        "id": "Cmb3vQvK3tBU"
      },
      "execution_count": 12,
      "outputs": []
    },
    {
      "cell_type": "code",
      "source": [
        "squares = Squares(5)\n",
        "for sq in squares:\n",
        "    print(sq)\n"
      ],
      "metadata": {
        "colab": {
          "base_uri": "https://localhost:8080/"
        },
        "id": "r-QfX-Fe3-a0",
        "outputId": "397b6cb4-7b5c-4afb-c5fd-3faf075ef7ac"
      },
      "execution_count": 13,
      "outputs": [
        {
          "output_type": "stream",
          "name": "stdout",
          "text": [
            "1\n",
            "4\n",
            "9\n",
            "16\n",
            "25\n"
          ]
        }
      ]
    },
    {
      "cell_type": "markdown",
      "source": [
        "Infinite Iterables\n",
        "You can implement infinite iterators for cases like generating a Fibonacci sequence or cycling through items. Here’s an infinite Fibonacci generator:"
      ],
      "metadata": {
        "id": "X4XGNYfD4LDV"
      }
    },
    {
      "cell_type": "code",
      "source": [
        "class Fibonacci:\n",
        "    def __iter__(self):\n",
        "        self.a, self.b = 0, 1\n",
        "        return self\n",
        "\n",
        "    def __next__(self):\n",
        "        self.a, self.b = self.b, self.a + self.b\n",
        "        return self.a\n"
      ],
      "metadata": {
        "id": "2cNdkdtZ4NcW"
      },
      "execution_count": 14,
      "outputs": []
    },
    {
      "cell_type": "code",
      "source": [
        "fib = Fibonacci()\n",
        "fib_iterator = iter(fib)\n",
        "\n",
        "for _ in range(10):  # Print the first 10 Fibonacci numbers\n",
        "    print(next(fib_iterator))\n"
      ],
      "metadata": {
        "colab": {
          "base_uri": "https://localhost:8080/"
        },
        "id": "NR5cPCM_4RCK",
        "outputId": "43723888-92fe-4c37-ba13-1393e4d7974c"
      },
      "execution_count": 15,
      "outputs": [
        {
          "output_type": "stream",
          "name": "stdout",
          "text": [
            "1\n",
            "1\n",
            "2\n",
            "3\n",
            "5\n",
            "8\n",
            "13\n",
            "21\n",
            "34\n",
            "55\n"
          ]
        }
      ]
    },
    {
      "cell_type": "markdown",
      "source": [
        "Generators vs Custom Iterables\n",
        "Generators (using yield) are a simpler way to create iterables without manually managing state or exceptions.\n",
        "Custom Iterables allow for greater control and flexibility, especially when state management or complex behavior is required.\n"
      ],
      "metadata": {
        "id": "MxkmJQh74bV_"
      }
    },
    {
      "cell_type": "code",
      "source": [],
      "metadata": {
        "id": "xGyT9xcF4d7l"
      },
      "execution_count": null,
      "outputs": []
    },
    {
      "cell_type": "markdown",
      "source": [],
      "metadata": {
        "id": "Cij8T1sl475d"
      }
    },
    {
      "cell_type": "code",
      "source": [],
      "metadata": {
        "id": "UvpR2f1d48qS"
      },
      "execution_count": null,
      "outputs": []
    },
    {
      "cell_type": "markdown",
      "source": [
        "Generators in Python are a powerful way to produce sequences of values on the fly, without the need to store the entire sequence in memory. They are iterators implemented using functions or expressions, and they use the yield statement to yield values one at a time.\n",
        "\n",
        "Key Characteristics of Generators:\n",
        "Memory Efficient:\n",
        "\n",
        "Generators do not store all the values in memory; they generate them one at a time.\n",
        "This is especially useful when working with large datasets.\n",
        "Lazy Evaluation:\n",
        "\n",
        "Values are produced only when required, reducing computation overhead.\n",
        "State Persistence:\n",
        "\n",
        "Generators maintain their state between successive calls, allowing them to resume from where they left off."
      ],
      "metadata": {
        "id": "O4UoLFnn49Ql"
      }
    },
    {
      "cell_type": "code",
      "source": [
        "###Creating Generators Using Functions with yield, A generator function uses the yield keyword to produce a value and pauses execution, resuming when the next value is requested.\n",
        "def my_generator():\n",
        "    yield 1\n",
        "    yield 2\n",
        "    yield 3\n",
        "\n",
        "gen = my_generator()\n",
        "print(next(gen))  # Outputs: 1\n",
        "print(next(gen))  # Outputs: 2\n",
        "print(next(gen))  # Outputs: 3\n"
      ],
      "metadata": {
        "colab": {
          "base_uri": "https://localhost:8080/"
        },
        "id": "B1iCD53x5O4Z",
        "outputId": "de2f5e96-6cf0-4910-dfa6-453fa50523d2"
      },
      "execution_count": 16,
      "outputs": [
        {
          "output_type": "stream",
          "name": "stdout",
          "text": [
            "1\n",
            "2\n",
            "3\n"
          ]
        }
      ]
    },
    {
      "cell_type": "code",
      "source": [
        "###Using Generator Expressions, Generator expressions are similar to list comprehensions but use parentheses () instead of square brackets [].\n",
        "gen = (x**2 for x in range(5))\n",
        "print(next(gen))  # Outputs: 0\n",
        "print(next(gen))  # Outputs: 1\n",
        "print(next(gen))  # Outputs: 4\n",
        "print(next(gen))\n",
        "print(next(gen))\n",
        "print(next(gen))\n"
      ],
      "metadata": {
        "colab": {
          "base_uri": "https://localhost:8080/",
          "height": 263
        },
        "id": "60fyUMs45qS7",
        "outputId": "6eac854b-44b1-47a4-d662-189a5b842b4d"
      },
      "execution_count": 19,
      "outputs": [
        {
          "output_type": "stream",
          "name": "stdout",
          "text": [
            "0\n",
            "1\n",
            "4\n",
            "9\n",
            "16\n"
          ]
        },
        {
          "output_type": "error",
          "ename": "StopIteration",
          "evalue": "",
          "traceback": [
            "\u001b[0;31m---------------------------------------------------------------------------\u001b[0m",
            "\u001b[0;31mStopIteration\u001b[0m                             Traceback (most recent call last)",
            "\u001b[0;32m<ipython-input-19-69ffbf789c7f>\u001b[0m in \u001b[0;36m<cell line: 8>\u001b[0;34m()\u001b[0m\n\u001b[1;32m      6\u001b[0m \u001b[0mprint\u001b[0m\u001b[0;34m(\u001b[0m\u001b[0mnext\u001b[0m\u001b[0;34m(\u001b[0m\u001b[0mgen\u001b[0m\u001b[0;34m)\u001b[0m\u001b[0;34m)\u001b[0m\u001b[0;34m\u001b[0m\u001b[0;34m\u001b[0m\u001b[0m\n\u001b[1;32m      7\u001b[0m \u001b[0mprint\u001b[0m\u001b[0;34m(\u001b[0m\u001b[0mnext\u001b[0m\u001b[0;34m(\u001b[0m\u001b[0mgen\u001b[0m\u001b[0;34m)\u001b[0m\u001b[0;34m)\u001b[0m\u001b[0;34m\u001b[0m\u001b[0;34m\u001b[0m\u001b[0m\n\u001b[0;32m----> 8\u001b[0;31m \u001b[0mprint\u001b[0m\u001b[0;34m(\u001b[0m\u001b[0mnext\u001b[0m\u001b[0;34m(\u001b[0m\u001b[0mgen\u001b[0m\u001b[0;34m)\u001b[0m\u001b[0;34m)\u001b[0m\u001b[0;34m\u001b[0m\u001b[0;34m\u001b[0m\u001b[0m\n\u001b[0m",
            "\u001b[0;31mStopIteration\u001b[0m: "
          ]
        }
      ]
    },
    {
      "cell_type": "markdown",
      "source": [
        "Key Functions with Generators"
      ],
      "metadata": {
        "id": "nsHyV7sQ62j-"
      }
    },
    {
      "cell_type": "code",
      "source": [
        "###next(generator): Retrieves the next value from a generator. If the generator is exhausted, it raises a StopIteration exception\n",
        "###for Loop with Generators: Iterates over a generator without explicitly calling next().\n",
        "for value in my_generator():\n",
        "    print(value)"
      ],
      "metadata": {
        "colab": {
          "base_uri": "https://localhost:8080/"
        },
        "id": "avrEk4uF59Px",
        "outputId": "38fbca8c-650a-4a93-a9b7-715b5710c26e"
      },
      "execution_count": 22,
      "outputs": [
        {
          "output_type": "stream",
          "name": "stdout",
          "text": [
            "1\n",
            "2\n",
            "3\n"
          ]
        }
      ]
    },
    {
      "cell_type": "code",
      "source": [
        "###yield from: Delegates part of a generator's operations to another iterable or generator.\n",
        "def gen1():\n",
        "    yield from range(3)  # Yields 0, 1, 2\n",
        "\n",
        "for value in gen1():\n",
        "    print(value)\n"
      ],
      "metadata": {
        "colab": {
          "base_uri": "https://localhost:8080/"
        },
        "id": "-INYkfgf7ghM",
        "outputId": "614ed8b4-5074-4c45-8b41-33aa459bbd93"
      },
      "execution_count": 21,
      "outputs": [
        {
          "output_type": "stream",
          "name": "stdout",
          "text": [
            "0\n",
            "1\n",
            "2\n"
          ]
        }
      ]
    },
    {
      "cell_type": "markdown",
      "source": [
        "Advantages of Generators\n",
        "\n",
        "Performance: Avoids the overhead of constructing large intermediate data structures.\n",
        "\n",
        "Composability: Generators can be easily combined to create pipelines.\n",
        "\n",
        "Readability: Simplifies code for custom iterators compared to implementing the iterator protocol manually.\n",
        "\n",
        "Use Cases of Generators:"
      ],
      "metadata": {
        "id": "vgv8Ioh4790f"
      }
    },
    {
      "cell_type": "code",
      "source": [
        "###Data Streaming: Process data chunk by chunk without loading everything into memory.\n",
        "###Infinite Sequences: Generate potentially infinite data streams.\n",
        "###Producer-Consumer Patterns: Generators can act as producers feeding data to consumers.\n",
        "def infinite_counter(start=0):\n",
        "    while True:\n",
        "        yield start\n",
        "        start += 1\n",
        "\n",
        "\n"
      ],
      "metadata": {
        "id": "rfWk-22Q8VwV"
      },
      "execution_count": 23,
      "outputs": []
    },
    {
      "cell_type": "markdown",
      "source": [
        "Creating a custom generator:\n",
        "\n",
        "1. Numeric Sequences:\n",
        "Fibonacci series,\n",
        "Prime numbers,\n",
        "Infinite counter\n",
        "2. File Processing:\n",
        "Line-by-line file reader,\n",
        "Chunked file processor\n",
        "\n",
        "3. Data Transformation:\n",
        "Custom generator pipelines,\n",
        "Real-time data processing examples"
      ],
      "metadata": {
        "id": "ST7elLiO9586"
      }
    },
    {
      "cell_type": "markdown",
      "source": [
        "The Fibonacci series is a sequence of numbers where each number is the sum of the two preceding ones, starting with 0 and 1. Here's a generator for generating the Fibonacci sequence indefinitely:\n",
        "\n",
        "Fibonacci Generator Implementation"
      ],
      "metadata": {
        "id": "PHF-o41n_dj9"
      }
    },
    {
      "cell_type": "code",
      "source": [
        "def fibonacci():\n",
        "    \"\"\"\n",
        "    Generator to produce an infinite Fibonacci series.\n",
        "    Yields the next number in the sequence on each iteration.\n",
        "    \"\"\"\n",
        "    a, b = 0, 1\n",
        "    while True:\n",
        "        yield a\n",
        "        a, b = b, a + b\n"
      ],
      "metadata": {
        "id": "COVZgq4i_gJK"
      },
      "execution_count": 24,
      "outputs": []
    },
    {
      "cell_type": "code",
      "source": [
        "# Create the Fibonacci generator\n",
        "fib_gen = fibonacci()\n",
        "\n",
        "# Generate the first 10 Fibonacci numbers\n",
        "for _ in range(10):\n",
        "    print(next(fib_gen))\n"
      ],
      "metadata": {
        "colab": {
          "base_uri": "https://localhost:8080/"
        },
        "id": "YIMqrJsE_peT",
        "outputId": "5d21f22c-8700-4524-c885-846a9e85ba08"
      },
      "execution_count": 25,
      "outputs": [
        {
          "output_type": "stream",
          "name": "stdout",
          "text": [
            "0\n",
            "1\n",
            "1\n",
            "2\n",
            "3\n",
            "5\n",
            "8\n",
            "13\n",
            "21\n",
            "34\n"
          ]
        }
      ]
    },
    {
      "cell_type": "code",
      "source": [],
      "metadata": {
        "id": "spkGbXZG_sx1"
      },
      "execution_count": null,
      "outputs": []
    }
  ]
}