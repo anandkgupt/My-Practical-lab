{
  "nbformat": 4,
  "nbformat_minor": 0,
  "metadata": {
    "colab": {
      "provenance": [],
      "authorship_tag": "ABX9TyMLCwyBf+xcW3nW8p6UPj2f",
      "include_colab_link": true
    },
    "kernelspec": {
      "name": "python3",
      "display_name": "Python 3"
    },
    "language_info": {
      "name": "python"
    }
  },
  "cells": [
    {
      "cell_type": "markdown",
      "metadata": {
        "id": "view-in-github",
        "colab_type": "text"
      },
      "source": [
        "<a href=\"https://colab.research.google.com/github/anandkgupt/My-Practical-lab/blob/main/Files_Handling_basic.ipynb\" target=\"_parent\"><img src=\"https://colab.research.google.com/assets/colab-badge.svg\" alt=\"Open In Colab\"/></a>"
      ]
    },
    {
      "cell_type": "markdown",
      "source": [
        "Files Handling basic"
      ],
      "metadata": {
        "id": "a6j26mWUi_oR"
      }
    },
    {
      "cell_type": "code",
      "source": [
        "open(\"files.txt\",)\n"
      ],
      "metadata": {
        "colab": {
          "base_uri": "https://localhost:8080/"
        },
        "id": "ZwFoxwEOjAgk",
        "outputId": "f190fbf3-2ee4-4592-974f-165c2a105e93"
      },
      "execution_count": 12,
      "outputs": [
        {
          "output_type": "execute_result",
          "data": {
            "text/plain": [
              "<_io.TextIOWrapper name='files.txt' mode='r' encoding='UTF-8'>"
            ]
          },
          "metadata": {},
          "execution_count": 12
        }
      ]
    },
    {
      "cell_type": "code",
      "source": [
        "file = open(\"files.txt\", \"r\")  # Opens 'files.txt' in read mode\n"
      ],
      "metadata": {
        "id": "7yi9EoOkjA8U"
      },
      "execution_count": 13,
      "outputs": []
    },
    {
      "cell_type": "code",
      "source": [
        "#Reading a file:\n",
        "file = open(\"files.txt\", \"r\")  # Opens the file in read mode\n",
        "content = file.read()  # Reads the entire content of the file\n",
        "print(content)\n",
        "file.close()  # Don't forget to close the file\n"
      ],
      "metadata": {
        "colab": {
          "base_uri": "https://localhost:8080/"
        },
        "id": "OH-SkgUljA--",
        "outputId": "8a22b810-838e-4865-93e3-9c7fa2eae2e3"
      },
      "execution_count": 14,
      "outputs": [
        {
          "output_type": "stream",
          "name": "stdout",
          "text": [
            "\n"
          ]
        }
      ]
    },
    {
      "cell_type": "code",
      "source": [
        "#Writing to a file (creating or overwriting):\n",
        "file = open(\"files.txt\", \"w\")  # Opens the file in write mode\n",
        "file.write(\"This is some content written to the file.\")  # Writes to the file\n",
        "file.close()  # Close the file after writing\n"
      ],
      "metadata": {
        "id": "iYnFguMXjBBw"
      },
      "execution_count": 15,
      "outputs": []
    },
    {
      "cell_type": "code",
      "source": [
        "#Appending to a file:\n",
        "file = open(\"files.txt\", \"a\")  # Opens the file in append mode\n",
        "file.write(\"\\nAdding more content to the file.\")  # Appends to the file\n",
        "file.close()  # Don't forget to close the file\n"
      ],
      "metadata": {
        "id": "eD3nb0EdjBFM"
      },
      "execution_count": 16,
      "outputs": []
    },
    {
      "cell_type": "code",
      "source": [
        "#Reading the file line by line:\n",
        "file = open(\"files.txt\", \"r\")  # Opens the file in read mode\n",
        "for line in file:\n",
        "    print(line.strip())  # Print each line, stripping the newline character\n",
        "file.close()  # Close the file after reading\n"
      ],
      "metadata": {
        "colab": {
          "base_uri": "https://localhost:8080/"
        },
        "id": "18c8CcEujBNj",
        "outputId": "fe50130b-fd5d-4cda-8394-7693e057a5f1"
      },
      "execution_count": 17,
      "outputs": [
        {
          "output_type": "stream",
          "name": "stdout",
          "text": [
            "This is some content written to the file.\n",
            "Adding more content to the file.\n"
          ]
        }
      ]
    },
    {
      "cell_type": "code",
      "source": [
        "##file closing\n",
        "file = open(\"files.txt\",\"r\")  # Open a file for reading\n",
        "print(file.closed)  # Output will be False since the file is open\n",
        "\n",
        "file.close()  # Close the file\n",
        "print(file.closed)  # Output will be True since the file is now closed\n"
      ],
      "metadata": {
        "colab": {
          "base_uri": "https://localhost:8080/"
        },
        "id": "xmIdwDD1jBQe",
        "outputId": "c010f198-2d9c-48a9-ca4a-cb0517ee432a"
      },
      "execution_count": 21,
      "outputs": [
        {
          "output_type": "stream",
          "name": "stdout",
          "text": [
            "False\n",
            "True\n"
          ]
        }
      ]
    },
    {
      "cell_type": "code",
      "source": [
        "#When the file is open>> The file.closed attribute will return False\n",
        "file = open(\"files.txt\", \"r\")  # Open a file\n",
        "print(file.closed)  # Outputs: False (since the file is open)\n"
      ],
      "metadata": {
        "colab": {
          "base_uri": "https://localhost:8080/"
        },
        "id": "3DFbCDz5jBTB",
        "outputId": "8eeb9d7b-43b3-4006-e0fb-dfab35e426b4"
      },
      "execution_count": 23,
      "outputs": [
        {
          "output_type": "stream",
          "name": "stdout",
          "text": [
            "False\n"
          ]
        }
      ]
    },
    {
      "cell_type": "code",
      "source": [
        "#After calling file.close() >> The file.closed attribute will return True\n",
        "file.close()  # Close the file\n",
        "print(file.closed)  # Outputs: True (since the file is closed)\n",
        "\n"
      ],
      "metadata": {
        "colab": {
          "base_uri": "https://localhost:8080/"
        },
        "id": "WPj_bc7kjBV8",
        "outputId": "49e7173d-de4e-4585-9310-b156780324a0"
      },
      "execution_count": 24,
      "outputs": [
        {
          "output_type": "stream",
          "name": "stdout",
          "text": [
            "True\n"
          ]
        }
      ]
    },
    {
      "cell_type": "code",
      "source": [
        "##Truncate a File (Delete All Contents) >> To truncate (or delete) all the content of a file, you can use the truncate() method\n",
        "#When you open a file in write mode ('w'), it will automatically delete the contents of the file before writing any new data.\n",
        "#If you want to explicitly truncate the file (i.e., remove its contents without writing anything new),you can use the truncate() method.\n",
        "# Open the file in write mode (this will automatically delete all content)\n",
        "with open('files.txt', 'w') as file:\n",
        "    # At this point, the file is empty since it's in write mode\n",
        "    pass  # No need to write anything, just truncate the file\n"
      ],
      "metadata": {
        "id": "EI5aIZbJjBYR"
      },
      "execution_count": 27,
      "outputs": []
    },
    {
      "cell_type": "code",
      "source": [
        "with open('files.txt', 'r+') as file:\n",
        "    file.truncate(0)  # Truncate the file to 0 bytes, effectively clearing it\n"
      ],
      "metadata": {
        "id": "otREat0wjBbZ"
      },
      "execution_count": 28,
      "outputs": []
    },
    {
      "cell_type": "code",
      "source": [
        "##To append a new line to a file in Python, you can open the file in append mode ('a')\n",
        "with open('files.txt', 'a') as file:\n",
        "    file.write(\"\\nThis is a new line added to the file.\")\n"
      ],
      "metadata": {
        "id": "Tt5Cj7LajBdr"
      },
      "execution_count": 29,
      "outputs": []
    },
    {
      "cell_type": "code",
      "source": [
        "#If You Want to Append Multiple Lines\n",
        "with open('files.txt', 'a') as file:\n",
        "    file.writelines([\"\\nFirst line to add.\\n\", \"Second line to add.\\n\"])\n"
      ],
      "metadata": {
        "id": "_QLy-25TjBgW"
      },
      "execution_count": 32,
      "outputs": []
    },
    {
      "cell_type": "code",
      "source": [
        "##The file.tell() method in Python is used to get the current position of the file pointer (also known as the file handle) within the file\n",
        "with open('files.txt', 'r') as file:\n",
        "    print(file.tell())  # Output: 0 (beginning of the file)"
      ],
      "metadata": {
        "colab": {
          "base_uri": "https://localhost:8080/"
        },
        "id": "nv2rad3ejBjN",
        "outputId": "a3c5b150-175a-4e67-92d3-03ecd4797190"
      },
      "execution_count": 33,
      "outputs": [
        {
          "output_type": "stream",
          "name": "stdout",
          "text": [
            "0\n"
          ]
        }
      ]
    },
    {
      "cell_type": "code",
      "source": [
        "# Open the file in read mode\n",
        "with open('file.txt', 'r') as file:\n",
        "    # Print the initial position (should be 0)\n",
        "    print(\"Initial position:\", file.tell())\n",
        "\n",
        "    # Read some content from the file\n",
        "    file.read(10)  # Reads the first 10 characters\n",
        "\n",
        "    # Print the current position (after reading 10 characters)\n",
        "    print(\"Position after reading 10 characters:\", file.tell())\n",
        "\n",
        "    # Read the next 5 characters\n",
        "    file.read(5)\n",
        "\n",
        "    # Print the position after reading another 5 characters\n",
        "    print(\"Position after reading another 5 characters:\", file.tell())\n"
      ],
      "metadata": {
        "colab": {
          "base_uri": "https://localhost:8080/"
        },
        "id": "EOpLx-kkjBmA",
        "outputId": "015fcea1-cd9c-4860-e8cd-6c94b428a33b"
      },
      "execution_count": 50,
      "outputs": [
        {
          "output_type": "stream",
          "name": "stdout",
          "text": [
            "Initial position: 0\n",
            "Position after reading 10 characters: 0\n",
            "Position after reading another 5 characters: 0\n"
          ]
        }
      ]
    },
    {
      "cell_type": "code",
      "source": [
        " file.seek(0)\n"
      ],
      "metadata": {
        "colab": {
          "base_uri": "https://localhost:8080/",
          "height": 141
        },
        "id": "Z53-8u1DjBo-",
        "outputId": "dd16ebf6-4359-43ec-c753-539c7cc47e75"
      },
      "execution_count": 48,
      "outputs": [
        {
          "output_type": "error",
          "ename": "ValueError",
          "evalue": "I/O operation on closed file.",
          "traceback": [
            "\u001b[0;31m---------------------------------------------------------------------------\u001b[0m",
            "\u001b[0;31mValueError\u001b[0m                                Traceback (most recent call last)",
            "\u001b[0;32m<ipython-input-48-2ef3b3a97656>\u001b[0m in \u001b[0;36m<cell line: 1>\u001b[0;34m()\u001b[0m\n\u001b[0;32m----> 1\u001b[0;31m \u001b[0mfile\u001b[0m\u001b[0;34m.\u001b[0m\u001b[0mseek\u001b[0m\u001b[0;34m(\u001b[0m\u001b[0;36m0\u001b[0m\u001b[0;34m)\u001b[0m\u001b[0;34m\u001b[0m\u001b[0;34m\u001b[0m\u001b[0m\n\u001b[0m",
            "\u001b[0;31mValueError\u001b[0m: I/O operation on closed file."
          ]
        }
      ]
    },
    {
      "cell_type": "code",
      "source": [
        "# Open the file in read mode\n",
        "with open('example.txt', 'r') as file:\n",
        "    # Read some content\n",
        "    content = file.read(10)\n",
        "\n",
        "    # Print the position after reading\n",
        "    print(\"Position after reading 10 characters:\", file.tell())\n",
        "\n",
        "    # Move the file pointer back to the beginning\n",
        "    file.seek(0)\n",
        "\n",
        "    # Read again from the start\n",
        "    content = file.read(10)\n",
        "    print(\"First 10 characters after seeking:\", content)\n",
        "\n",
        "    # Print the position again\n",
        "    print(\"Position after reading 10 characters again:\", file.tell())\n"
      ],
      "metadata": {
        "colab": {
          "base_uri": "https://localhost:8080/"
        },
        "id": "I5aN5_t6ryg1",
        "outputId": "37ba74cf-f75c-453d-ba2e-a4f436084ced"
      },
      "execution_count": 47,
      "outputs": [
        {
          "output_type": "stream",
          "name": "stdout",
          "text": [
            "Position after reading 10 characters: 10\n",
            "First 10 characters after seeking: \n",
            "First lin\n",
            "Position after reading 10 characters again: 10\n"
          ]
        }
      ]
    },
    {
      "cell_type": "code",
      "source": [
        "##present working directory\n",
        "!pwd"
      ],
      "metadata": {
        "colab": {
          "base_uri": "https://localhost:8080/"
        },
        "id": "E85Hd08sryjr",
        "outputId": "e4ae7c12-b9f0-42d5-fb88-5c3a25726d51"
      },
      "execution_count": 52,
      "outputs": [
        {
          "output_type": "stream",
          "name": "stdout",
          "text": [
            "/content\n"
          ]
        }
      ]
    },
    {
      "cell_type": "code",
      "source": [
        "import os"
      ],
      "metadata": {
        "id": "3iD6XBcyryme"
      },
      "execution_count": 53,
      "outputs": []
    },
    {
      "cell_type": "code",
      "source": [
        "##Get Current Working Directory\n",
        "os.getcwd()"
      ],
      "metadata": {
        "colab": {
          "base_uri": "https://localhost:8080/",
          "height": 36
        },
        "id": "1XSV5Zsyrypf",
        "outputId": "02f76b58-76db-45df-ae4d-0826005c3d3d"
      },
      "execution_count": 59,
      "outputs": [
        {
          "output_type": "execute_result",
          "data": {
            "text/plain": [
              "'/content'"
            ],
            "application/vnd.google.colaboratory.intrinsic+json": {
              "type": "string"
            }
          },
          "metadata": {},
          "execution_count": 59
        }
      ]
    },
    {
      "cell_type": "code",
      "source": [
        "ls"
      ],
      "metadata": {
        "colab": {
          "base_uri": "https://localhost:8080/"
        },
        "id": "nygKFPXkrytE",
        "outputId": "94095846-aef4-4250-d6f5-deb5c96ca00f"
      },
      "execution_count": 61,
      "outputs": [
        {
          "output_type": "stream",
          "name": "stdout",
          "text": [
            "example.txt  files.txt  file.txt  \u001b[0m\u001b[01;34msample_data\u001b[0m/  test.txt\n"
          ]
        }
      ]
    },
    {
      "cell_type": "code",
      "source": [
        "os.path.getsize(\"file.txt\")"
      ],
      "metadata": {
        "colab": {
          "base_uri": "https://localhost:8080/"
        },
        "id": "Bbg4xgFijBsE",
        "outputId": "99282ce0-c1c7-406a-a11d-d356e363a0e4"
      },
      "execution_count": 62,
      "outputs": [
        {
          "output_type": "execute_result",
          "data": {
            "text/plain": [
              "0"
            ]
          },
          "metadata": {},
          "execution_count": 62
        }
      ]
    },
    {
      "cell_type": "code",
      "source": [
        "os.mkdir(\"test\")"
      ],
      "metadata": {
        "id": "gn9fC08UjBvd"
      },
      "execution_count": 63,
      "outputs": []
    },
    {
      "cell_type": "code",
      "source": [
        "os.mkdir(\"test/test1\")"
      ],
      "metadata": {
        "id": "rLoGhxdXv8gz"
      },
      "execution_count": 64,
      "outputs": []
    },
    {
      "cell_type": "code",
      "source": [
        "#if you try to create a directory with a nested path (like \"1/2\") and the parent directory \"1\" does not already exist,\n",
        "#Python will raise a FileNotFoundError because os.mkdir() only creates one directory at a time and does not create intermediate directories.\n",
        "os.mkdir(\"1/2\")\n"
      ],
      "metadata": {
        "colab": {
          "base_uri": "https://localhost:8080/",
          "height": 176
        },
        "id": "zAJ2uSGowEKj",
        "outputId": "4236d035-3296-4b3a-b8b6-f6cb7348571e"
      },
      "execution_count": 66,
      "outputs": [
        {
          "output_type": "error",
          "ename": "FileNotFoundError",
          "evalue": "[Errno 2] No such file or directory: '1/2'",
          "traceback": [
            "\u001b[0;31m---------------------------------------------------------------------------\u001b[0m",
            "\u001b[0;31mFileNotFoundError\u001b[0m                         Traceback (most recent call last)",
            "\u001b[0;32m<ipython-input-66-f3fffdd49e51>\u001b[0m in \u001b[0;36m<cell line: 2>\u001b[0;34m()\u001b[0m\n\u001b[1;32m      1\u001b[0m \u001b[0;31m#if you try to create a directory with a nested path (like \"1/2\") and the parent directory \"1\" does not already exist, Python will raise a FileNotFoundError because os.mkdir() only creates one directory at a time and does not create intermediate directories.\u001b[0m\u001b[0;34m\u001b[0m\u001b[0;34m\u001b[0m\u001b[0m\n\u001b[0;32m----> 2\u001b[0;31m \u001b[0mos\u001b[0m\u001b[0;34m.\u001b[0m\u001b[0mmkdir\u001b[0m\u001b[0;34m(\u001b[0m\u001b[0;34m\"1/2\"\u001b[0m\u001b[0;34m)\u001b[0m\u001b[0;34m\u001b[0m\u001b[0;34m\u001b[0m\u001b[0m\n\u001b[0m",
            "\u001b[0;31mFileNotFoundError\u001b[0m: [Errno 2] No such file or directory: '1/2'"
          ]
        }
      ]
    },
    {
      "cell_type": "code",
      "source": [
        "os.rmdir"
      ],
      "metadata": {
        "colab": {
          "base_uri": "https://localhost:8080/"
        },
        "id": "aW64mtppwKHm",
        "outputId": "0b659398-a34d-4645-df62-c5b7b0f523e5"
      },
      "execution_count": 72,
      "outputs": [
        {
          "output_type": "execute_result",
          "data": {
            "text/plain": [
              "<function posix.rmdir(path, *, dir_fd=None)>"
            ]
          },
          "metadata": {},
          "execution_count": 72
        }
      ]
    },
    {
      "cell_type": "code",
      "source": [
        "import os\n",
        "\n",
        "# Get file size\n",
        "file_size = os.path.getsize(\"file.txt\")\n",
        "print(f\"Size of 'file.txt': {file_size} bytes\")\n",
        "\n",
        "# Remove empty directory\n",
        "try:\n",
        "    os.rmdir(\"empty_dir\")\n",
        "    print(\"Directory 'empty_dir' has been removed.\")\n",
        "except OSError as e:\n",
        "    print(f\"Error: {e}\")\n"
      ],
      "metadata": {
        "colab": {
          "base_uri": "https://localhost:8080/"
        },
        "id": "CO_mThYZxAZR",
        "outputId": "d5f8448f-77ba-4ac4-dde5-df7c891f6535"
      },
      "execution_count": 75,
      "outputs": [
        {
          "output_type": "stream",
          "name": "stdout",
          "text": [
            "Size of 'file.txt': 0 bytes\n",
            "Error: [Errno 2] No such file or directory: 'empty_dir'\n"
          ]
        }
      ]
    },
    {
      "cell_type": "code",
      "source": [
        "##\n",
        "import shutil\n",
        "import os\n",
        "\n",
        "# Ensure source file exists\n",
        "if os.path.exists(\"file.txt\"):\n",
        "    # Ensure destination directory exists\n",
        "    if not os.path.exists(\"backup\"):\n",
        "        os.makedirs(\"backup\")\n",
        "\n",
        "    # Copy the file\n",
        "    shutil.copy(\"file.txt\", \"backup/file.txt\")\n",
        "    print(\"File copied successfully.\")\n",
        "else:\n",
        "    print(\"Source file does not exist.\")\n",
        "\n"
      ],
      "metadata": {
        "colab": {
          "base_uri": "https://localhost:8080/"
        },
        "id": "Gr8YOq6axH71",
        "outputId": "8f72058b-61dd-4a52-c335-dd25968fe835"
      },
      "execution_count": 77,
      "outputs": [
        {
          "output_type": "stream",
          "name": "stdout",
          "text": [
            "File copied successfully.\n"
          ]
        }
      ]
    },
    {
      "cell_type": "code",
      "source": [],
      "metadata": {
        "id": "t1ycMwEVykg7"
      },
      "execution_count": 86,
      "outputs": []
    },
    {
      "cell_type": "code",
      "source": [],
      "metadata": {
        "id": "ChnBBayizIQI"
      },
      "execution_count": 85,
      "outputs": []
    },
    {
      "cell_type": "code",
      "source": [],
      "metadata": {
        "id": "pnCWOcMzzmU8"
      },
      "execution_count": 85,
      "outputs": []
    },
    {
      "cell_type": "code",
      "source": [],
      "metadata": {
        "id": "RVRuMkCUzpZY"
      },
      "execution_count": null,
      "outputs": []
    },
    {
      "cell_type": "code",
      "source": [],
      "metadata": {
        "id": "9XaSSW5yzpcU"
      },
      "execution_count": null,
      "outputs": []
    },
    {
      "cell_type": "code",
      "source": [],
      "metadata": {
        "id": "hsC_4HPSzph8"
      },
      "execution_count": null,
      "outputs": []
    },
    {
      "cell_type": "code",
      "source": [],
      "metadata": {
        "id": "G5YUEEbXzpni"
      },
      "execution_count": null,
      "outputs": []
    },
    {
      "cell_type": "code",
      "source": [],
      "metadata": {
        "id": "SWqM7aE9zpqf"
      },
      "execution_count": null,
      "outputs": []
    },
    {
      "cell_type": "code",
      "source": [],
      "metadata": {
        "id": "jVcc_pLezpuH"
      },
      "execution_count": null,
      "outputs": []
    }
  ]
}