{
  "cells": [
    {
      "cell_type": "markdown",
      "metadata": {
        "id": "view-in-github",
        "colab_type": "text"
      },
      "source": [
        "<a href=\"https://colab.research.google.com/github/anandkgupt/My-Practical-lab/blob/main/Numpy_advance_2_M8.ipynb\" target=\"_parent\"><img src=\"https://colab.research.google.com/assets/colab-badge.svg\" alt=\"Open In Colab\"/></a>"
      ]
    },
    {
      "cell_type": "code",
      "execution_count": null,
      "id": "7bf557a6-57f9-4e24-be43-9bc25b14f4ab",
      "metadata": {
        "id": "7bf557a6-57f9-4e24-be43-9bc25b14f4ab"
      },
      "outputs": [],
      "source": [
        "import numpy as np"
      ]
    },
    {
      "cell_type": "code",
      "execution_count": null,
      "id": "2d32fcd0-755e-4e4b-8a4c-4f63f17df955",
      "metadata": {
        "id": "2d32fcd0-755e-4e4b-8a4c-4f63f17df955"
      },
      "outputs": [],
      "source": [
        "arr1 = np.random.randint(1, 3, (3, 3))\n",
        "arr2 = np.random.randint(1, 3, (3, 3))"
      ]
    },
    {
      "cell_type": "code",
      "execution_count": null,
      "id": "8855656d-8adc-48e8-a6ca-0f58af9850ba",
      "metadata": {
        "id": "8855656d-8adc-48e8-a6ca-0f58af9850ba",
        "outputId": "98100021-b33f-4071-bc14-b7e3f76cba2f"
      },
      "outputs": [
        {
          "data": {
            "text/plain": [
              "array([[2, 1, 2],\n",
              "       [1, 1, 1],\n",
              "       [2, 2, 1]])"
            ]
          },
          "execution_count": 3,
          "metadata": {},
          "output_type": "execute_result"
        }
      ],
      "source": [
        "arr2"
      ]
    },
    {
      "cell_type": "code",
      "execution_count": null,
      "id": "84dcff1b-99ef-4ed0-bb40-6ff079e9d2a5",
      "metadata": {
        "id": "84dcff1b-99ef-4ed0-bb40-6ff079e9d2a5",
        "outputId": "0308bc71-e85e-41bf-9443-808f8aa72e1b"
      },
      "outputs": [
        {
          "data": {
            "text/plain": [
              "array([[2, 2, 1],\n",
              "       [2, 2, 1],\n",
              "       [2, 2, 1]])"
            ]
          },
          "execution_count": 4,
          "metadata": {},
          "output_type": "execute_result"
        }
      ],
      "source": [
        "arr1"
      ]
    },
    {
      "cell_type": "code",
      "execution_count": null,
      "id": "6049f46d-6d41-47ec-ba8c-bb5e4a882a82",
      "metadata": {
        "id": "6049f46d-6d41-47ec-ba8c-bb5e4a882a82",
        "outputId": "e31a1f3b-52c3-47ae-dd51-1de7768a38f0"
      },
      "outputs": [
        {
          "data": {
            "text/plain": [
              "array([2, 2, 1, 2, 2, 1, 2, 2, 1])"
            ]
          },
          "execution_count": 5,
          "metadata": {},
          "output_type": "execute_result"
        }
      ],
      "source": [
        "arr1.flatten() #Return a copy of the array collapsed into one dimension."
      ]
    },
    {
      "cell_type": "code",
      "execution_count": null,
      "id": "bd4dca35-af5a-4f98-bcaf-e73d0be174fd",
      "metadata": {
        "id": "bd4dca35-af5a-4f98-bcaf-e73d0be174fd"
      },
      "outputs": [],
      "source": [
        "#expand dimension\n",
        "arr = np.array([1, 2, 3, 4])"
      ]
    },
    {
      "cell_type": "code",
      "execution_count": null,
      "id": "6ab215a3-2e6e-42fc-810d-c7b81577daa2",
      "metadata": {
        "id": "6ab215a3-2e6e-42fc-810d-c7b81577daa2",
        "outputId": "27739e81-d2e0-4ba9-99cc-83257b4867e7"
      },
      "outputs": [
        {
          "data": {
            "text/plain": [
              "array([1, 2, 3, 4])"
            ]
          },
          "execution_count": 7,
          "metadata": {},
          "output_type": "execute_result"
        }
      ],
      "source": [
        "arr"
      ]
    },
    {
      "cell_type": "code",
      "execution_count": null,
      "id": "cb5b9828-9b28-4ace-8dbd-7d65ce1d9c99",
      "metadata": {
        "id": "cb5b9828-9b28-4ace-8dbd-7d65ce1d9c99",
        "outputId": "5c36119b-5293-4ceb-f7e2-96597a237e21"
      },
      "outputs": [
        {
          "data": {
            "text/plain": [
              "1"
            ]
          },
          "execution_count": 8,
          "metadata": {},
          "output_type": "execute_result"
        }
      ],
      "source": [
        "arr.ndim"
      ]
    },
    {
      "cell_type": "code",
      "execution_count": null,
      "id": "36984301-94d3-474e-a962-e92de6283705",
      "metadata": {
        "id": "36984301-94d3-474e-a962-e92de6283705",
        "outputId": "c3cb29e8-11fd-4c9d-b860-a11ac4cf45df"
      },
      "outputs": [
        {
          "data": {
            "text/plain": [
              "array([[1, 2, 3, 4]])"
            ]
          },
          "execution_count": 10,
          "metadata": {},
          "output_type": "execute_result"
        }
      ],
      "source": [
        "np.expand_dims(arr, axis=0) #increase the dimension by 1 in the provided axis, 0 means rows(x axis), 1 means column wise(y axis)"
      ]
    },
    {
      "cell_type": "code",
      "execution_count": null,
      "id": "2a3951e3-04be-4d2a-ba4d-2b5a86acfd27",
      "metadata": {
        "id": "2a3951e3-04be-4d2a-ba4d-2b5a86acfd27",
        "outputId": "9c8a2018-c5ce-4d32-928f-e0a3981d4dac"
      },
      "outputs": [
        {
          "data": {
            "text/plain": [
              "array([[1],\n",
              "       [2],\n",
              "       [3],\n",
              "       [4]])"
            ]
          },
          "execution_count": 11,
          "metadata": {},
          "output_type": "execute_result"
        }
      ],
      "source": [
        "np.expand_dims(arr, axis=1)"
      ]
    },
    {
      "cell_type": "code",
      "execution_count": null,
      "id": "96123692-bc99-4cf9-9e25-338d36307f89",
      "metadata": {
        "id": "96123692-bc99-4cf9-9e25-338d36307f89",
        "outputId": "c5734a31-7675-4856-90cb-155a7312202e"
      },
      "outputs": [
        {
          "data": {
            "text/plain": [
              "2"
            ]
          },
          "execution_count": 12,
          "metadata": {},
          "output_type": "execute_result"
        }
      ],
      "source": [
        "np.expand_dims(arr, axis=1).ndim"
      ]
    },
    {
      "cell_type": "code",
      "execution_count": null,
      "id": "211799ae-a9e0-4f36-9244-26efba0ce21a",
      "metadata": {
        "id": "211799ae-a9e0-4f36-9244-26efba0ce21a",
        "outputId": "fd487985-079f-4ece-e04c-adb947128d64"
      },
      "outputs": [
        {
          "data": {
            "text/plain": [
              "array([[0., 0., 0., 0.],\n",
              "       [0., 0., 0., 0.],\n",
              "       [0., 0., 0., 0.]])"
            ]
          },
          "execution_count": 13,
          "metadata": {},
          "output_type": "execute_result"
        }
      ],
      "source": [
        "arr = np.zeros((3, 4))\n",
        "arr"
      ]
    },
    {
      "cell_type": "code",
      "execution_count": null,
      "id": "a5628006-2e19-42b2-98bf-1b7491fc0bab",
      "metadata": {
        "id": "a5628006-2e19-42b2-98bf-1b7491fc0bab",
        "outputId": "fb842619-0dd4-4699-e217-8b0774319bfe"
      },
      "outputs": [
        {
          "data": {
            "text/plain": [
              "array([[[0., 0., 0., 0.],\n",
              "        [0., 0., 0., 0.],\n",
              "        [0., 0., 0., 0.]]])"
            ]
          },
          "execution_count": 14,
          "metadata": {},
          "output_type": "execute_result"
        }
      ],
      "source": [
        "np.expand_dims(arr, axis = 0)"
      ]
    },
    {
      "cell_type": "code",
      "execution_count": null,
      "id": "95edd140-ea59-44c4-9337-9e8f4bfae64d",
      "metadata": {
        "id": "95edd140-ea59-44c4-9337-9e8f4bfae64d",
        "outputId": "b77d09e4-2b76-4779-9e5b-a9d4c818c862"
      },
      "outputs": [
        {
          "data": {
            "text/plain": [
              "3"
            ]
          },
          "execution_count": 15,
          "metadata": {},
          "output_type": "execute_result"
        }
      ],
      "source": [
        "np.expand_dims(arr, axis = 0).ndim"
      ]
    },
    {
      "cell_type": "code",
      "execution_count": null,
      "id": "93268025-4286-4fc2-8eed-a940eff86bf8",
      "metadata": {
        "id": "93268025-4286-4fc2-8eed-a940eff86bf8",
        "outputId": "5c0280fd-1848-48cb-e471-fdc8a1b50424"
      },
      "outputs": [
        {
          "data": {
            "text/plain": [
              "array([[[0., 0., 0., 0.]],\n",
              "\n",
              "       [[0., 0., 0., 0.]],\n",
              "\n",
              "       [[0., 0., 0., 0.]]])"
            ]
          },
          "execution_count": 16,
          "metadata": {},
          "output_type": "execute_result"
        }
      ],
      "source": [
        "np.expand_dims(arr, axis = 1)"
      ]
    },
    {
      "cell_type": "code",
      "execution_count": null,
      "id": "0b5d518b-7053-4d6a-b6bf-e62b81f9f4c6",
      "metadata": {
        "id": "0b5d518b-7053-4d6a-b6bf-e62b81f9f4c6",
        "outputId": "dc99e6c5-9303-4432-87e9-50f4b3e21090"
      },
      "outputs": [
        {
          "data": {
            "text/plain": [
              "3"
            ]
          },
          "execution_count": 17,
          "metadata": {},
          "output_type": "execute_result"
        }
      ],
      "source": [
        "np.expand_dims(arr, axis = 0).ndim"
      ]
    },
    {
      "cell_type": "code",
      "execution_count": null,
      "id": "aa74671f-04ca-4ad7-b971-9209306f6182",
      "metadata": {
        "id": "aa74671f-04ca-4ad7-b971-9209306f6182"
      },
      "outputs": [],
      "source": [
        "a = np.array([[1], [2], [3]])"
      ]
    },
    {
      "cell_type": "code",
      "execution_count": null,
      "id": "6fdf0db6-92a9-444d-b52d-6f00fb8d512b",
      "metadata": {
        "id": "6fdf0db6-92a9-444d-b52d-6f00fb8d512b",
        "outputId": "08aafd57-6824-4924-d7f1-58587ebaa1f6"
      },
      "outputs": [
        {
          "data": {
            "text/plain": [
              "array([[1],\n",
              "       [2],\n",
              "       [3]])"
            ]
          },
          "execution_count": 19,
          "metadata": {},
          "output_type": "execute_result"
        }
      ],
      "source": [
        "a"
      ]
    },
    {
      "cell_type": "code",
      "execution_count": null,
      "id": "89a47f24-ad92-4ed8-9359-b684d6ac5b51",
      "metadata": {
        "id": "89a47f24-ad92-4ed8-9359-b684d6ac5b51",
        "outputId": "9becbe2a-ad25-463a-d65e-a4d2b62c55a3"
      },
      "outputs": [
        {
          "data": {
            "text/plain": [
              "2"
            ]
          },
          "execution_count": 20,
          "metadata": {},
          "output_type": "execute_result"
        }
      ],
      "source": [
        "a.ndim"
      ]
    },
    {
      "cell_type": "code",
      "execution_count": null,
      "id": "9b352011-ea19-423c-b257-15183b94e5a6",
      "metadata": {
        "id": "9b352011-ea19-423c-b257-15183b94e5a6",
        "outputId": "ebebd3bf-0c12-4fc6-ae02-3d7d271480b1"
      },
      "outputs": [
        {
          "data": {
            "text/plain": [
              "array([1, 2, 3])"
            ]
          },
          "execution_count": 21,
          "metadata": {},
          "output_type": "execute_result"
        }
      ],
      "source": [
        "#squeezing the dimension by 1 dimension\n",
        "np.squeeze(a)#Remove axes of length one from `a`"
      ]
    },
    {
      "cell_type": "code",
      "execution_count": null,
      "id": "ae88e653-f6d8-45d8-8a26-04f51e34eb59",
      "metadata": {
        "id": "ae88e653-f6d8-45d8-8a26-04f51e34eb59",
        "outputId": "27b55b3f-817f-46ff-b00f-0f7d3f5925eb"
      },
      "outputs": [
        {
          "data": {
            "text/plain": [
              "array([[1],\n",
              "       [2],\n",
              "       [3]])"
            ]
          },
          "execution_count": 22,
          "metadata": {},
          "output_type": "execute_result"
        }
      ],
      "source": [
        "a"
      ]
    },
    {
      "cell_type": "code",
      "execution_count": null,
      "id": "bd1e2ecf-4316-4259-9d7d-f78bafe33054",
      "metadata": {
        "id": "bd1e2ecf-4316-4259-9d7d-f78bafe33054",
        "outputId": "e2cc415e-6f87-42ad-8afb-21b4875f0c07"
      },
      "outputs": [
        {
          "data": {
            "text/plain": [
              "array([1, 1, 1, 1, 2, 2, 2, 2, 3, 3, 3, 3])"
            ]
          },
          "execution_count": 23,
          "metadata": {},
          "output_type": "execute_result"
        }
      ],
      "source": [
        "np.repeat(a, 4)"
      ]
    },
    {
      "cell_type": "code",
      "execution_count": null,
      "id": "b68f74bd-6b99-4b6b-bc32-95226dd64ae3",
      "metadata": {
        "id": "b68f74bd-6b99-4b6b-bc32-95226dd64ae3",
        "outputId": "5a87b04f-3bfb-4c54-cb64-e1fa0572ad43"
      },
      "outputs": [
        {
          "data": {
            "text/plain": [
              "array([[2, 2, 1],\n",
              "       [2, 2, 1],\n",
              "       [2, 2, 1]])"
            ]
          },
          "execution_count": 24,
          "metadata": {},
          "output_type": "execute_result"
        }
      ],
      "source": [
        "arr1"
      ]
    },
    {
      "cell_type": "code",
      "execution_count": null,
      "id": "ac63bdc1-09d4-4e30-8c97-d48f3a03cbae",
      "metadata": {
        "id": "ac63bdc1-09d4-4e30-8c97-d48f3a03cbae",
        "outputId": "7ab9df80-df73-4f54-d7e3-273441d289f6"
      },
      "outputs": [
        {
          "data": {
            "text/plain": [
              "array([2, 2, 2, 2, 1, 1, 2, 2, 2, 2, 1, 1, 2, 2, 2, 2, 1, 1])"
            ]
          },
          "execution_count": 25,
          "metadata": {},
          "output_type": "execute_result"
        }
      ],
      "source": [
        "np.repeat(arr1, 2)"
      ]
    },
    {
      "cell_type": "code",
      "execution_count": null,
      "id": "459d2da6-3813-4d7e-bcac-24efb8a7bc95",
      "metadata": {
        "id": "459d2da6-3813-4d7e-bcac-24efb8a7bc95",
        "outputId": "ea449238-e6cc-49e4-92a9-c339ecd10cd3"
      },
      "outputs": [
        {
          "data": {
            "text/plain": [
              "array([[2, 2, 1],\n",
              "       [2, 2, 1],\n",
              "       [2, 2, 1],\n",
              "       [2, 2, 1],\n",
              "       [2, 2, 1],\n",
              "       [2, 2, 1]])"
            ]
          },
          "execution_count": 26,
          "metadata": {},
          "output_type": "execute_result"
        }
      ],
      "source": [
        "np.repeat(arr1, 2, axis=0)"
      ]
    },
    {
      "cell_type": "code",
      "execution_count": null,
      "id": "ad480f1b-bf04-43c3-8503-c35d2890edd5",
      "metadata": {
        "id": "ad480f1b-bf04-43c3-8503-c35d2890edd5",
        "outputId": "772b0999-6970-4479-a077-8396d3521d57"
      },
      "outputs": [
        {
          "data": {
            "text/plain": [
              "array([[2, 1, 2],\n",
              "       [2, 1, 2],\n",
              "       [2, 1, 2],\n",
              "       [1, 1, 1],\n",
              "       [1, 1, 1],\n",
              "       [1, 1, 1],\n",
              "       [2, 2, 1],\n",
              "       [2, 2, 1],\n",
              "       [2, 2, 1]])"
            ]
          },
          "execution_count": 28,
          "metadata": {},
          "output_type": "execute_result"
        }
      ],
      "source": [
        "np.repeat(arr2, 3, axis=0)"
      ]
    },
    {
      "cell_type": "code",
      "execution_count": null,
      "id": "256796f1-7981-4495-971c-5f05aa95948c",
      "metadata": {
        "id": "256796f1-7981-4495-971c-5f05aa95948c",
        "outputId": "4ef7fee8-cef5-4978-9c90-8330b8b7e894"
      },
      "outputs": [
        {
          "data": {
            "text/plain": [
              "array([[2, 2, 2, 1, 1, 1, 2, 2, 2],\n",
              "       [1, 1, 1, 1, 1, 1, 1, 1, 1],\n",
              "       [2, 2, 2, 2, 2, 2, 1, 1, 1]])"
            ]
          },
          "execution_count": 29,
          "metadata": {},
          "output_type": "execute_result"
        }
      ],
      "source": [
        "np.repeat(arr2, 3, axis=1)"
      ]
    },
    {
      "cell_type": "code",
      "execution_count": null,
      "id": "d71f6bc7-b9cf-4cf6-9e78-b8cafe3f5beb",
      "metadata": {
        "id": "d71f6bc7-b9cf-4cf6-9e78-b8cafe3f5beb",
        "outputId": "5cf43374-c4ed-47f4-e7d4-418f61969f67"
      },
      "outputs": [
        {
          "data": {
            "text/plain": [
              "array([[1],\n",
              "       [2],\n",
              "       [3]])"
            ]
          },
          "execution_count": 30,
          "metadata": {},
          "output_type": "execute_result"
        }
      ],
      "source": [
        "a"
      ]
    },
    {
      "cell_type": "code",
      "execution_count": null,
      "id": "75f89e14-c2b7-4091-bc58-2cd925956c3f",
      "metadata": {
        "id": "75f89e14-c2b7-4091-bc58-2cd925956c3f",
        "outputId": "d179bd13-4405-47fe-f26c-f952275843b7"
      },
      "outputs": [
        {
          "data": {
            "text/plain": [
              "array([[2],\n",
              "       [3],\n",
              "       [1]])"
            ]
          },
          "execution_count": 31,
          "metadata": {},
          "output_type": "execute_result"
        }
      ],
      "source": [
        "np.roll(a, -1) #shift place"
      ]
    },
    {
      "cell_type": "code",
      "execution_count": null,
      "id": "a322c400-60e4-4100-b3bd-a3943ee081de",
      "metadata": {
        "id": "a322c400-60e4-4100-b3bd-a3943ee081de",
        "outputId": "51fb9cd8-774b-43a0-840f-f2cd5d198db8"
      },
      "outputs": [
        {
          "data": {
            "text/plain": [
              "array([[3],\n",
              "       [1],\n",
              "       [2]])"
            ]
          },
          "execution_count": 32,
          "metadata": {},
          "output_type": "execute_result"
        }
      ],
      "source": [
        "np.roll(a, -2)"
      ]
    },
    {
      "cell_type": "code",
      "execution_count": null,
      "id": "366ed3fc-723e-41ed-85e6-9f445223ec9b",
      "metadata": {
        "id": "366ed3fc-723e-41ed-85e6-9f445223ec9b"
      },
      "outputs": [],
      "source": [
        "c = np.array([[1, 2], [3, 4], [5, 6], [7, 8]])"
      ]
    },
    {
      "cell_type": "code",
      "execution_count": null,
      "id": "2820d33a-6374-4def-a37b-f677c9ad5394",
      "metadata": {
        "id": "2820d33a-6374-4def-a37b-f677c9ad5394",
        "outputId": "dd7d0ad1-e9a6-4a97-f072-bb160653b2ac"
      },
      "outputs": [
        {
          "data": {
            "text/plain": [
              "array([[1, 2],\n",
              "       [3, 4],\n",
              "       [5, 6],\n",
              "       [7, 8]])"
            ]
          },
          "execution_count": 36,
          "metadata": {},
          "output_type": "execute_result"
        }
      ],
      "source": [
        "c"
      ]
    },
    {
      "cell_type": "code",
      "execution_count": null,
      "id": "88d30056-565a-4e83-b5ec-ede9a9a4f4e4",
      "metadata": {
        "id": "88d30056-565a-4e83-b5ec-ede9a9a4f4e4",
        "outputId": "9dcb6944-7c33-4bd0-9bdf-98446c4786b9"
      },
      "outputs": [
        {
          "data": {
            "text/plain": [
              "array([[2, 3],\n",
              "       [4, 5],\n",
              "       [6, 7],\n",
              "       [8, 1]])"
            ]
          },
          "execution_count": 37,
          "metadata": {},
          "output_type": "execute_result"
        }
      ],
      "source": [
        "np.roll(c, -1)"
      ]
    },
    {
      "cell_type": "code",
      "execution_count": null,
      "id": "671cc6a9-e327-43fd-a1cd-7039dc486ea5",
      "metadata": {
        "id": "671cc6a9-e327-43fd-a1cd-7039dc486ea5",
        "outputId": "43a16dfc-4f82-4278-b1e8-dcb71ce98429"
      },
      "outputs": [
        {
          "data": {
            "text/plain": [
              "array([[1, 2],\n",
              "       [3, 4],\n",
              "       [5, 6],\n",
              "       [7, 8]])"
            ]
          },
          "execution_count": 39,
          "metadata": {},
          "output_type": "execute_result"
        }
      ],
      "source": [
        "c"
      ]
    },
    {
      "cell_type": "code",
      "execution_count": null,
      "id": "5a64cd26-e331-4c50-8c91-500303d752e2",
      "metadata": {
        "id": "5a64cd26-e331-4c50-8c91-500303d752e2",
        "outputId": "802789a6-9936-436a-8427-4f6a03bff058"
      },
      "outputs": [
        {
          "data": {
            "text/plain": [
              "array([[7, 8],\n",
              "       [1, 2],\n",
              "       [3, 4],\n",
              "       [5, 6]])"
            ]
          },
          "execution_count": 38,
          "metadata": {},
          "output_type": "execute_result"
        }
      ],
      "source": [
        "np.roll(c, 2)"
      ]
    },
    {
      "cell_type": "code",
      "execution_count": null,
      "id": "01dd6c6a-976b-47b1-9f1c-68d445f6ecb6",
      "metadata": {
        "id": "01dd6c6a-976b-47b1-9f1c-68d445f6ecb6",
        "outputId": "4827bdaa-85fc-4def-beee-f869f6b003de"
      },
      "outputs": [
        {
          "data": {
            "text/plain": [
              "array([[5, 6],\n",
              "       [7, 8],\n",
              "       [1, 2],\n",
              "       [3, 4]])"
            ]
          },
          "execution_count": 40,
          "metadata": {},
          "output_type": "execute_result"
        }
      ],
      "source": [
        "np.roll(c, 2, axis=0)"
      ]
    },
    {
      "cell_type": "code",
      "execution_count": null,
      "id": "e3e5dcd1-3935-4cd4-a83a-aaac808e6787",
      "metadata": {
        "id": "e3e5dcd1-3935-4cd4-a83a-aaac808e6787",
        "outputId": "fbebae1f-4ad3-4374-eb7e-1a2b28b978d2"
      },
      "outputs": [
        {
          "data": {
            "text/plain": [
              "array([[2, 2, 1],\n",
              "       [2, 2, 1],\n",
              "       [2, 2, 1]])"
            ]
          },
          "execution_count": 41,
          "metadata": {},
          "output_type": "execute_result"
        }
      ],
      "source": [
        "arr1"
      ]
    },
    {
      "cell_type": "code",
      "execution_count": null,
      "id": "d3398bf4-b70b-4b73-b0fa-a02547ef5976",
      "metadata": {
        "id": "d3398bf4-b70b-4b73-b0fa-a02547ef5976",
        "outputId": "c319ede8-7cf7-42e4-82f1-1dfa90b94a7a"
      },
      "outputs": [
        {
          "data": {
            "text/plain": [
              "array([[2, 1, 2],\n",
              "       [1, 1, 1],\n",
              "       [2, 2, 1]])"
            ]
          },
          "execution_count": 42,
          "metadata": {},
          "output_type": "execute_result"
        }
      ],
      "source": [
        "arr2"
      ]
    },
    {
      "cell_type": "code",
      "execution_count": null,
      "id": "d122f233-dea6-4194-8c16-d6a82eb7fcd3",
      "metadata": {
        "id": "d122f233-dea6-4194-8c16-d6a82eb7fcd3",
        "outputId": "29d92067-7d51-45ec-a1c8-eb47b8a5a453"
      },
      "outputs": [
        {
          "data": {
            "text/plain": [
              "array([[4, 3, 3],\n",
              "       [3, 3, 2],\n",
              "       [4, 4, 2]])"
            ]
          },
          "execution_count": 43,
          "metadata": {},
          "output_type": "execute_result"
        }
      ],
      "source": [
        "arr1+arr2"
      ]
    },
    {
      "cell_type": "code",
      "execution_count": null,
      "id": "48017e41-92f2-4947-83f5-f196fb615d2e",
      "metadata": {
        "id": "48017e41-92f2-4947-83f5-f196fb615d2e",
        "outputId": "0f9a98c2-ed96-4659-c644-2f9c628b4994"
      },
      "outputs": [
        {
          "data": {
            "text/plain": [
              "array([[ 0,  1, -1],\n",
              "       [ 1,  1,  0],\n",
              "       [ 0,  0,  0]])"
            ]
          },
          "execution_count": 44,
          "metadata": {},
          "output_type": "execute_result"
        }
      ],
      "source": [
        "arr1-arr2"
      ]
    },
    {
      "cell_type": "code",
      "execution_count": null,
      "id": "0fe78ace-c315-4b9a-850b-619bff480615",
      "metadata": {
        "id": "0fe78ace-c315-4b9a-850b-619bff480615",
        "outputId": "f6151858-bb10-40cf-b769-be3d24a8515b"
      },
      "outputs": [
        {
          "data": {
            "text/plain": [
              "array([[4, 2, 2],\n",
              "       [2, 2, 1],\n",
              "       [4, 4, 1]])"
            ]
          },
          "execution_count": 45,
          "metadata": {},
          "output_type": "execute_result"
        }
      ],
      "source": [
        "arr1 * arr2"
      ]
    },
    {
      "cell_type": "code",
      "execution_count": null,
      "id": "b0fe9974-aa89-4ba5-97f4-e645daba6fa6",
      "metadata": {
        "id": "b0fe9974-aa89-4ba5-97f4-e645daba6fa6",
        "outputId": "8743d30a-6027-4141-877d-322cb8c61eaf"
      },
      "outputs": [
        {
          "data": {
            "text/plain": [
              "array([[False,  True, False],\n",
              "       [ True,  True, False],\n",
              "       [False, False, False]])"
            ]
          },
          "execution_count": 46,
          "metadata": {},
          "output_type": "execute_result"
        }
      ],
      "source": [
        "arr1 > arr2"
      ]
    },
    {
      "cell_type": "code",
      "execution_count": null,
      "id": "6cdeec37-9d99-4ee4-81b5-fa34fc605a07",
      "metadata": {
        "id": "6cdeec37-9d99-4ee4-81b5-fa34fc605a07",
        "outputId": "bd5c0256-cab9-49d0-88b0-756bc2173687"
      },
      "outputs": [
        {
          "data": {
            "text/plain": [
              "array([[2, 2, 1],\n",
              "       [2, 2, 1],\n",
              "       [2, 2, 1]])"
            ]
          },
          "execution_count": 47,
          "metadata": {},
          "output_type": "execute_result"
        }
      ],
      "source": [
        "arr1"
      ]
    },
    {
      "cell_type": "code",
      "execution_count": null,
      "id": "f9ce5852-9139-46a4-bc50-04dd3e8170dc",
      "metadata": {
        "id": "f9ce5852-9139-46a4-bc50-04dd3e8170dc",
        "outputId": "07b52b83-425a-49c2-af72-80816e4960f9"
      },
      "outputs": [
        {
          "data": {
            "text/plain": [
              "array([[-3, -3, -2],\n",
              "       [-3, -3, -2],\n",
              "       [-3, -3, -2]])"
            ]
          },
          "execution_count": 48,
          "metadata": {},
          "output_type": "execute_result"
        }
      ],
      "source": [
        "~arr1"
      ]
    },
    {
      "cell_type": "code",
      "execution_count": null,
      "id": "613e887d-aa35-431b-8d36-54d687574a0e",
      "metadata": {
        "id": "613e887d-aa35-431b-8d36-54d687574a0e"
      },
      "outputs": [],
      "source": [
        "#operations on numpy string array\n",
        "\n",
        "d = np.array([\"pw\", \"skills\"])"
      ]
    },
    {
      "cell_type": "code",
      "execution_count": null,
      "id": "2c2774b9-e32a-4748-8fda-ce76dfaa2be5",
      "metadata": {
        "id": "2c2774b9-e32a-4748-8fda-ce76dfaa2be5",
        "outputId": "b27766da-c0eb-45e6-f8ef-ba46ebdb8d59"
      },
      "outputs": [
        {
          "data": {
            "text/plain": [
              "array(['pw', 'skills'], dtype='<U6')"
            ]
          },
          "execution_count": 50,
          "metadata": {},
          "output_type": "execute_result"
        }
      ],
      "source": [
        "d"
      ]
    },
    {
      "cell_type": "code",
      "execution_count": null,
      "id": "989b2347-07a5-4f45-b9fa-47946cbe5166",
      "metadata": {
        "id": "989b2347-07a5-4f45-b9fa-47946cbe5166",
        "outputId": "f4fd838e-2e69-4cdf-ff24-e26464760c5f"
      },
      "outputs": [
        {
          "data": {
            "text/plain": [
              "array(['PW', 'SKILLS'], dtype='<U6')"
            ]
          },
          "execution_count": 51,
          "metadata": {},
          "output_type": "execute_result"
        }
      ],
      "source": [
        "np.char.upper(d)"
      ]
    },
    {
      "cell_type": "code",
      "execution_count": null,
      "id": "673efb41-3be3-4206-865e-a0543874c1cb",
      "metadata": {
        "id": "673efb41-3be3-4206-865e-a0543874c1cb",
        "outputId": "54eb093e-2832-47ee-bb93-b0d679b19057"
      },
      "outputs": [
        {
          "data": {
            "text/plain": [
              "array(['Pw', 'Skills'], dtype='<U6')"
            ]
          },
          "execution_count": 52,
          "metadata": {},
          "output_type": "execute_result"
        }
      ],
      "source": [
        "np.char.capitalize(d)"
      ]
    },
    {
      "cell_type": "code",
      "execution_count": null,
      "id": "362e6421-59d2-4b2a-9bfd-db32ee740614",
      "metadata": {
        "id": "362e6421-59d2-4b2a-9bfd-db32ee740614"
      },
      "outputs": [],
      "source": [
        "#mathematical function"
      ]
    },
    {
      "cell_type": "code",
      "execution_count": null,
      "id": "a5c874a5-d08d-4be4-b6f1-d30950b28b98",
      "metadata": {
        "id": "a5c874a5-d08d-4be4-b6f1-d30950b28b98",
        "outputId": "f6e56a81-4b02-4a3b-9d39-4ea5ad6e81e2"
      },
      "outputs": [
        {
          "data": {
            "text/plain": [
              "array([[2, 2, 1],\n",
              "       [2, 2, 1],\n",
              "       [2, 2, 1]])"
            ]
          },
          "execution_count": 54,
          "metadata": {},
          "output_type": "execute_result"
        }
      ],
      "source": [
        "arr1"
      ]
    },
    {
      "cell_type": "code",
      "execution_count": null,
      "id": "d219cfcc-e894-4e92-b877-fb748cb04617",
      "metadata": {
        "id": "d219cfcc-e894-4e92-b877-fb748cb04617",
        "outputId": "60c242eb-866f-4c3f-aacd-5bdbab32331a"
      },
      "outputs": [
        {
          "data": {
            "text/plain": [
              "array([[0.90929743, 0.90929743, 0.84147098],\n",
              "       [0.90929743, 0.90929743, 0.84147098],\n",
              "       [0.90929743, 0.90929743, 0.84147098]])"
            ]
          },
          "execution_count": 55,
          "metadata": {},
          "output_type": "execute_result"
        }
      ],
      "source": [
        "np.sin(arr1)"
      ]
    },
    {
      "cell_type": "code",
      "execution_count": null,
      "id": "4ae6d216-2058-40d5-b4eb-3d1738e3f8f3",
      "metadata": {
        "id": "4ae6d216-2058-40d5-b4eb-3d1738e3f8f3",
        "outputId": "81974846-f886-4f60-a03e-0a5fe64b6281"
      },
      "outputs": [
        {
          "data": {
            "text/plain": [
              "array([[-0.41614684, -0.41614684,  0.54030231],\n",
              "       [-0.41614684, -0.41614684,  0.54030231],\n",
              "       [-0.41614684, -0.41614684,  0.54030231]])"
            ]
          },
          "execution_count": 56,
          "metadata": {},
          "output_type": "execute_result"
        }
      ],
      "source": [
        "np.cos(arr1)"
      ]
    },
    {
      "cell_type": "code",
      "execution_count": null,
      "id": "7cca2c8d-23b6-41fb-9009-dbd59fa8b9cb",
      "metadata": {
        "id": "7cca2c8d-23b6-41fb-9009-dbd59fa8b9cb",
        "outputId": "6e770680-9efc-4dd6-bf2b-010a330f9914"
      },
      "outputs": [
        {
          "data": {
            "text/plain": [
              "array([[-2.18503986, -2.18503986,  1.55740772],\n",
              "       [-2.18503986, -2.18503986,  1.55740772],\n",
              "       [-2.18503986, -2.18503986,  1.55740772]])"
            ]
          },
          "execution_count": 57,
          "metadata": {},
          "output_type": "execute_result"
        }
      ],
      "source": [
        "np.tan(arr1)"
      ]
    },
    {
      "cell_type": "code",
      "execution_count": null,
      "id": "c057001d-6eb3-498b-beeb-8cac38cf7391",
      "metadata": {
        "id": "c057001d-6eb3-498b-beeb-8cac38cf7391",
        "outputId": "cb5e8fb7-995b-4ec0-a2a1-50ebe963d08b"
      },
      "outputs": [
        {
          "data": {
            "text/plain": [
              "array([[0.30103, 0.30103, 0.     ],\n",
              "       [0.30103, 0.30103, 0.     ],\n",
              "       [0.30103, 0.30103, 0.     ]])"
            ]
          },
          "execution_count": 58,
          "metadata": {},
          "output_type": "execute_result"
        }
      ],
      "source": [
        "np.log10(arr1)"
      ]
    },
    {
      "cell_type": "code",
      "execution_count": null,
      "id": "443c3607-6c7e-44e1-af77-0cc2eb08f769",
      "metadata": {
        "id": "443c3607-6c7e-44e1-af77-0cc2eb08f769",
        "outputId": "4d822335-418e-4c65-dba4-96231164a0c2"
      },
      "outputs": [
        {
          "data": {
            "text/plain": [
              "array([[7.3890561 , 7.3890561 , 2.71828183],\n",
              "       [7.3890561 , 7.3890561 , 2.71828183],\n",
              "       [7.3890561 , 7.3890561 , 2.71828183]])"
            ]
          },
          "execution_count": 59,
          "metadata": {},
          "output_type": "execute_result"
        }
      ],
      "source": [
        "np.exp(arr1)"
      ]
    },
    {
      "cell_type": "code",
      "execution_count": null,
      "id": "8659949b-fb53-4bc6-8c4c-f3b43ae0efb9",
      "metadata": {
        "id": "8659949b-fb53-4bc6-8c4c-f3b43ae0efb9",
        "outputId": "a446654b-1ee7-46e8-cf3d-2e3f7932a32e"
      },
      "outputs": [
        {
          "data": {
            "text/plain": [
              "array([[8, 8, 1],\n",
              "       [8, 8, 1],\n",
              "       [8, 8, 1]])"
            ]
          },
          "execution_count": 60,
          "metadata": {},
          "output_type": "execute_result"
        }
      ],
      "source": [
        "np.power(arr1, 3)"
      ]
    },
    {
      "cell_type": "code",
      "execution_count": null,
      "id": "2009a827-555f-4e3d-a582-68b2e4ef5e15",
      "metadata": {
        "id": "2009a827-555f-4e3d-a582-68b2e4ef5e15",
        "outputId": "ab0418dd-f2c1-46f6-e7a8-e1f94fb27d62"
      },
      "outputs": [
        {
          "data": {
            "text/plain": [
              "2"
            ]
          },
          "execution_count": 62,
          "metadata": {},
          "output_type": "execute_result"
        }
      ],
      "source": [
        "np.max(arr1)"
      ]
    },
    {
      "cell_type": "code",
      "execution_count": null,
      "id": "74b9aa14-d3ba-4ac0-9016-b7910b74182d",
      "metadata": {
        "id": "74b9aa14-d3ba-4ac0-9016-b7910b74182d",
        "outputId": "f799f7f2-dde7-4672-8ffb-3603b0fdefe5"
      },
      "outputs": [
        {
          "data": {
            "text/plain": [
              "array([[2, 2, 1],\n",
              "       [2, 2, 1],\n",
              "       [2, 2, 1]])"
            ]
          },
          "execution_count": 63,
          "metadata": {},
          "output_type": "execute_result"
        }
      ],
      "source": [
        "arr1"
      ]
    },
    {
      "cell_type": "code",
      "execution_count": null,
      "id": "d64ba3e7-0fdd-4455-92b8-9c2da7483c6c",
      "metadata": {
        "id": "d64ba3e7-0fdd-4455-92b8-9c2da7483c6c",
        "outputId": "667cf7b0-ba14-4605-cf3a-3722fb45bec0"
      },
      "outputs": [
        {
          "data": {
            "text/plain": [
              "1.6666666666666667"
            ]
          },
          "execution_count": 64,
          "metadata": {},
          "output_type": "execute_result"
        }
      ],
      "source": [
        "np.mean(arr1)"
      ]
    },
    {
      "cell_type": "code",
      "execution_count": null,
      "id": "9d51e1a2-9fca-4e2d-b322-858936482b50",
      "metadata": {
        "id": "9d51e1a2-9fca-4e2d-b322-858936482b50",
        "outputId": "5a8ecb13-f588-4195-bb01-dd786f51b8f0"
      },
      "outputs": [
        {
          "data": {
            "text/plain": [
              "1"
            ]
          },
          "execution_count": 65,
          "metadata": {},
          "output_type": "execute_result"
        }
      ],
      "source": [
        "np.min(arr1)"
      ]
    },
    {
      "cell_type": "code",
      "execution_count": null,
      "id": "7fab71dc-9d78-40d7-b409-9d7634e5450c",
      "metadata": {
        "id": "7fab71dc-9d78-40d7-b409-9d7634e5450c",
        "outputId": "2ab5d434-0fe8-485f-9e28-1c5aa9973fe4"
      },
      "outputs": [
        {
          "data": {
            "text/plain": [
              "0.4714045207910317"
            ]
          },
          "execution_count": 66,
          "metadata": {},
          "output_type": "execute_result"
        }
      ],
      "source": [
        "np.std(arr1)"
      ]
    },
    {
      "cell_type": "code",
      "execution_count": null,
      "id": "242dd20f-1cc0-4bcd-a0df-60fa3c828c6e",
      "metadata": {
        "id": "242dd20f-1cc0-4bcd-a0df-60fa3c828c6e",
        "outputId": "751341bf-9ff1-4540-8038-654bf1271e58"
      },
      "outputs": [
        {
          "data": {
            "text/plain": [
              "0.2222222222222222"
            ]
          },
          "execution_count": 67,
          "metadata": {},
          "output_type": "execute_result"
        }
      ],
      "source": [
        "np.var(arr1)"
      ]
    },
    {
      "cell_type": "code",
      "execution_count": null,
      "id": "539cc7c5-1894-4638-9db0-fc6040fd08a6",
      "metadata": {
        "id": "539cc7c5-1894-4638-9db0-fc6040fd08a6",
        "outputId": "a6409efb-826c-47f4-a1fd-5d88aafad949"
      },
      "outputs": [
        {
          "data": {
            "text/plain": [
              "array([[ 0,  1, -1],\n",
              "       [ 1,  1,  0],\n",
              "       [ 0,  0,  0]])"
            ]
          },
          "execution_count": 68,
          "metadata": {},
          "output_type": "execute_result"
        }
      ],
      "source": [
        "arr1-arr2"
      ]
    },
    {
      "cell_type": "code",
      "execution_count": null,
      "id": "1f17a9cd-c071-408f-82b6-07c4ba2eab22",
      "metadata": {
        "id": "1f17a9cd-c071-408f-82b6-07c4ba2eab22",
        "outputId": "d40dd0f6-cdd0-4912-c457-4a7510cd1ada"
      },
      "outputs": [
        {
          "data": {
            "text/plain": [
              "array([[ 0,  1, -1],\n",
              "       [ 1,  1,  0],\n",
              "       [ 0,  0,  0]])"
            ]
          },
          "execution_count": 69,
          "metadata": {},
          "output_type": "execute_result"
        }
      ],
      "source": [
        "np.subtract(arr1, arr2)"
      ]
    },
    {
      "cell_type": "code",
      "execution_count": null,
      "id": "110b0f73-77fe-4c53-a507-92b77c9d9252",
      "metadata": {
        "id": "110b0f73-77fe-4c53-a507-92b77c9d9252",
        "outputId": "f01918b5-7c79-4045-84a6-3b85229a6098"
      },
      "outputs": [
        {
          "data": {
            "text/plain": [
              "array([[4, 2, 2],\n",
              "       [2, 2, 1],\n",
              "       [4, 4, 1]])"
            ]
          },
          "execution_count": 70,
          "metadata": {},
          "output_type": "execute_result"
        }
      ],
      "source": [
        "arr1*arr2"
      ]
    },
    {
      "cell_type": "code",
      "execution_count": null,
      "id": "8f7ad2f1-5332-4ae9-b09f-1200302286c4",
      "metadata": {
        "id": "8f7ad2f1-5332-4ae9-b09f-1200302286c4",
        "outputId": "cd54f6f4-cf5f-4ff2-e5db-9a454d1c6437"
      },
      "outputs": [
        {
          "data": {
            "text/plain": [
              "array([[4, 2, 2],\n",
              "       [2, 2, 1],\n",
              "       [4, 4, 1]])"
            ]
          },
          "execution_count": 72,
          "metadata": {},
          "output_type": "execute_result"
        }
      ],
      "source": [
        "np.multiply(arr1, arr2)"
      ]
    },
    {
      "cell_type": "code",
      "execution_count": null,
      "id": "014fa7a5-fcdb-4812-9733-9e40154a9a8e",
      "metadata": {
        "id": "014fa7a5-fcdb-4812-9733-9e40154a9a8e",
        "outputId": "b1018337-4e14-41c2-ea35-390f8e3138e5"
      },
      "outputs": [
        {
          "data": {
            "text/plain": [
              "array([[0, 0, 1],\n",
              "       [0, 0, 0],\n",
              "       [0, 0, 0]])"
            ]
          },
          "execution_count": 73,
          "metadata": {},
          "output_type": "execute_result"
        }
      ],
      "source": [
        "np.mod(arr1, arr2) #return element wise remainder"
      ]
    },
    {
      "cell_type": "code",
      "execution_count": null,
      "id": "7e9f828d-178b-4ae2-b723-b2e7ec82af58",
      "metadata": {
        "id": "7e9f828d-178b-4ae2-b723-b2e7ec82af58",
        "outputId": "423ec04c-a4fe-46b3-f986-7e7075a9ca12"
      },
      "outputs": [
        {
          "data": {
            "text/plain": [
              "array([[1.41421356, 1.41421356, 1.        ],\n",
              "       [1.41421356, 1.41421356, 1.        ],\n",
              "       [1.41421356, 1.41421356, 1.        ]])"
            ]
          },
          "execution_count": 74,
          "metadata": {},
          "output_type": "execute_result"
        }
      ],
      "source": [
        "np.sqrt(arr1)"
      ]
    },
    {
      "cell_type": "code",
      "execution_count": null,
      "id": "3c9c6e7c-ead5-4e0f-8355-f80620c44268",
      "metadata": {
        "id": "3c9c6e7c-ead5-4e0f-8355-f80620c44268"
      },
      "outputs": [],
      "source": [
        "#sorting and searching in numpy array\n",
        "e = np.array([5, 6, 1, 2])"
      ]
    },
    {
      "cell_type": "code",
      "execution_count": null,
      "id": "032c2e54-3df0-474a-8814-51c80320ba88",
      "metadata": {
        "id": "032c2e54-3df0-474a-8814-51c80320ba88",
        "outputId": "d2aa83c7-7eb7-4c67-9002-418c8d2a1e5e"
      },
      "outputs": [
        {
          "data": {
            "text/plain": [
              "array([5, 6, 1, 2])"
            ]
          },
          "execution_count": 76,
          "metadata": {},
          "output_type": "execute_result"
        }
      ],
      "source": [
        "e"
      ]
    },
    {
      "cell_type": "code",
      "execution_count": null,
      "id": "d512fb58-8c21-4e49-8775-688cd7a4c85d",
      "metadata": {
        "id": "d512fb58-8c21-4e49-8775-688cd7a4c85d",
        "outputId": "c3fdf601-57ca-4afa-aa2e-9dc56adc90fe"
      },
      "outputs": [
        {
          "data": {
            "text/plain": [
              "array([1, 2, 5, 6])"
            ]
          },
          "execution_count": 77,
          "metadata": {},
          "output_type": "execute_result"
        }
      ],
      "source": [
        "np.sort(e) #Return a sorted copy of an array."
      ]
    },
    {
      "cell_type": "code",
      "execution_count": null,
      "id": "5d313f5f-8f32-4aee-8c65-429aa6b51519",
      "metadata": {
        "id": "5d313f5f-8f32-4aee-8c65-429aa6b51519",
        "outputId": "1fa7f5db-c314-48d8-97cb-dbc39fa1404a"
      },
      "outputs": [
        {
          "data": {
            "text/plain": [
              "array([  5, 199, 200,   6,   7,   8])"
            ]
          },
          "execution_count": 78,
          "metadata": {},
          "output_type": "execute_result"
        }
      ],
      "source": [
        "f = np.array([5, 199, 200, 6, 7, 8])\n",
        "f"
      ]
    },
    {
      "cell_type": "code",
      "execution_count": null,
      "id": "5e3fc176-943f-42f8-b21e-4d13f0fb67e1",
      "metadata": {
        "id": "5e3fc176-943f-42f8-b21e-4d13f0fb67e1",
        "outputId": "bd09b5cb-3193-4b7b-aafd-a40121d6feb3"
      },
      "outputs": [
        {
          "data": {
            "text/plain": [
              "array([  5,   6,   7,   8, 199, 200])"
            ]
          },
          "execution_count": 79,
          "metadata": {},
          "output_type": "execute_result"
        }
      ],
      "source": [
        "np.sort(f)"
      ]
    },
    {
      "cell_type": "code",
      "execution_count": null,
      "id": "c17e92da-cdb8-45e1-831f-0e0d5ce09bba",
      "metadata": {
        "id": "c17e92da-cdb8-45e1-831f-0e0d5ce09bba",
        "outputId": "f7233d52-a31a-4746-96dc-0cdaa74ed6a7"
      },
      "outputs": [
        {
          "data": {
            "text/plain": [
              "6"
            ]
          },
          "execution_count": 80,
          "metadata": {},
          "output_type": "execute_result"
        }
      ],
      "source": [
        "np.searchsorted(f, 170) #Find indices where elements should be inserted to maintain order."
      ]
    },
    {
      "cell_type": "code",
      "execution_count": null,
      "id": "2d3daab4-931b-4990-b5b1-661d8cfd7309",
      "metadata": {
        "id": "2d3daab4-931b-4990-b5b1-661d8cfd7309",
        "outputId": "a58b8888-6a14-4245-cd45-bd0afa8ce92d"
      },
      "outputs": [
        {
          "data": {
            "text/plain": [
              "array([  5, 199, 200,   0,   0,   0,   0,   6,   7,   8])"
            ]
          },
          "execution_count": 81,
          "metadata": {},
          "output_type": "execute_result"
        }
      ],
      "source": [
        "f = np.array([5, 199, 200,0, 0, 0, 0, 6, 7, 8])\n",
        "f"
      ]
    },
    {
      "cell_type": "code",
      "execution_count": null,
      "id": "01be724b-8d7b-43be-94b1-8bfcc7369e83",
      "metadata": {
        "id": "01be724b-8d7b-43be-94b1-8bfcc7369e83",
        "outputId": "d7b68f5b-cff2-4e93-b7a5-26e3236efe53"
      },
      "outputs": [
        {
          "data": {
            "text/plain": [
              "6"
            ]
          },
          "execution_count": 83,
          "metadata": {},
          "output_type": "execute_result"
        }
      ],
      "source": [
        "np.count_nonzero(f)"
      ]
    },
    {
      "cell_type": "code",
      "execution_count": null,
      "id": "321697f5-839e-489b-97ca-f46ad03c6435",
      "metadata": {
        "id": "321697f5-839e-489b-97ca-f46ad03c6435",
        "outputId": "8cf9129d-2411-4898-9c45-414d2ae2d5a6"
      },
      "outputs": [
        {
          "data": {
            "text/plain": [
              "array([  5, 199, 200,   6,   7,   8])"
            ]
          },
          "execution_count": 85,
          "metadata": {},
          "output_type": "execute_result"
        }
      ],
      "source": [
        "f[f>0]"
      ]
    },
    {
      "cell_type": "code",
      "execution_count": null,
      "id": "875a48dd-a3fd-4bf7-b7b4-9a5cdb5dadf5",
      "metadata": {
        "id": "875a48dd-a3fd-4bf7-b7b4-9a5cdb5dadf5",
        "outputId": "ec22d14f-4356-41b9-e1af-927f282df8f5"
      },
      "outputs": [
        {
          "data": {
            "text/plain": [
              "(array([0, 1, 2, 7, 8, 9]),)"
            ]
          },
          "execution_count": 86,
          "metadata": {},
          "output_type": "execute_result"
        }
      ],
      "source": [
        "np.where(f>0) #same as above condition"
      ]
    },
    {
      "cell_type": "code",
      "execution_count": null,
      "id": "45b440ff-741f-4bb4-86c0-6aa1eb64b558",
      "metadata": {
        "id": "45b440ff-741f-4bb4-86c0-6aa1eb64b558",
        "outputId": "1244508a-e3de-4c14-b0dc-6c594cca4a6b"
      },
      "outputs": [
        {
          "data": {
            "text/plain": [
              "array([  5, 199, 200,   6,   7,   8])"
            ]
          },
          "execution_count": 87,
          "metadata": {},
          "output_type": "execute_result"
        }
      ],
      "source": [
        "np.extract(f>0, f) #same as above condition"
      ]
    },
    {
      "cell_type": "code",
      "execution_count": null,
      "id": "234aeb1e-2894-4312-9fff-58926b209e47",
      "metadata": {
        "id": "234aeb1e-2894-4312-9fff-58926b209e47",
        "outputId": "be368008-bad0-40b8-df66-7319d97f32a7"
      },
      "outputs": [
        {
          "data": {
            "text/plain": [
              "array([  5, 199, 200,   0,   0,   0,   0,   6,   7,   8])"
            ]
          },
          "execution_count": 88,
          "metadata": {},
          "output_type": "execute_result"
        }
      ],
      "source": [
        "f"
      ]
    },
    {
      "cell_type": "code",
      "execution_count": null,
      "id": "381edee1-2e3d-4c66-ac96-51c51c7e6d2a",
      "metadata": {
        "id": "381edee1-2e3d-4c66-ac96-51c51c7e6d2a",
        "outputId": "dbfc087c-6444-4d26-8eb0-b2c4862ddf2b"
      },
      "outputs": [
        {
          "data": {
            "text/plain": [
              "array([  360287970189639680, -4107282860161892352, -4035225266123964416,\n",
              "                          0,                    0,                    0,\n",
              "                          0,   432345564227567616,   504403158265495552,\n",
              "         576460752303423488])"
            ]
          },
          "execution_count": 89,
          "metadata": {},
          "output_type": "execute_result"
        }
      ],
      "source": [
        "f.byteswap() #Swap the bytes of the array elements"
      ]
    },
    {
      "cell_type": "code",
      "execution_count": null,
      "id": "337ca5ba-f8b2-45e6-bb31-ce0e5a2fdf5b",
      "metadata": {
        "id": "337ca5ba-f8b2-45e6-bb31-ce0e5a2fdf5b",
        "outputId": "bea9f0ee-d68a-41ea-9a25-5ed2d77160ed"
      },
      "outputs": [
        {
          "data": {
            "text/plain": [
              "matrix([[0., 0., 0., 0., 0.]])"
            ]
          },
          "execution_count": 90,
          "metadata": {},
          "output_type": "execute_result"
        }
      ],
      "source": [
        "import numpy.matlib as nm\n",
        "nm.zeros(5)"
      ]
    },
    {
      "cell_type": "code",
      "execution_count": null,
      "id": "fdbff4a4-c2b9-46e4-a04f-35c2aeaa2784",
      "metadata": {
        "id": "fdbff4a4-c2b9-46e4-a04f-35c2aeaa2784",
        "outputId": "47f4a3c7-7879-4387-da57-bd2367522bc0"
      },
      "outputs": [
        {
          "data": {
            "text/plain": [
              "matrix([[1., 1., 1., 1.],\n",
              "        [1., 1., 1., 1.],\n",
              "        [1., 1., 1., 1.]])"
            ]
          },
          "execution_count": 92,
          "metadata": {},
          "output_type": "execute_result"
        }
      ],
      "source": [
        "nm.ones((3, 4))"
      ]
    },
    {
      "cell_type": "code",
      "execution_count": null,
      "id": "311637cd-e7a7-4900-b14a-94085bd8c9ed",
      "metadata": {
        "id": "311637cd-e7a7-4900-b14a-94085bd8c9ed"
      },
      "outputs": [],
      "source": [
        "#numpy linear algebra(optonal)"
      ]
    },
    {
      "cell_type": "code",
      "execution_count": null,
      "id": "2b987811-28b7-4fad-813a-d194a6224f50",
      "metadata": {
        "id": "2b987811-28b7-4fad-813a-d194a6224f50",
        "outputId": "d0ef37f5-8ae8-47a2-ad52-c860a42398eb"
      },
      "outputs": [
        {
          "data": {
            "text/plain": [
              "array([[2, 2, 1],\n",
              "       [2, 2, 1],\n",
              "       [2, 2, 1]])"
            ]
          },
          "execution_count": 94,
          "metadata": {},
          "output_type": "execute_result"
        }
      ],
      "source": [
        "arr1"
      ]
    },
    {
      "cell_type": "code",
      "execution_count": null,
      "id": "31a8ebc9-1e9b-485e-a7c9-34d7155d2605",
      "metadata": {
        "id": "31a8ebc9-1e9b-485e-a7c9-34d7155d2605",
        "outputId": "3fb5d243-2344-4e21-8254-56784afdfec6"
      },
      "outputs": [
        {
          "data": {
            "text/plain": [
              "array([[2, 1, 2],\n",
              "       [1, 1, 1],\n",
              "       [2, 2, 1]])"
            ]
          },
          "execution_count": 95,
          "metadata": {},
          "output_type": "execute_result"
        }
      ],
      "source": [
        "arr2"
      ]
    },
    {
      "cell_type": "code",
      "execution_count": null,
      "id": "3a874d84-d4fd-4911-a442-ccf4b268646c",
      "metadata": {
        "id": "3a874d84-d4fd-4911-a442-ccf4b268646c",
        "outputId": "3364d38d-c0c9-4f44-f1da-cbdf6a56d410"
      },
      "outputs": [
        {
          "data": {
            "text/plain": [
              "array([[8, 6, 7],\n",
              "       [8, 6, 7],\n",
              "       [8, 6, 7]])"
            ]
          },
          "execution_count": 96,
          "metadata": {},
          "output_type": "execute_result"
        }
      ],
      "source": [
        "arr1@arr2"
      ]
    },
    {
      "cell_type": "code",
      "execution_count": null,
      "id": "4e80397f-9cd4-4bd2-bf03-fadcbe9127cc",
      "metadata": {
        "id": "4e80397f-9cd4-4bd2-bf03-fadcbe9127cc",
        "outputId": "693813ec-1bea-4bb4-c716-02008ba6462b"
      },
      "outputs": [
        {
          "data": {
            "text/plain": [
              "array([[2, 2, 1],\n",
              "       [2, 2, 1],\n",
              "       [2, 2, 1]])"
            ]
          },
          "execution_count": 97,
          "metadata": {},
          "output_type": "execute_result"
        }
      ],
      "source": [
        "arr1"
      ]
    },
    {
      "cell_type": "code",
      "execution_count": null,
      "id": "aeab5f20-59e7-4b1f-8d48-f8a5e5fb4fe5",
      "metadata": {
        "id": "aeab5f20-59e7-4b1f-8d48-f8a5e5fb4fe5",
        "outputId": "a34e5650-5f77-475f-d3dd-2c1390de6484"
      },
      "outputs": [
        {
          "data": {
            "text/plain": [
              "0.0"
            ]
          },
          "execution_count": 98,
          "metadata": {},
          "output_type": "execute_result"
        }
      ],
      "source": [
        "np.linalg.det(arr1)"
      ]
    },
    {
      "cell_type": "code",
      "execution_count": null,
      "id": "bc8130cf-ef91-4329-bc30-ff53850624e2",
      "metadata": {
        "id": "bc8130cf-ef91-4329-bc30-ff53850624e2",
        "outputId": "ee88304b-885c-4dd4-9d15-ab2ffc3218be"
      },
      "outputs": [
        {
          "data": {
            "text/plain": [
              "-1.0"
            ]
          },
          "execution_count": 99,
          "metadata": {},
          "output_type": "execute_result"
        }
      ],
      "source": [
        "np.linalg.det(arr2)"
      ]
    },
    {
      "cell_type": "code",
      "execution_count": null,
      "id": "cd6ae451-6cd8-4c66-9f4f-3df46287f789",
      "metadata": {
        "id": "cd6ae451-6cd8-4c66-9f4f-3df46287f789",
        "outputId": "a1f68338-0f02-47ea-bc3d-c4f4fe5a167a"
      },
      "outputs": [
        {
          "data": {
            "text/plain": [
              "array([[ 1., -3.,  1.],\n",
              "       [-1.,  2.,  0.],\n",
              "       [ 0.,  2., -1.]])"
            ]
          },
          "execution_count": 101,
          "metadata": {},
          "output_type": "execute_result"
        }
      ],
      "source": [
        "#in matrix you can not devide by another matrix, you have inverse\n",
        "np.linalg.inv(arr2)"
      ]
    },
    {
      "cell_type": "code",
      "execution_count": null,
      "id": "a9fb40e8-c449-412a-9578-229e5cdde1f7",
      "metadata": {
        "id": "a9fb40e8-c449-412a-9578-229e5cdde1f7",
        "outputId": "48f0b132-a627-43be-84ce-d4f26b55c66d"
      },
      "outputs": [
        {
          "data": {
            "text/plain": [
              "array([[ 7. ,  5.3, -3. ],\n",
              "       [ 3. , -5. ,  2. ],\n",
              "       [ 5. ,  3. , -7. ]])"
            ]
          },
          "execution_count": 102,
          "metadata": {},
          "output_type": "execute_result"
        }
      ],
      "source": [
        "a = np.array([[7, 5.3, -3], [3, -5, 2], [5, 3, -7]])\n",
        "a"
      ]
    },
    {
      "cell_type": "code",
      "execution_count": null,
      "id": "fe571c51-1823-4972-8f75-b32936f592c4",
      "metadata": {
        "id": "fe571c51-1823-4972-8f75-b32936f592c4"
      },
      "outputs": [],
      "source": [
        "b = np.array([16, 8, 0])"
      ]
    },
    {
      "cell_type": "code",
      "execution_count": null,
      "id": "f5f8368b-13b9-4669-ba03-eae1bd4ac1f8",
      "metadata": {
        "id": "f5f8368b-13b9-4669-ba03-eae1bd4ac1f8",
        "outputId": "18836f28-6192-4b49-be89-5258cb9e288a"
      },
      "outputs": [
        {
          "data": {
            "text/plain": [
              "array([2.59630607, 0.84432718, 2.21635884])"
            ]
          },
          "execution_count": 104,
          "metadata": {},
          "output_type": "execute_result"
        }
      ],
      "source": [
        "np.linalg.solve(a, b)"
      ]
    },
    {
      "cell_type": "code",
      "execution_count": null,
      "id": "9d33e0cf-76be-4d9b-8306-608dde0cd933",
      "metadata": {
        "id": "9d33e0cf-76be-4d9b-8306-608dde0cd933"
      },
      "outputs": [],
      "source": []
    }
  ],
  "metadata": {
    "kernelspec": {
      "display_name": "Python 3 (ipykernel)",
      "language": "python",
      "name": "python3"
    },
    "language_info": {
      "codemirror_mode": {
        "name": "ipython",
        "version": 3
      },
      "file_extension": ".py",
      "mimetype": "text/x-python",
      "name": "python",
      "nbconvert_exporter": "python",
      "pygments_lexer": "ipython3",
      "version": "3.10.8"
    },
    "colab": {
      "provenance": [],
      "include_colab_link": true
    }
  },
  "nbformat": 4,
  "nbformat_minor": 5
}